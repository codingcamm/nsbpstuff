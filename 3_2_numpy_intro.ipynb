{
 "cells": [
  {
   "cell_type": "code",
   "execution_count": 3,
   "id": "78c64e64-cbf2-4aa4-aced-89a2b83b601d",
   "metadata": {},
   "outputs": [],
   "source": [
    "import numpy as np\n",
    "import matplotlib.pyplot as plt"
   ]
  },
  {
   "cell_type": "markdown",
   "id": "934468fa-9aa9-498d-b4f0-0c941e016f27",
   "metadata": {},
   "source": [
    "## Plan for this afternoon\n",
    "\n",
    "* Numpy\n",
    "    * Working with arrays\n",
    "* Scipy\n",
    "    * Fitting curves"
   ]
  },
  {
   "cell_type": "markdown",
   "id": "5ed81daa-f6e4-4a01-ab13-2a65b3187092",
   "metadata": {},
   "source": [
    "## Numpy"
   ]
  },
  {
   "cell_type": "markdown",
   "id": "e1889de3-05e0-4d27-83ec-51abe277120e",
   "metadata": {},
   "source": [
    "Numpy is one of the most widely used Python libraries for scientific computing. \n",
    "Almost (if not all) Python programs that you will write will make use of Numpy.\n",
    "The Numpy website has provided some examples of scientific research projects that used Numpy:\n",
    "\n",
    "* First image of a Black Hole: https://numpy.org/case-studies/blackhole-image/\n",
    "* Discovery of Gravitational Waves: https://numpy.org/case-studies/gw-discov/\n",
    "\n",
    "Among the things you can do with Numpy are:\n",
    "\n",
    "* Mathematical and logical opreations on arrays\n",
    "* Fourier transforms\n",
    "* Linear algebra operations\n"
   ]
  },
  {
   "cell_type": "markdown",
   "id": "76976cbb-63a8-41b1-b3a7-e1f7cee0953e",
   "metadata": {},
   "source": [
    "#### What is an array?\n",
    "\n",
    "We can think of an array as a vector or a list of numbers. \n",
    "\n",
    "For example, let's imagine that you throw a ball from the top of a building (height $y_{o}= 80m$) with a horizontal velocity of $v_{o,x}=5m/s$. You would like to model the position (vertical and horizontal displacement) of the ball as a function of time. Let's ignore air-resistance for now and recall $g=9.81 m/s^{2}$.\n",
    "\n",
    "Using kinematics equations for constant acceleration and constant velocity, we have that the horizontal and vertical positions of the ball are given by the following equations:\n",
    "\n",
    "$y(t) = y_{o} - \\frac{1}{2}gt^{2}$ \n",
    "\n",
    "\n",
    "$x(t) = v_{o,x}t $\n",
    "\n",
    "\n",
    "We can pick a time, say $t=2s$ and calculate the vertical and horizontal positions at that time. If we are very motivated, we can try to do the same for five different times. But what if we wanted to know the positions at 100 diferent times? Doing the calculation again and again for each time value is tedious!\n",
    "\n",
    "Let your computer do the boring (and repetitive) work by using Numpy.\n",
    "\n",
    "First, let's assume you would like to know the positions for all the time values between 0 an 4 seconds in increments of 0.1 seconds, i.e. $[0,0.1,0.2,...3.9,4.0]$. You can create a numpy array, which is just a list of numbers:"
   ]
  },
  {
   "cell_type": "code",
   "execution_count": 35,
   "id": "58489be5-2241-4939-abeb-8204e01ea55d",
   "metadata": {},
   "outputs": [],
   "source": [
    "t_array = np.arange(0,4.1,0.1)"
   ]
  },
  {
   "cell_type": "markdown",
   "id": "9bb566fa-5f09-43e2-9b8a-8a1c517f2618",
   "metadata": {},
   "source": [
    "In the line above, the first number is the start of the list, the second number is the end and the third number is the step size.\n",
    "This is what t_array looks like:"
   ]
  },
  {
   "cell_type": "code",
   "execution_count": 36,
   "id": "bcac6d37-b7e9-431d-a14f-ab3dcacae0d5",
   "metadata": {},
   "outputs": [
    {
     "name": "stdout",
     "output_type": "stream",
     "text": [
      "[0.  0.1 0.2 0.3 0.4 0.5 0.6 0.7 0.8 0.9 1.  1.1 1.2 1.3 1.4 1.5 1.6 1.7\n",
      " 1.8 1.9 2.  2.1 2.2 2.3 2.4 2.5 2.6 2.7 2.8 2.9 3.  3.1 3.2 3.3 3.4 3.5\n",
      " 3.6 3.7 3.8 3.9 4. ]\n"
     ]
    }
   ],
   "source": [
    "print(t_array)"
   ]
  },
  {
   "cell_type": "markdown",
   "id": "8ad85221-25a7-4716-b6c3-151f0081fbfa",
   "metadata": {},
   "source": [
    "Now, let's create variables for all the other quantities in this kinematics problem. The variables are just single numbers, not arrays."
   ]
  },
  {
   "cell_type": "code",
   "execution_count": 37,
   "id": "d85485bb-d5c1-4e28-8f78-d51493ce01de",
   "metadata": {},
   "outputs": [],
   "source": [
    "g = 9.81 #m/s^2  GRAVITY\n",
    "y_0 = 80 #m      BUILDING HEIGHT\n",
    "v_x0 = 5 #m/s    HORIZONTAL VELOCITY OF THE BALL"
   ]
  },
  {
   "cell_type": "markdown",
   "id": "ba51fdb8-2a29-4962-84cb-a58e0513e6f8",
   "metadata": {},
   "source": [
    "Recall, to calculate the horizontal displacement of the ball we need to use this equation:\n",
    "\n",
    "$x(t) = v_{o,x}t $ \n",
    "\n",
    "To implement this using Numpy, we multiply the time array by the horizontal velocity variable and store the result in a different array:"
   ]
  },
  {
   "cell_type": "code",
   "execution_count": 38,
   "id": "7323b667-5c64-4735-a739-ea523a5d45cf",
   "metadata": {},
   "outputs": [],
   "source": [
    "x_array = v_x0 * t_array"
   ]
  },
  {
   "cell_type": "markdown",
   "id": "998bcf9e-b884-4668-ad97-3cfcf6ca84c2",
   "metadata": {},
   "source": [
    "What does x_array look like?"
   ]
  },
  {
   "cell_type": "code",
   "execution_count": 39,
   "id": "f4207787-ee23-49b9-b4fe-8754b7a07d67",
   "metadata": {},
   "outputs": [
    {
     "name": "stdout",
     "output_type": "stream",
     "text": [
      "[ 0.   0.5  1.   1.5  2.   2.5  3.   3.5  4.   4.5  5.   5.5  6.   6.5\n",
      "  7.   7.5  8.   8.5  9.   9.5 10.  10.5 11.  11.5 12.  12.5 13.  13.5\n",
      " 14.  14.5 15.  15.5 16.  16.5 17.  17.5 18.  18.5 19.  19.5 20. ]\n"
     ]
    }
   ],
   "source": [
    "print(x_array)"
   ]
  },
  {
   "cell_type": "markdown",
   "id": "2e436143-c7f6-4b4c-87da-d5a6fcf633d7",
   "metadata": {},
   "source": [
    "x_array is also a list (an array) of numbers. What did we do when we multiplied v_x0 by t_array? We just multiplied each element in the time array by the velocity."
   ]
  },
  {
   "cell_type": "markdown",
   "id": "19bd264f-19cd-4ee4-bac3-eb663063bb78",
   "metadata": {},
   "source": [
    "You can also square each element of an array as follows:"
   ]
  },
  {
   "cell_type": "code",
   "execution_count": 40,
   "id": "91fc3b24-8e9d-4696-8c9d-329f6da23d2f",
   "metadata": {},
   "outputs": [
    {
     "name": "stdout",
     "output_type": "stream",
     "text": [
      "a =  [0 1 2 3 4] \n",
      "a^2= [ 0  1  4  9 16]\n"
     ]
    }
   ],
   "source": [
    "a = np.arange(0,5,1)\n",
    "a_squared = a**2  #This is how you square an array\n",
    "\n",
    "print(\"a = \",a ,\"\\na^2=\",a_squared )\n",
    "\n"
   ]
  },
  {
   "cell_type": "markdown",
   "id": "a7b048d3-4de5-4892-a5b6-c86d74de46bd",
   "metadata": {},
   "source": [
    "Finally, you can also add or subtract the same number to each of the elements in an array:"
   ]
  },
  {
   "cell_type": "code",
   "execution_count": 41,
   "id": "48f5b8e1-9d8f-47de-a418-7d7832aab28d",
   "metadata": {},
   "outputs": [
    {
     "name": "stdout",
     "output_type": "stream",
     "text": [
      "b =  [0 1 2 3 4 5 6 7 8 9] \n",
      "b+n =  [ 2.3  3.3  4.3  5.3  6.3  7.3  8.3  9.3 10.3 11.3]\n",
      "b =  [0 1 2 3 4 5 6 7 8 9] \n",
      "b-n =  [-2.3 -1.3 -0.3  0.7  1.7  2.7  3.7  4.7  5.7  6.7]\n"
     ]
    }
   ],
   "source": [
    "b = np.arange(0,10,1)\n",
    "n = 2.3 #this is the number we want to add (or subtract)\n",
    "b_minus_n = b-n \n",
    "b_plus_n = b+n\n",
    "\n",
    "print(\"b = \",b,\"\\nb+n = \", b_plus_n)\n",
    "print(\"b = \",b,\"\\nb-n = \", b_minus_n)\n"
   ]
  },
  {
   "cell_type": "markdown",
   "id": "c480fba6-ca82-4571-93d6-ef71f74c6228",
   "metadata": {},
   "source": [
    "#### Exercise "
   ]
  },
  {
   "cell_type": "markdown",
   "id": "a5d20a87-b0c5-4f39-a1d0-14ee42edb7a8",
   "metadata": {},
   "source": [
    "Now is your turn to use arrays to calculate the vertical displacement of the ball from times 0 to 4 seconds (in steps of 0.1 seconds) using the following formula:\n",
    "\n",
    "$y(t) = y_{o} - \\frac{1}{2}gt^{2}$ \n",
    "\n",
    "Recall, we had already stored the variables for $y_{o}$ and $g$ above so there is no need to declare this variables again. Scroll back up and find the code block where we declared these variables.\n",
    "\n",
    "Recall also, we already made an array for time and called it t_array.\n",
    "\n",
    "(store the vertical displacement of the ball as an array called y_array)."
   ]
  },
  {
   "cell_type": "code",
   "execution_count": 2,
   "id": "a3f1a74f-0e9f-4d24-b6df-17055a2d8ba9",
   "metadata": {},
   "outputs": [],
   "source": [
    "###Your code goes here ####"
   ]
  },
  {
   "cell_type": "markdown",
   "id": "1322f445-0805-499a-9cad-333fcc030bea",
   "metadata": {},
   "source": [
    "Sanity check. The path that a ball falling from the building with an initial horizontal velocty is a parabola. How can we check if the horizontal and vertical displacements of the ball indeed follow that trajectory?\n",
    "\n",
    "Let's plot them (no worries if the following piece of code does not make sense, we will go over how to plot arrays later this week)."
   ]
  },
  {
   "cell_type": "code",
   "execution_count": null,
   "id": "8d151b5d-a766-4d76-b19d-1ed6c7018c65",
   "metadata": {},
   "outputs": [
    {
     "data": {
      "text/plain": [
       "Text(0.5, 1.0, 'Parabolic motion of the ball')"
      ]
     },
     "execution_count": 58,
     "metadata": {},
     "output_type": "execute_result"
    },
    {
     "data": {
      "image/png": "[encoded data removed]",
      "text/plain": [
       "<Figure size 432x288 with 1 Axes>"
      ]
     },
     "metadata": {
      "needs_background": "light"
     },
     "output_type": "display_data"
    }
   ],
   "source": [
    "plt.plot(x_array,y_array)\n",
    "plt.xlabel(\"Horizontal displacement (m)\")\n",
    "plt.ylabel(\"Vertical displacement (m)\")\n",
    "plt.title(\"Parabolic motion of the ball\")"
   ]
  },
  {
   "cell_type": "markdown",
   "id": "fc90d36d-688f-4fca-9d44-c03cfef6c7e7",
   "metadata": {},
   "source": [
    "### Array indexing and slicing\n",
    "\n",
    "So far we have only seen examples where we multiply an array by a single number, or where we add or subtract one number to each element in an array. \n",
    "|\n",
    "However, it is possible to add an array to another, or multiply two arrays with each other.\n",
    "\n",
    "The only requirement is that both arrays need to have the same length or shape. What do we mean by shape? Well, arrays be 2 dimensional. For example:"
   ]
  },
  {
   "cell_type": "code",
   "execution_count": 74,
   "id": "91482e5d-3bb6-41d9-bac8-060569f55cbb",
   "metadata": {},
   "outputs": [
    {
     "name": "stdout",
     "output_type": "stream",
     "text": [
      "[[1 2]\n",
      " [3 4]\n",
      " [5 6]]\n"
     ]
    }
   ],
   "source": [
    "data=np.array([[1,2],[3,4],[5,6]])\n",
    "print(data)"
   ]
  },
  {
   "cell_type": "markdown",
   "id": "ab4848f2-bde8-4a23-9726-008efe84a8fa",
   "metadata": {},
   "source": [
    "This array has a shape of (3,2), in other words, 3 rows and 2 columns. "
   ]
  },
  {
   "cell_type": "code",
   "execution_count": 75,
   "id": "ecc87387-2eff-47b5-91a5-8a5228d704b9",
   "metadata": {},
   "outputs": [
    {
     "name": "stdout",
     "output_type": "stream",
     "text": [
      "shape of data array = (3, 2)\n"
     ]
    }
   ],
   "source": [
    "print(\"shape of data array =\",data.shape)"
   ]
  },
  {
   "cell_type": "markdown",
   "id": "e2f0cc10-f8ad-4c03-9ff3-850d8bd9755a",
   "metadata": {},
   "source": [
    "To access specific elements in the array we use indexing. When indexing, we use the row and column numbers of the element we want to access.\n",
    "\n",
    "In Python, we begin numbering stuff with 0. So the first column is \"column 0\", the second column is \"column 1\" and so on. The same is for rows.\n",
    "\n",
    "For example, if we wanted to access the element that contains number 2 in the data array, we would index it with row = 0 (first row), column = 1 (second column)."
   ]
  },
  {
   "cell_type": "code",
   "execution_count": 77,
   "id": "26cddb31-4585-4392-82fc-227c01fdb191",
   "metadata": {},
   "outputs": [
    {
     "name": "stdout",
     "output_type": "stream",
     "text": [
      "2\n"
     ]
    }
   ],
   "source": [
    "print(data[0,1])"
   ]
  },
  {
   "cell_type": "markdown",
   "id": "db894a37-283b-45a3-b780-d0acc5aef0cf",
   "metadata": {},
   "source": [
    "We an also access several elements at once. For example, if we wanted to access all the elements starting from the second row (row=1), we would do the following:"
   ]
  },
  {
   "cell_type": "code",
   "execution_count": 83,
   "id": "a759a33c-7211-4851-b940-c4df6a914257",
   "metadata": {},
   "outputs": [
    {
     "data": {
      "text/plain": [
       "array([[3, 4],\n",
       "       [5, 6]])"
      ]
     },
     "execution_count": 83,
     "metadata": {},
     "output_type": "execute_result"
    }
   ],
   "source": [
    "data[1:3] #access everything from row 1 till row 3 "
   ]
  },
  {
   "cell_type": "markdown",
   "id": "403cec0a-c7c7-46b2-8bcd-149cd7181034",
   "metadata": {},
   "source": [
    "If in turn, we wanted to access the first two elements in column 0, we would do the following:"
   ]
  },
  {
   "cell_type": "code",
   "execution_count": 84,
   "id": "748cdc3a-d5ef-461e-aa3c-bc8e8976b173",
   "metadata": {},
   "outputs": [
    {
     "data": {
      "text/plain": [
       "array([1, 3])"
      ]
     },
     "execution_count": 84,
     "metadata": {},
     "output_type": "execute_result"
    }
   ],
   "source": [
    "data[0:2,0]"
   ]
  },
  {
   "cell_type": "markdown",
   "id": "de693894-3fb8-45e6-af12-9e1705202644",
   "metadata": {},
   "source": [
    "We can visualize this array and the indexing example with this diagram:"
   ]
  },
  {
   "cell_type": "markdown",
   "id": "18a2f3f0-830d-4b60-bcac-38dabed0d03c",
   "metadata": {},
   "source": [
    "![Cat](images/numpy-matrix-indexing.png)"
   ]
  },
  {
   "cell_type": "markdown",
   "id": "68554d29-4b48-4999-be9d-96ccbf3581ce",
   "metadata": {},
   "source": [
    "#### Exercise\n",
    "\n",
    "Write code to access number 3 in the data array."
   ]
  },
  {
   "cell_type": "code",
   "execution_count": 85,
   "id": "f6d4297b-73b9-4cca-ae14-5413849d3fbd",
   "metadata": {},
   "outputs": [],
   "source": [
    "###HERE GOES YOUR CODE"
   ]
  },
  {
   "cell_type": "markdown",
   "id": "1d6f695b-7d71-4860-b4da-3d3a0680329b",
   "metadata": {},
   "source": [
    "#### Exercise\n",
    "\n",
    "Write code to access numbers 4 and 6 in the data array."
   ]
  },
  {
   "cell_type": "code",
   "execution_count": null,
   "id": "76ba731a-679f-44a6-b5af-3fd08fed2122",
   "metadata": {},
   "outputs": [],
   "source": [
    "###HERE GOES YOUR CODE"
   ]
  },
  {
   "cell_type": "markdown",
   "id": "cc588850-87b8-4e96-a1f8-0ac09651ccab",
   "metadata": {},
   "source": [
    "#### Exercise\n",
    "\n",
    "Write code to access numbers 1,2,3,4 in the data array."
   ]
  },
  {
   "cell_type": "code",
   "execution_count": 86,
   "id": "e2bca681-df5f-458b-971a-d6eae733a346",
   "metadata": {},
   "outputs": [],
   "source": [
    "###HERE GOES YOUR CODE"
   ]
  },
  {
   "cell_type": "markdown",
   "id": "cd9f277d-01e4-4eab-a920-e1f9c5f29184",
   "metadata": {},
   "source": [
    "Some very useful python functions that you cna use to figure out the length and shape of an array are:"
   ]
  },
  {
   "cell_type": "code",
   "execution_count": 117,
   "id": "1c5f2e4a-00a0-4b9d-acbb-dabf2edb881f",
   "metadata": {},
   "outputs": [
    {
     "data": {
      "text/plain": [
       "3"
      ]
     },
     "execution_count": 117,
     "metadata": {},
     "output_type": "execute_result"
    }
   ],
   "source": [
    "len(data) ##length"
   ]
  },
  {
   "cell_type": "code",
   "execution_count": 118,
   "id": "f57cfa52-dfbb-42fa-87c7-5f1e9d5e8af1",
   "metadata": {},
   "outputs": [
    {
     "data": {
      "text/plain": [
       "(3, 2)"
      ]
     },
     "execution_count": 118,
     "metadata": {},
     "output_type": "execute_result"
    }
   ],
   "source": [
    "data.shape ##shape"
   ]
  },
  {
   "cell_type": "markdown",
   "id": "8c800829-6e94-4cc6-a6b3-20594ebc0ad7",
   "metadata": {},
   "source": [
    "### Adding arrays\n",
    "\n",
    "So far, we saw an example where we added the same number to each element in an array. We can also take two arrays (say array A and array B) of the same length and add them. Numpy will add the first element of array A to the first element of array B and so on. To see this in action, let's work through an example."
   ]
  },
  {
   "cell_type": "markdown",
   "id": "7aaea237-6cdd-4cd4-bec5-4aea3bc18d13",
   "metadata": {},
   "source": [
    "\n",
    "Imagine that you have two waves with different frequency and a phase offset between them:\n",
    "\n",
    "$ y_{1}(t) = A \\sin(\\omega_{1} t)$\n",
    "\n",
    "$ y_{2}(t) = A \\sin( \\omega_{2} t + \\phi) $\n",
    "\n",
    "where $A = 4$,$\\omega_1 = 4 rad s^{-1}$, $\\omega_2 = 5 rad s^{-1}$ and $\\phi = 2/6 rad$\n",
    "\n",
    "How can we model their interference? \n",
    "\n",
    "We can add the two waves!\n",
    "\n",
    "$ y_{total}(t) = y_{1}(t) + y_{2}(t)$\n",
    "\n",
    "But what does that actually look like?\n",
    "\n",
    "Let's make arrays to understand what these waves look like. First we will need to create arrays for the x (position) and t (time) variables. Let's also create variables for $k$, $\\omega$ (omega) and $\\phi$ (phi):"
   ]
  },
  {
   "cell_type": "code",
   "execution_count": 108,
   "id": "b8b28f4a-d009-4c4f-beef-33ef325d9375",
   "metadata": {},
   "outputs": [],
   "source": [
    "t_arr = np.linspace(0,10,1000)\n",
    "omega_1 = 4 #per second\n",
    "omega_2 = 5 #per second\n",
    "phi = 2/6\n",
    "A = 4"
   ]
  },
  {
   "cell_type": "code",
   "execution_count": 109,
   "id": "61614b43-2244-4e0d-b621-fbb17cde7ab3",
   "metadata": {},
   "outputs": [],
   "source": [
    "y_1 = A* np.sin(omega_1*t_arr)"
   ]
  },
  {
   "cell_type": "code",
   "execution_count": 110,
   "id": "f108863e-8071-4d87-9fc5-2ca1adc913d9",
   "metadata": {},
   "outputs": [],
   "source": [
    "y_2 = A* np.sin(omega_2*t_arr + phi )"
   ]
  },
  {
   "cell_type": "markdown",
   "id": "02e60972-2126-49ef-a27e-c299d4190162",
   "metadata": {},
   "source": [
    "#### Exercise\n",
    "\n",
    "Plot the two waves above. Use the plot for the parabolic motion of the ball above as an example "
   ]
  },
  {
   "cell_type": "code",
   "execution_count": 4,
   "id": "9644ebaf-6a22-4eed-860f-82f36d82d92e",
   "metadata": {},
   "outputs": [],
   "source": [
    "###HERE GOES YOUR CODE\n"
   ]
  },
  {
   "cell_type": "markdown",
   "id": "fce7736a-b79b-419e-b427-4e8a36429e32",
   "metadata": {},
   "source": [
    "We can add $y_{1}(t)$ and $y_{2}$ to create $y_{total}(t)$. \n",
    "\n",
    "#### Exercise\n",
    "Can you think of a way to add these two waves? Add them and plot the result!"
   ]
  },
  {
   "cell_type": "code",
   "execution_count": 5,
   "id": "e843959d-29fb-4122-a608-5500034c189e",
   "metadata": {},
   "outputs": [],
   "source": [
    "###HERE GOES YOUR CODE\n"
   ]
  },
  {
   "cell_type": "markdown",
   "id": "ea273136-2042-4dc3-a5cc-3a69b9cf4906",
   "metadata": {},
   "source": [
    "## Scipy"
   ]
  },
  {
   "cell_type": "markdown",
   "id": "b22081f1-e2db-434d-bab6-8f0e9b2f29fc",
   "metadata": {},
   "source": [
    "Scipy is also a very popular python library with lots of useful functions for solving mathematics, science and engineering problems. It consists of several sub-packages like:\n",
    "\n",
    "* scipy.linalg : For linear algebra operations\n",
    "* scipy.interpolate : To interpolate functions\n",
    "* scipy.optimize : To do fit functions to a curve\n",
    "* scipy.stats : To do statistics and probability\n",
    "* scipy.integrate : To do integrals\n",
    "* scipy.fftpack : To do Fourier Transforms"
   ]
  },
  {
   "cell_type": "markdown",
   "id": "ec94ab3a-84db-4f55-b248-211088d9b394",
   "metadata": {},
   "source": [
    "We won't go into each of these packages this week, just know that they exist and that if you ever need to perform advanced mathematical operations on your data, there probably already exists a scipy package or function that can help you.\n",
    "Go to this website to find all the documentation on the different scipy sub-packages: https://docs.scipy.org/doc/scipy/tutorial/index.html"
   ]
  },
  {
   "cell_type": "markdown",
   "id": "a68f4f37-dd52-4112-afd9-24608d7f5f8c",
   "metadata": {},
   "source": [
    "### Fitting a curve to some data\n",
    "\n",
    "One of the most common tasks that you will have to perform when working with data is to fit a curve.\n",
    "Let's imagine you have some data on the position of an object that is moving with some constant velocity as a function of time. You don't know what that velocity is, all you have is data on the position of the object at different times.\n",
    "How can you figure out what the velocity of the object is? You can fit a line through the data, and the slope will give you the velocity.\n",
    "\n",
    "Recall, the \"generic\" form for a linear function is:\n",
    "\n",
    "$y = mx+c$\n",
    "\n",
    "In our case:\n",
    "\n",
    "$ x(t) = vt + x_{0}$\n",
    "\n",
    "\n"
   ]
  },
  {
   "cell_type": "code",
   "execution_count": 11,
   "id": "e9e9a57d-d1d2-40a4-a8a9-76dc977b1ce5",
   "metadata": {},
   "outputs": [],
   "source": [
    "time = np.linspace(0,10,100)\n",
    "xdata = np.array([10.58300139, 11.20299179, 11.3776619 , 12.46331714, 12.27013051,\n",
    "       13.44423306, 13.90545522, 13.70487429, 14.95319392, 15.52549468,\n",
    "       15.4696867 , 15.73120858, 16.97499688, 17.50735341, 17.10952245,\n",
    "       18.09921669, 18.6857602 , 19.22399236, 19.48568773, 19.80453577,\n",
    "       20.96473383, 21.38636198, 21.35798152, 21.61861146, 22.24043612,\n",
    "       22.99765071, 23.33222685, 24.54157767, 24.47472585, 25.26551936,\n",
    "       25.97541624, 26.26659371, 26.30083227, 26.97135341, 27.26487868,\n",
    "       28.28404256, 29.12999202, 29.65459072, 29.35755752, 30.59118279,\n",
    "       31.18645779, 31.24682189, 31.4483792 , 32.69714176, 32.81549072,\n",
    "       33.15025283, 33.24986186, 34.37748647, 34.69458478, 35.54626364,\n",
    "       35.80227685, 35.9546315 , 36.63220587, 37.48230868, 37.31110654,\n",
    "       38.56172932, 38.82215714, 39.59823446, 39.54865026, 40.7968092 ,\n",
    "       40.88269228, 40.85270662, 41.78438194, 42.15440229, 42.6579111 ,\n",
    "       43.05380244, 43.75177574, 43.86197173, 44.41026783, 45.22127886,\n",
    "       46.12617931, 46.39211941, 46.95953449, 47.32348616, 47.95286801,\n",
    "       48.82542706, 49.30608968, 49.14453117, 49.87050112, 50.17033371,\n",
    "       51.02673895, 51.77058036, 51.98745453, 52.15983499, 52.53778002,\n",
    "       53.25227534, 54.19756641, 54.62438118, 54.95288642, 55.72880148,\n",
    "       56.16751933, 56.48150541, 57.40554555, 56.98532479, 57.63944981,\n",
    "       58.57461007, 58.56996881, 59.33299303, 59.95250963, 60.14625871])"
   ]
  },
  {
   "cell_type": "markdown",
   "id": "249c72bf-197b-4194-a51f-c5d857a7469c",
   "metadata": {},
   "source": [
    "#### Exercise\n",
    "\n",
    "Make a plot of the data above:"
   ]
  },
  {
   "cell_type": "code",
   "execution_count": 6,
   "id": "592ebaa0-0163-498d-8168-c4c65ecb47d7",
   "metadata": {},
   "outputs": [],
   "source": [
    "##HERE GOES YOUR CODE\n"
   ]
  },
  {
   "cell_type": "markdown",
   "id": "0ede594f-77c4-4c4e-954d-a64b475dc893",
   "metadata": {},
   "source": [
    "In order to fit a line to this data, we first have to make a python function for the model we want to fit. Our model is a linear function so the python function looks like this:"
   ]
  },
  {
   "cell_type": "code",
   "execution_count": 16,
   "id": "a96e7f05-5dcc-4192-9f26-1e87370708d8",
   "metadata": {},
   "outputs": [],
   "source": [
    "def linear_func(x,m,c):\n",
    "    y = m*x + c\n",
    "    return y"
   ]
  },
  {
   "cell_type": "markdown",
   "id": "89239de0-238a-4bf0-a619-9a99bcc9a7bf",
   "metadata": {},
   "source": [
    "Notice, in the function above, x refers to the independent variable, and it should be the first argument in the model function. m and c are the two parameters we want to fit, in other words the slope and the y-intercept.\n",
    "\n",
    "We also need to import the correct python scipy subpackage. There are several routines that can help us fit a curve to some data, today we will use scipy.optimize.curve_fit"
   ]
  },
  {
   "cell_type": "code",
   "execution_count": 17,
   "id": "8db75a11-be7e-422b-8848-114d06132977",
   "metadata": {},
   "outputs": [],
   "source": [
    "from scipy.optimize import curve_fit"
   ]
  },
  {
   "cell_type": "markdown",
   "id": "69fa4d26-4022-4311-a48b-32133c388b4d",
   "metadata": {},
   "source": [
    "The \"curve_fit\" routine available in scipy.optimize takes in several parameters. The first parameter is the model (in our case \"linear_func\"), then the array of independent variables (the time array) and finally the array of dependent variables (the position array)."
   ]
  },
  {
   "cell_type": "code",
   "execution_count": 22,
   "id": "990a546e-64e9-4d6e-a3b3-8832d95035e5",
   "metadata": {},
   "outputs": [],
   "source": [
    "popt,pcov = curve_fit(linear_func,time,xdata)"
   ]
  },
  {
   "cell_type": "markdown",
   "id": "a0effdce-ed5d-416f-9f7b-81b8e43a8942",
   "metadata": {},
   "source": [
    "What do we get when we run the code above? We obtain two arrays, which we are saving under the variable names \"popt\" and \"pcov\".\n",
    "\n",
    "* popt contains the best fit parameters, in other words, the slope (velocity) and y-intercept (initial position)\n",
    "\n",
    "* pcov is a covariance matrix. The square root of the diagonal matrix gives us the errors for the parameter values we fit. \n",
    "\n",
    "This is what the popt and pcov arrays look like"
   ]
  },
  {
   "cell_type": "code",
   "execution_count": 24,
   "id": "e2eb97a1-c76c-409f-a0fe-ce76c1a1ce71",
   "metadata": {},
   "outputs": [
    {
     "data": {
      "text/plain": [
       "array([ 4.98664743, 10.57293962])"
      ]
     },
     "execution_count": 24,
     "metadata": {},
     "output_type": "execute_result"
    }
   ],
   "source": [
    "popt"
   ]
  },
  {
   "cell_type": "code",
   "execution_count": 25,
   "id": "787ce2f3-cd86-4d8c-b252-0ee1bbb0466a",
   "metadata": {},
   "outputs": [
    {
     "data": {
      "text/plain": [
       "array([[ 0.00010277, -0.00051384],\n",
       "       [-0.00051384,  0.00344287]])"
      ]
     },
     "execution_count": 25,
     "metadata": {},
     "output_type": "execute_result"
    }
   ],
   "source": [
    "pcov"
   ]
  },
  {
   "cell_type": "markdown",
   "id": "e33ebcb2-fabc-40b1-a411-698635608cb4",
   "metadata": {},
   "source": [
    "The result of our fitting routine is the following:"
   ]
  },
  {
   "cell_type": "code",
   "execution_count": 36,
   "id": "3d6bf6af-b9d3-4536-8a3c-20ced8c29b4e",
   "metadata": {},
   "outputs": [
    {
     "name": "stdout",
     "output_type": "stream",
     "text": [
      "v = 4.986647429663174 +/- 0.01013740775568077\n",
      "x_0 = 10.572939615907035 +/- 0.05867596352151449\n"
     ]
    }
   ],
   "source": [
    "print(\"v =\", popt[0], \"+/-\", pcov[0,0]**0.5)\n",
    "print(\"x_0 =\", popt[1], \"+/-\", pcov[1,1]**0.5)"
   ]
  },
  {
   "cell_type": "markdown",
   "id": "9622a22c-dee7-4557-904f-23cfec095903",
   "metadata": {},
   "source": [
    "Let's use these parameters to make an array for the fit, and the plot the data and the fit."
   ]
  },
  {
   "cell_type": "code",
   "execution_count": 41,
   "id": "0bad843b-3ffe-4334-b354-fb83ea2c3389",
   "metadata": {},
   "outputs": [
    {
     "data": {
      "text/plain": [
       "<matplotlib.legend.Legend at 0x7fa3f47e3e50>"
      ]
     },
     "execution_count": 41,
     "metadata": {},
     "output_type": "execute_result"
    },
    {
     "data": {
      "image/png": "[encoded data removed]",
      "text/plain": [
       "<Figure size 432x288 with 1 Axes>"
      ]
     },
     "metadata": {
      "needs_background": "light"
     },
     "output_type": "display_data"
    }
   ],
   "source": [
    "v = popt[0]\n",
    "x0 = popt[1]\n",
    "x_model = popt[0]*time + x0\n",
    "\n",
    "plt.scatter(time,xdata,label = \"Data\")\n",
    "plt.plot(time,x_model,c=\"r\",label=\"Model\")\n",
    "plt.legend()"
   ]
  },
  {
   "cell_type": "markdown",
   "id": "dda0628a-55f4-48f9-a410-766c2e44c1b7",
   "metadata": {},
   "source": [
    "#### Exercise\n",
    "Fit a quadratic function to the following two arrays (x_arr and y_arr):\n",
    "\n",
    "$ y = ax^{2} + bx + c $"
   ]
  },
  {
   "cell_type": "code",
   "execution_count": 7,
   "id": "e0770b96-c815-4ce0-ad5a-a91f5c332bc4",
   "metadata": {},
   "outputs": [],
   "source": [
    "x_arr = np.linspace(0,10,100)\n",
    "y_arr = np.array([  5.53853803,   5.97049541,   5.96225685,   7.08878928,\n",
    "         7.35990182,   8.57877691,   9.14377365,  10.17656477,\n",
    "        10.80116861,  12.03100599,  12.95076638,  13.60215241,\n",
    "        14.43027515,  16.16829   ,  16.88891786,  18.66685743,\n",
    "        19.73612093,  21.24909573,  22.85547982,  24.34633365,\n",
    "        26.12924046,  27.59136355,  28.95670041,  31.09493401,\n",
    "        32.66042573,  35.05481651,  36.64550766,  38.57482985,\n",
    "        40.93533822,  43.1293315 ,  45.55410537,  47.36931447,\n",
    "        49.87059578,  52.04865137,  55.01357761,  57.46163221,\n",
    "        60.02266233,  62.22463278,  64.80705338,  67.66505781,\n",
    "        71.04662162,  73.61363271,  76.38774633,  79.88609505,\n",
    "        82.8785628 ,  85.76927677,  88.758893  ,  92.54053963,\n",
    "        95.610144  ,  98.54566174, 101.92332556, 105.32447143,\n",
    "       109.06311004, 113.31124921, 116.12499984, 119.86055204,\n",
    "       124.56642734, 128.33177721, 131.95251586, 135.61500643,\n",
    "       139.46964696, 144.17884711, 147.79037765, 152.65697307,\n",
    "       156.65527903, 160.73017237, 165.01634065, 170.4040761 ,\n",
    "       174.23551625, 178.99769033, 183.27639014, 188.04238224,\n",
    "       192.86005893, 198.4586194 , 203.24223055, 208.2331231 ,\n",
    "       212.68833606, 217.81714927, 223.28398909, 228.36357935,\n",
    "       233.40946014, 239.1022659 , 244.93143314, 249.82023349,\n",
    "       255.57822032, 261.46911286, 267.12932363, 271.89628667,\n",
    "       278.32360806, 283.76451468, 289.55501112, 295.49391108,\n",
    "       302.16446637, 307.79918405, 314.320522  , 320.27729561,\n",
    "       325.93967841, 332.91179142, 339.30817068, 345.80403133])"
   ]
  }
 ],
 "metadata": {
  "kernelspec": {
   "display_name": "Python 3 (ipykernel)",
   "language": "python",
   "name": "python3"
  },
  "language_info": {
   "codemirror_mode": {
    "name": "ipython",
    "version": 3
   },
   "file_extension": ".py",
   "mimetype": "text/x-python",
   "name": "python",
   "nbconvert_exporter": "python",
   "pygments_lexer": "ipython3",
   "version": "3.8.11"
  }
 },
 "nbformat": 4,
 "nbformat_minor": 5
}
