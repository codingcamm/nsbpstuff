{
 "cells": [
  {
   "cell_type": "markdown",
   "id": "5da8f5eb-3f39-4165-8181-38b84339e12b",
   "metadata": {},
   "source": [
    "# Command line"
   ]
  },
  {
   "cell_type": "markdown",
   "id": "c63f5a74-9b4a-4c3d-a6a7-238bb3361cee",
   "metadata": {},
   "source": [
    "The command line is a way to communicate with your computer.\n",
    "A \"command\" is an instruction.\n",
    "\n",
    "In macbook computers, the command line runs under an application called the \"Terminal\".\n",
    "\n",
    "### What types of things can I do with a command?\n",
    "\n",
    "Lots of things: \n",
    "* Copy files\n",
    "* Move files from one folder to another\n",
    "* Make new folders\n",
    "* List all the files in a folder\n",
    "* Print the directory where you currently are\n",
    "\n",
    "### What does a command look like?\n",
    "\n",
    "The first word is the \"command\", in other words the action that you want the computer to take. Most commands also take arguments, which you can pass to the computer as the second, third, etc word.\n",
    "\n",
    "### First things first\n",
    "\n",
    "Open the Terminal application in your macbook. \n",
    "\n",
    "### Some examples\n",
    "\n",
    "Type the following in the command line. What happens? \n",
    "* pwd\n",
    "\n",
    "\n",
    "Type the following in the command line. What happens?\n",
    "* ls\n",
    "\n",
    "Type the following. What happens?\n",
    "* cd\n",
    "\n",
    "Type the first line, hit ENTER, then type the second line and hit ENTER. What happens?\n",
    "* cd/Desktop\n",
    "* pwd\n",
    "\n",
    "Type the first line, hit ENTER, then type the second line and hit ENTER. What happens?\n",
    "* cd ../Downloads\n",
    "* pwd\n"
   ]
  },
  {
   "cell_type": "code",
   "execution_count": null,
   "id": "6b93f92e-d259-4d21-94fd-52b48a7dca38",
   "metadata": {},
   "outputs": [],
   "source": []
  }
 ],
 "metadata": {
  "kernelspec": {
   "display_name": "Python 3 (ipykernel)",
   "language": "python",
   "name": "python3"
  },
  "language_info": {
   "codemirror_mode": {
    "name": "ipython",
    "version": 3
   },
   "file_extension": ".py",
   "mimetype": "text/x-python",
   "name": "python",
   "nbconvert_exporter": "python",
   "pygments_lexer": "ipython3",
   "version": "3.8.11"
  }
 },
 "nbformat": 4,
 "nbformat_minor": 5
}
