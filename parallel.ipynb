{
 "cells": [
  {
   "cell_type": "markdown",
   "metadata": {},
   "source": [
    "# How fast can your code be?\n",
    "\n",
    "In this brief notebook, we will have a taste of how to speed up your code. Note, this is intended to be only an access point to the huge amount of resources (and dedicated lectures) on this extremely important topic. Go to the Acknowledgement section for further reading."
   ]
  },
  {
   "cell_type": "markdown",
   "metadata": {},
   "source": [
    "Let's start from a simple code that computes the (approximated) value of pi, and times the calculation."
   ]
  },
  {
   "cell_type": "code",
   "execution_count": 1,
   "metadata": {},
   "outputs": [],
   "source": [
    "import time\n",
    "  \n",
    "def Pi(num_steps):\n",
    "   start = time.time()\n",
    "   step = 1.0/num_steps\n",
    "   sum = 0\n",
    "\n",
    "   for i in range(num_steps):\n",
    "      x= (i+0.5)*step\n",
    "      sum = sum + 4.0/(1.0+x*x)\n",
    "\n",
    "\n",
    "   pi = step * sum\n",
    "   end = time.time()\n",
    "   print(\"Pi with %d steps is %f in %f secs\" %(num_steps, pi, end-start))"
   ]
  },
  {
   "cell_type": "code",
   "execution_count": 2,
   "metadata": {},
   "outputs": [
    {
     "name": "stdout",
     "output_type": "stream",
     "text": [
      "Pi with 1000 steps is 3.141593 in 0.000153 secs\n"
     ]
    }
   ],
   "source": [
    "Pi(1000)"
   ]
  },
  {
   "cell_type": "markdown",
   "metadata": {},
   "source": [
    "Now try the same with C. Open your favourite editor, write the following code and save the doc as pi.c:\n",
    "\n",
    "```\n",
    "#include <stdio.h>\n",
    "#include <time.h>\n",
    "\n",
    "void Pi(int num_steps){\n",
    "   double start, end, pi, step, x, sum;\n",
    "   int i;\n",
    "   start = clock();\n",
    "   step = 1.0/(double)num_steps;\n",
    "   sum = 0;\n",
    "   for (i=0;i<num_steps;i++){\n",
    "      x = (i+0.5)*step;\n",
    "      sum = sum + 4.0/(1.0+x*x);\n",
    "   }\n",
    "   pi = step * sum;\n",
    "   end= clock();\n",
    "   printf(\"Pi with %d steps is %f in %f secs\\n\",num_steps, pi,(float)(end- start)/CLOCKS_PER_SEC);\n",
    "}\n",
    "\n",
    "int main() {\n",
    "   Pi(1000);\n",
    "   return 0;\n",
    "}\n",
    "```"
   ]
  },
  {
   "cell_type": "markdown",
   "metadata": {},
   "source": [
    "Now compile and create the executable file. Run the following command in the terminal shell:\n",
    "```\n",
    "gcc -o pi -O3 pi.c\n",
    "```\n",
    "\n",
    "Then, execute:\n",
    "```\n",
    "./pi\n",
    "```"
   ]
  },
  {
   "cell_type": "markdown",
   "metadata": {},
   "source": [
    "What is the result? Is the C-implemented code faster or slower than the python code? Can you identify the bottleneck of this code?"
   ]
  },
  {
   "cell_type": "markdown",
   "metadata": {},
   "source": [
    "# Optimization"
   ]
  },
  {
   "cell_type": "markdown",
   "metadata": {},
   "source": [
    "Before 'going parallel', you can improve the performance of your code. Once you identify the bottleneck (see exercise above), you can check whether you can do to eliminate, or at least ease it. \n",
    "\n",
    "Let's separate the loop part from the rest of the function."
   ]
  },
  {
   "cell_type": "code",
   "execution_count": 3,
   "metadata": {},
   "outputs": [],
   "source": [
    "def loop(num_steps):\n",
    "    step = 1.0/num_steps\n",
    "    sum = 0\n",
    "    \n",
    "    for i in range(num_steps):\n",
    "        x= (i+0.5)*step\n",
    "        sum = sum + 4.0/(1.0+x*x)\n",
    "    return sum\n",
    "\n",
    "def Pi(num_steps):\n",
    "    start = time.time()\n",
    "    sum = loop(num_steps)\n",
    "    pi = sum/num_steps\n",
    "    end = time.time()\n",
    "    print(\"Pi with %d steps is %f in %f secs\" %(num_steps, pi, end-start))"
   ]
  },
  {
   "cell_type": "markdown",
   "metadata": {},
   "source": [
    "This is going to take the same time as above. Not surprising: we haven't done anything, just split the original function in two pieces."
   ]
  },
  {
   "cell_type": "code",
   "execution_count": 4,
   "metadata": {},
   "outputs": [
    {
     "name": "stdout",
     "output_type": "stream",
     "text": [
      "Pi with 1000 steps is 3.141593 in 0.000338 secs\n"
     ]
    }
   ],
   "source": [
    "Pi(1000)"
   ]
  },
  {
   "cell_type": "markdown",
   "metadata": {},
   "source": [
    "Let's now try a new tool: ```numba```! Numba can optimize specific portions of your code. Find out more here: http://numba.pydata.org/"
   ]
  },
  {
   "cell_type": "code",
   "execution_count": 5,
   "metadata": {},
   "outputs": [],
   "source": [
    "from numba import jit \n",
    "\n",
    "@jit\n",
    "def loop_numba(num_steps):\n",
    "    step = 1.0/num_steps\n",
    "    sum = 0    \n",
    "    for i in range(num_steps):\n",
    "        x= (i+0.5)*step\n",
    "        sum = sum + 4.0/(1.0+x*x) \n",
    "    return sum\n",
    "\n",
    "def Pi_numba(num_steps ):\n",
    "    start = time.time()\n",
    "    sum = loop_numba(num_steps)\n",
    "    pi = sum/num_steps\n",
    "    end = time.time()\n",
    "    print(\"Pi with %d steps is %f in %f secs\" %(num_steps, pi, end-start))\n",
    "    \n",
    "def Pi(num_steps):\n",
    "    start = time.time()\n",
    "    sum = loop(num_steps)\n",
    "    pi = sum/num_steps\n",
    "    end = time.time()\n",
    "    print(\"Pi with %d steps is %f in %f secs\" %(num_steps, pi, end-start))"
   ]
  },
  {
   "cell_type": "code",
   "execution_count": 6,
   "metadata": {},
   "outputs": [
    {
     "name": "stdout",
     "output_type": "stream",
     "text": [
      "without numba\n",
      "Pi with 1000 steps is 3.141593 in 0.000287 secs\n",
      "with numba\n",
      "Pi with 1000 steps is 3.141593 in 0.281114 secs\n"
     ]
    }
   ],
   "source": [
    "print(\"without numba\")\n",
    "Pi(1000)\n",
    "print(\"with numba\")\n",
    "Pi_numba(1000)"
   ]
  },
  {
   "cell_type": "markdown",
   "metadata": {},
   "source": [
    "Try with different number of steps, e.g., 100000, 10000000, etc... How the two functions compare? Why?"
   ]
  },
  {
   "cell_type": "markdown",
   "metadata": {},
   "source": [
    "# Go parallel?\n",
    "\n",
    "If all optimization options, such as Numba, fail or do not provide the expected performance, you may try to parallelize your code. In other words, you should rewrite your code in such a way that specific portions of the code are split and executed simultaneously. Parallelization in python has some peculiarities, though.\n",
    "\n",
    "First, the most common Python implementation, CPython, does not support multi-threading, i.e., does not allow multiple threads (roughly speaking, pieces of the executable code that share memory) to run concurrently. This is due to the fact that CPython has a Global Interpreter Lock, i.e. a lock that protects the code from thread-unsafe usages. The GIL makes sure that one thread can run at a time. However, many CPU-intensive python libraries, such as numpy and scipy, are multi-threading internally (not exposed to the interpreter). \n",
    "\n",
    "You can force your python code to be multi-threading using the ```threading``` library. However, because of the GIL, you won't get any advantage over a standard single-threading run."
   ]
  },
  {
   "cell_type": "code",
   "execution_count": 7,
   "metadata": {},
   "outputs": [
    {
     "name": "stdout",
     "output_type": "stream",
     "text": [
      "Time taken in seconds - 2.9584288597106934\n"
     ]
    }
   ],
   "source": [
    "# single_threaded.py\n",
    "import time\n",
    "from threading import Thread\n",
    "\n",
    "COUNT = 50000000\n",
    "\n",
    "def countdown(n):\n",
    "    while n>0:\n",
    "        n -= 1\n",
    "\n",
    "start = time.time()\n",
    "countdown(COUNT)\n",
    "end = time.time()\n",
    "\n",
    "print('Time taken in seconds -', end - start)"
   ]
  },
  {
   "cell_type": "markdown",
   "metadata": {},
   "source": [
    "To be compared with:"
   ]
  },
  {
   "cell_type": "code",
   "execution_count": 8,
   "metadata": {},
   "outputs": [
    {
     "name": "stdout",
     "output_type": "stream",
     "text": [
      "Time taken in seconds - 2.7884793281555176\n"
     ]
    }
   ],
   "source": [
    "# multi_threaded.py\n",
    "import time\n",
    "from threading import Thread\n",
    "\n",
    "COUNT = 50000000\n",
    "\n",
    "def countdown(n):\n",
    "    while n>0:\n",
    "        n -= 1\n",
    "\n",
    "t1 = Thread(target=countdown, args=(COUNT//2,))\n",
    "t2 = Thread(target=countdown, args=(COUNT//2,))\n",
    "\n",
    "start = time.time()\n",
    "t1.start()\n",
    "t2.start()\n",
    "t1.join()\n",
    "t2.join()\n",
    "end = time.time()\n",
    "\n",
    "print('Time taken in seconds -', end - start)"
   ]
  },
  {
   "cell_type": "markdown",
   "metadata": {},
   "source": [
    "Not really a great performance!\n",
    "\n",
    "Exercise: try to make the code that computes Pi multi-threading. Tip: check the documentation of ```threading``` or browse the web for help!\n",
    "\n",
    "In general, multi-threading is not the right option if you are CPU-bounded, i.e., if your bottleneck is given by computationally demanding tasks. It may be useful if you are I/O (input/output)-bounded, i.e., if your code has to wait a lot to get input or give output."
   ]
  },
  {
   "cell_type": "markdown",
   "metadata": {},
   "source": [
    "A possible way out in case of CPU-bounded codes is to use multi-processing instead of multi-threading. Roughly speaking, with multi-processing you will have multiple copies of your code running in parallel. This overcomes the GIL limitation, since each process will have its own GIL. However, it can be highly resources-demanding, because each process will have its own access to memory, copy of variables and objects that may be passed across processes etc. \n",
    "\n",
    "If you are on a single machine or CPU, you can use the ```multiprocessing``` library:"
   ]
  },
  {
   "cell_type": "code",
   "execution_count": 9,
   "metadata": {},
   "outputs": [
    {
     "name": "stdout",
     "output_type": "stream",
     "text": [
      "Time taken in seconds - 1.5433399677276611\n"
     ]
    }
   ],
   "source": [
    "from multiprocessing import Pool\n",
    "import time\n",
    "\n",
    "COUNT = 50000000\n",
    "def countdown(n):\n",
    "    while n>0:\n",
    "        n -= 1\n",
    "\n",
    "if __name__ == '__main__':\n",
    "    pool = Pool(processes=2)\n",
    "    start = time.time()\n",
    "    r1 = pool.apply_async(countdown, [COUNT//2])\n",
    "    r2 = pool.apply_async(countdown, [COUNT//2])\n",
    "    pool.close()\n",
    "    pool.join()\n",
    "    end = time.time()\n",
    "    print('Time taken in seconds -', end - start)"
   ]
  },
  {
   "cell_type": "markdown",
   "metadata": {},
   "source": [
    "This is about a factor 2 improvement with respect to the single-threading code. Note that it is not exactly twice as fast as the original code, since each process has its own overhead (preliminary things that has to be done before the core of the computation, hence the part that benefit more from the multi-processing, is run). This means that there might be a scaling issue as the number of processes increases, which may represent a bottleneck."
   ]
  },
  {
   "cell_type": "markdown",
   "metadata": {},
   "source": [
    "If you have the possibility to run on a cluster (of machines), hence to distribute your processes across multiple machines, you have to resort to other libraries, such ```MPI```. There is a specific implementation for python: ```mpi4py```."
   ]
  },
  {
   "cell_type": "markdown",
   "metadata": {},
   "source": [
    "If you have digested these information so far, you might want to take a deeper look to this lecture here: https://www.nesi.org.nz/sites/default/files/mpi-in-python.pdf\n",
    "From Section 3 on, in particular, you will find a lot more information on parallel programming in python."
   ]
  },
  {
   "cell_type": "markdown",
   "metadata": {},
   "source": [
    "# Acknowledgements\n",
    "\n",
    "This brief and down-to-earth intro is heavily based on a collection of materials from the web. In particular:\n",
    "\n",
    "* intro to optimization tools (numba) and parallel programming: https://www.nesi.org.nz/sites/default/files/mpi-in-python.pdf\n",
    "* Tutorial on GLI, multi-threading vs multi-processing: https://realpython.com/intro-to-python-threading/, https://realpython.com/python-gil/, https://timber.io/blog/multiprocessing-vs-multithreading-in-python-what-you-need-to-know/\n",
    "\n",
    "We would like to warmly thank Enrico Calore from INFN Ferrara for help in navigating the huge amount of available resources on the web and pointing us to the links above."
   ]
  }
 ],
 "metadata": {
  "kernelspec": {
   "display_name": "Python 3",
   "language": "python",
   "name": "python3"
  },
  "language_info": {
   "codemirror_mode": {
    "name": "ipython",
    "version": 3
   },
   "file_extension": ".py",
   "mimetype": "text/x-python",
   "name": "python",
   "nbconvert_exporter": "python",
   "pygments_lexer": "ipython3",
   "version": "3.7.3"
  }
 },
 "nbformat": 4,
 "nbformat_minor": 4
}
