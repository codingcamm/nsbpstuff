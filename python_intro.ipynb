{
 "cells": [
  {
   "cell_type": "markdown",
   "metadata": {},
   "source": [
    "The following is a lightly modified version of a notebook written for the 2020 Simons-NSBP program hosted by the Simons Observatory; see original on [Github](https://github.com/simonsobs/s-nsbp). The MIT license for the original is included in this repository, under `LICENSE-simonsobs`.\n",
    "\n",
    "# Introduction to Python\n",
    "\n",
    "This notebook will give a \"lightning\" introduction to the Python programming language; we try to focus on the knowledge and skills that will give you the biggest bang-for-your-buck in your projects! That being said, we will cover just a fraction of what Python is capable of. If you want to learn more (or need to learn more) for your projects:\n",
    "\n",
    "* Don't hesitate to reach out to us with any questions!\n",
    "* Don't hesitate to reach out to your project mentor(s). If they can't help with a specific question, they definitely can put you in touch with someone who can!\n",
    "* The Python documentation (https://docs.python.org/3/) is super user-friendly and has everything from tutorials to APIs for many modules (if you don't know what this means, hopefully you will by the end of this notebook)\n",
    "* Google is your friend. We google Python questions every 10 minutes when we're writing code. If your question is well-posed, 95% of the time someone has asked it already on the internet. Best websites: https://stackoverflow.com and https://stackexchange.com\n",
    "\n",
    "Just a couple more things before diving in:\n",
    "* We use Python 3 (the newest version of Python). If you are learning Python for the first time, stick to Python 3 (not 2). Specifically, Python 3.6--3.9 will work well.\n",
    "* If you followed the instructions for installing `conda`, you should have Python 3.9 running on your laptop.\n",
    "* Python notebooks *(which is what this document is)* are super helpful as teaching devices. They combine both text and code and allow any user of the notebook to change code and experiment on-the-fly. If you have to submit a report on something you code, consider building a notebook!\n",
    "* Most of the time, Python is *not* built in a notebook; rather, all of the code lives in a `.py` text file. For it to work on your computer (instead of Google's server), you'll need to install Python. You can install it directly (https://www.python.org/downloads/), but we prefer using a *distribution* (for instance, \"conda\": https://docs.conda.io/en/latest/miniconda.html), which packages Python together with some basic modules. As you'll see, \"modules\" are super useful, and there are hundreds. Conda is really good at managing/installing them, so you don't have to do that yourself. If you need help with that during your project, ask us or your mentor!"
   ]
  },
  {
   "cell_type": "markdown",
   "metadata": {},
   "source": [
    "## Set up: run this locally\n",
    "\n",
    "You are now reading this notebook directly from GitHub. This is convenient as it only requires your browser, but it is limited: you are seeing a static version of the notebook that does not allow you to run code or tinker with it. We want you to start getting some hands-on experience with Python, so we recommend you download and run this locally. To do so, open your Terminal (remember yesterday's instructions for doing so) and run the commands below -- remember that the percent sign (`%`) is a way of indicating one line of code that needs to be typed into the terminal, followed by `ENTER`. Do not type the `%` into the terminal, and do not type the lines that do not start with `%`!\n",
    "\n",
    "    % mkdir -p Documents/tutorials\n",
    "    % cd Documents/tutorials\n",
    "    % git clone https://github.com/ttesileanu/nsbp-summer-2022.git\n",
    "    Cloning into 'nsbp-summer-2022'...\n",
    "    ...\n",
    "\n",
    "This created a folder `tutorials` inside your `Documents` folder and downloaded the contents of the `nsbp-summer-2022` repository inside `Documents/tutorials` (**note:** unlike in Windows, Macs follow the Unix convention of separating subfolders from folders using forward slashes `/` instead of backwards slashes `\\`). You can go to Finder and check this for yourself.\n",
    "\n",
    "Now you have the notebooks included in this repository copied onto your laptop. How to run them? The easiest way of working with notebooks is using Jupyter Lab, a web application that functions as an integrated development environment (IDE). We will install this using `conda`."
   ]
  },
  {
   "cell_type": "markdown",
   "metadata": {},
   "source": [
    "### Creating an environment\n",
    "\n",
    "As you use Python more and more extensively, you will find yourself working on multiple projects at the same time, each of which using a different set of packages. What's more, sometimes one project will use a different version of a package compared to another project, making it difficult to work on both projects using a unified Python environment. The standard way to deal with this problem is to have different environments for different projects. Let us thus create an environment: open up a terminal and run the following command\n",
    "\n",
    "    % conda create -n nsbp-2022 jupyterlab\n",
    "    Collecting package metdata (current_repodata.json): done\n",
    "    ...\n",
    "\n",
    "Answer `y` when asked if to proceed. This creates an environment called `nsbp-2022` and installs Jupyter Lab and its dependencies. The environment is not yet \"active\", meaning you cannot yet access the installed packages. To do so, you need to activate the package:\n",
    "\n",
    "    % conda activate nsbp-2022\n",
    "\n",
    "Note that the name of the active environment is written in parentheses as part of the input prompt in the terminal (the text ending in `%` that appears on every line when the terminal awaits your input), e.g.:\n",
    "\n",
    "    (nsbp-2022) tibi@tibis-MacBook-Air nsbp-summer-2022 % <type your commands here>\n",
    "\n",
    "You can deactivate the environment using\n",
    "\n",
    "    % conda deactivate\n",
    "\n",
    "...though this is rarely necessary. When no custom environment is active, you are in `conda`'s `base` environment.\n",
    "\n",
    "### Running Jupyter Lab\n",
    "\n",
    "You can now run the IDE by entering\n",
    "\n",
    "    % jupyter lab\n",
    "\n",
    "into the terminal. This will open up a browser window with a file explorer on the left. You can use it to navigate to `Documents/tutorials/nsbp-summer-2022` where you cloned the repository, then open this notebook, `python_intro.ipynb`. Please do so now and continue the tutorial inside Jupyter Lab."
   ]
  },
  {
   "cell_type": "markdown",
   "metadata": {},
   "source": [
    "## Part 0: What is this?\n",
    "\n",
    "This is a Python notebook! It is an interactive, human-readable way of presenting Python code. A notebook is composed of \"cells\": there are \"Markdown\" cells (like this one), which just contain helpful text. And there are \"Code\" cells, which actually contain the code, like this one:"
   ]
  },
  {
   "cell_type": "code",
   "execution_count": 1,
   "metadata": {
    "scrolled": false
   },
   "outputs": [
    {
     "name": "stdout",
     "output_type": "stream",
     "text": [
      "hello world\n"
     ]
    }
   ],
   "source": [
    "print('hello world')"
   ]
  },
  {
   "cell_type": "markdown",
   "metadata": {},
   "source": [
    "To execute the code inside a code cell, make sure the cell is selected, then press `shift` + `enter`. Try it!\n",
    "\n",
    "Oh, and before we start, if you learn nothing else, remember this: the `print` statement is your friend in Python. A simple way to debug any part of your code, or break it down to see how data evolves during the execution of your program, is to throw in `print` statements. In a code cell, if you type `print(something)`, Python will include whatever is inside the parentheses in the output. That `something` could be text, or the value of some mathematical expression, or the name of a file, just to name a few examples!\n",
    "\n",
    "## Part 1: The Basics\n",
    "\n",
    "Python, like any programming language, has a set of rules for how to build the code. If you don't follow the rules, your computer won't know how to \"read\" your code; your computer will print an error and the code will stop running. One reason Python is so widely used is because its syntax -- its set of rules -- is very simple and flexible! Basic snippets of code read very similar to English:"
   ]
  },
  {
   "cell_type": "code",
   "execution_count": 2,
   "metadata": {
    "tags": []
   },
   "outputs": [
    {
     "name": "stdout",
     "output_type": "stream",
     "text": [
      "the two numbers are different\n"
     ]
    }
   ],
   "source": [
    "# Everything after the hashtag is a comment - it just helps humans read and understand the code\n",
    "# This code tests whether two variables are the same\n",
    "# Try changing the value assigned to these variables to see what happens when you run this cell of code\n",
    "\n",
    "my_number = 5\n",
    "test_number = 7\n",
    "\n",
    "if my_number == test_number:\n",
    "    print('the two numbers are the same')\n",
    "else:\n",
    "    print('the two numbers are different')"
   ]
  },
  {
   "cell_type": "markdown",
   "metadata": {},
   "source": [
    "Most of the magic happened in the line `if my_number == test_number`. Reading this line, it's intuitive what it's doing: testing whether two numbers are equal. Note that we use double equal signs, `==`, for comparison; a single equal, `=`, is reserved for assignment; more on this later.\n",
    "\n",
    "We won't be able to cover all the \"rules\" of Python, but the goal here is to learn the format of a simple piece of code, and by example, how you could write something arbitrarily more complex. And if your code spits out an error (and this will happen, a lot, even to the most experienced programmers), the great thing is it's OK: nothing actually broke -- you can go fix the mistake and try again.\n",
    "\n",
    "Let's explore what happened in the above code snippet. We'll be able to learn quite a lot, actually.\n",
    "\n",
    "## 1.a Variables and Types\n",
    "\n",
    "The most fundamental aspect of any piece of code is assigning values to variables. Variables are just \"names\" that refer to the value assigned to them. One rule of syntax is that the variable name must come first, before the value being assigned to it: "
   ]
  },
  {
   "cell_type": "code",
   "execution_count": 3,
   "metadata": {},
   "outputs": [],
   "source": [
    "my_number = 30"
   ]
  },
  {
   "cell_type": "markdown",
   "metadata": {},
   "source": [
    "If we switch the order, we get a \"syntax error\" -- we broke a rule:  "
   ]
  },
  {
   "cell_type": "code",
   "execution_count": 4,
   "metadata": {},
   "outputs": [
    {
     "ename": "SyntaxError",
     "evalue": "cannot assign to literal (365830503.py, line 1)",
     "output_type": "error",
     "traceback": [
      "\u001b[0;36m  File \u001b[0;32m\"/var/folders/vp/33jx9n412n39sbg_r_bys0m4000187/T/ipykernel_57916/365830503.py\"\u001b[0;36m, line \u001b[0;32m1\u001b[0m\n\u001b[0;31m    10 = my_number\u001b[0m\n\u001b[0m    ^\u001b[0m\n\u001b[0;31mSyntaxError\u001b[0m\u001b[0;31m:\u001b[0m cannot assign to literal\n"
     ]
    }
   ],
   "source": [
    "10 = my_number"
   ]
  },
  {
   "cell_type": "markdown",
   "metadata": {},
   "source": [
    "In the second case, because Python thinks the variable name must come first, Python tried to assign the value contained in `my_number` to 10. Of course, you can't change the value of 10! Keep in mind, Python is not angry with the fact the the value stored in `my_number` might not be 10. You will get the same error even if `my_number` actually already *is* 10. Rather, Python is angry with the code's *syntax*. The code is just not built according to \"the rules,\" and the rule is the variable name comes first.\n",
    "\n",
    "A nice feature of Python is that variables can hold any *type* of value. There are many \"primitive\" types (meaning you get to use them when you install Python and only Python; other \"modules,\" which as you will see are basically Python \"expansion packs,\" can give you access to more data types), but we will focus on 4. You actually encountered 3 \"primitive\" types in the code snippet:\n",
    "\n",
    "* `int` (integer)\n",
    "* `str` (string)\n",
    "* `bool` (boolean)\n",
    "\n",
    "The first two might be more familiar:"
   ]
  },
  {
   "cell_type": "code",
   "execution_count": 4,
   "metadata": {},
   "outputs": [
    {
     "data": {
      "text/plain": [
       "int"
      ]
     },
     "execution_count": 4,
     "metadata": {},
     "output_type": "execute_result"
    }
   ],
   "source": [
    "type(10)"
   ]
  },
  {
   "cell_type": "markdown",
   "metadata": {},
   "source": [
    "If we assign `5` to `my_number`, asking Python for the type of the *variable* `my_number` will give the same result:"
   ]
  },
  {
   "cell_type": "code",
   "execution_count": 5,
   "metadata": {},
   "outputs": [
    {
     "data": {
      "text/plain": [
       "int"
      ]
     },
     "execution_count": 5,
     "metadata": {},
     "output_type": "execute_result"
    }
   ],
   "source": [
    "my_number = 5\n",
    "type(my_number)"
   ]
  },
  {
   "cell_type": "markdown",
   "metadata": {},
   "source": [
    "Great: your first Python type -- `int` -- lets Python know the value is an integer. Not too bad?\n",
    "\n",
    "Meanwhile, a string is basically just text. They are denoted by enclosing some text in quotes. So for instance:"
   ]
  },
  {
   "cell_type": "code",
   "execution_count": 6,
   "metadata": {},
   "outputs": [
    {
     "data": {
      "text/plain": [
       "str"
      ]
     },
     "execution_count": 6,
     "metadata": {},
     "output_type": "execute_result"
    }
   ],
   "source": [
    "type('the two numbers are the same')"
   ]
  },
  {
   "cell_type": "markdown",
   "metadata": {},
   "source": [
    "In Python, strings can be written using either single or double quotes. This can be convenient when our string needs to contain quotes itself:"
   ]
  },
  {
   "cell_type": "code",
   "execution_count": 7,
   "metadata": {},
   "outputs": [
    {
     "name": "stdout",
     "output_type": "stream",
     "text": [
      "this is a string\n",
      "this is also a string\n",
      "this is a string containing \"double quotes\"\n",
      "this is a string containing 'single quotes'\n"
     ]
    }
   ],
   "source": [
    "print('this is a string')\n",
    "print(\"this is also a string\")\n",
    "print('this is a string containing \"double quotes\"')\n",
    "print(\"this is a string containing 'single quotes'\")"
   ]
  },
  {
   "cell_type": "markdown",
   "metadata": {},
   "source": [
    "There are many advanced operations you can do with strings (read the Python [documentation](https://docs.python.org/3/library/string.html) if you want to learn about them!), but the most basic is concatenation with a `+` sign:"
   ]
  },
  {
   "cell_type": "code",
   "execution_count": 8,
   "metadata": {
    "tags": []
   },
   "outputs": [
    {
     "name": "stdout",
     "output_type": "stream",
     "text": [
      "this has been asuccess?\n",
      "this has been a bigger success!\n"
     ]
    }
   ],
   "source": [
    "new_str = 'this has been a' + 'success?'\n",
    "new_str2 = 'this has been a bigger ' + 'success!'\n",
    "\n",
    "print(new_str)\n",
    "print(new_str2)"
   ]
  },
  {
   "cell_type": "markdown",
   "metadata": {},
   "source": [
    "Watch out for spaces at the beginning and ends of strings!\n",
    "\n",
    "A boolean can only take on the values `True` or `False`. Can you find where the boolean is hiding in our code snippet?"
   ]
  },
  {
   "cell_type": "code",
   "execution_count": 9,
   "metadata": {
    "tags": []
   },
   "outputs": [
    {
     "name": "stdout",
     "output_type": "stream",
     "text": [
      "False\n"
     ]
    },
    {
     "data": {
      "text/plain": [
       "bool"
      ]
     },
     "execution_count": 9,
     "metadata": {},
     "output_type": "execute_result"
    }
   ],
   "source": [
    "# Everything after the hashtag is a comment - it just helps humans read and understand the code\n",
    "# This code tests whether two variables are the same\n",
    "# Try changing the value assigned to these variables to see what happens when you run this cell of code\n",
    "\n",
    "my_number = 5\n",
    "test_number = 7\n",
    "\n",
    "new_variable = my_number == test_number\n",
    "print(new_variable)\n",
    "type(new_variable)"
   ]
  },
  {
   "cell_type": "markdown",
   "metadata": {},
   "source": [
    "Aha! It turns out that the piece of code `my_number == test_number` is itself a *boolean-valued expression*: it is either `True` or `False` (try changing the value of `my_number` to see what happens), and we can assign the *value* of this expression to a variable! So we could have written our code snippet like this:"
   ]
  },
  {
   "cell_type": "code",
   "execution_count": 10,
   "metadata": {
    "tags": []
   },
   "outputs": [
    {
     "name": "stdout",
     "output_type": "stream",
     "text": [
      "they are different\n"
     ]
    }
   ],
   "source": [
    "# Everything after the hashtag is a comment - it just helps humans read and understand the code\n",
    "# This code tests whether two variables are the same\n",
    "# Try changing the value assigned to these variables to see what happens when you run this cell of code\n",
    "\n",
    "my_number = 5\n",
    "test_number = 7\n",
    "\n",
    "# Assign the True/False value of the\n",
    "# statement \"my_number == test_number\" to\n",
    "# a variable \"equality_test\"\n",
    "equality_test = my_number == test_number\n",
    "\n",
    "if equality_test:\n",
    "    print('they are the same')\n",
    "\n",
    "if not equality_test:\n",
    "    print('they are different')"
   ]
  },
  {
   "cell_type": "markdown",
   "metadata": {},
   "source": [
    "Here's another boolean variable for you; hopefully this is crystal clear:"
   ]
  },
  {
   "cell_type": "code",
   "execution_count": 11,
   "metadata": {
    "tags": []
   },
   "outputs": [
    {
     "name": "stdout",
     "output_type": "stream",
     "text": [
      "False\n"
     ]
    },
    {
     "data": {
      "text/plain": [
       "bool"
      ]
     },
     "execution_count": 11,
     "metadata": {},
     "output_type": "execute_result"
    }
   ],
   "source": [
    "my_variable = 5 < 3\n",
    "print(my_variable)\n",
    "type(my_variable)"
   ]
  },
  {
   "cell_type": "markdown",
   "metadata": {},
   "source": [
    "The *boolean-valued expression* `5 < 3` evaluates to `False`. Python can calculate the expression's value (`False`) and assign it to a variable, just like a number or a piece of text."
   ]
  },
  {
   "cell_type": "markdown",
   "metadata": {},
   "source": [
    "To compare for *in*equality, we use `!=`:"
   ]
  },
  {
   "cell_type": "code",
   "execution_count": 12,
   "metadata": {
    "tags": []
   },
   "outputs": [
    {
     "name": "stdout",
     "output_type": "stream",
     "text": [
      "they are not the same\n"
     ]
    }
   ],
   "source": [
    "my_number = 5\n",
    "test_number = 7\n",
    "\n",
    "if my_number == test_number:\n",
    "    print('hooray')\n",
    "    \n",
    "if my_number != test_number:\n",
    "    print('they are not the same')"
   ]
  },
  {
   "cell_type": "markdown",
   "metadata": {},
   "source": [
    "There is one more primitive type of data: a `float`, which is basically a number that isn't an integer:"
   ]
  },
  {
   "cell_type": "code",
   "execution_count": 13,
   "metadata": {},
   "outputs": [
    {
     "data": {
      "text/plain": [
       "float"
      ]
     },
     "execution_count": 13,
     "metadata": {},
     "output_type": "execute_result"
    }
   ],
   "source": [
    "type(10.3)"
   ]
  },
  {
   "cell_type": "markdown",
   "metadata": {},
   "source": [
    "Floats are obviously extremely useful when using Python to perform some analysis of actual data, since data is rarely restricted to integer values. We will see why `int`s are useful in other ways in the next section.\n",
    "\n",
    "There are just a couple more quick \"rules\" you should know about these four types of data:"
   ]
  },
  {
   "cell_type": "code",
   "execution_count": 14,
   "metadata": {
    "tags": []
   },
   "outputs": [
    {
     "name": "stdout",
     "output_type": "stream",
     "text": [
      "True\n"
     ]
    }
   ],
   "source": [
    "# You can compare floats and ints\n",
    "this_works_as_expected = 10.3 > 5\n",
    "print(this_works_as_expected)"
   ]
  },
  {
   "cell_type": "markdown",
   "metadata": {},
   "source": [
    "You can change the type of data by \"casting\":"
   ]
  },
  {
   "cell_type": "code",
   "execution_count": 15,
   "metadata": {
    "tags": []
   },
   "outputs": [
    {
     "name": "stdout",
     "output_type": "stream",
     "text": [
      "2.0\n"
     ]
    },
    {
     "data": {
      "text/plain": [
       "float"
      ]
     },
     "execution_count": 15,
     "metadata": {},
     "output_type": "execute_result"
    }
   ],
   "source": [
    "# Cast an int to a float\n",
    "test_float = float(2)\n",
    "\n",
    "print(test_float)\n",
    "type(test_float)"
   ]
  },
  {
   "cell_type": "code",
   "execution_count": 16,
   "metadata": {
    "tags": []
   },
   "outputs": [
    {
     "name": "stdout",
     "output_type": "stream",
     "text": [
      "hello world, i am these many years old: 99.99\n"
     ]
    },
    {
     "data": {
      "text/plain": [
       "str"
      ]
     },
     "execution_count": 16,
     "metadata": {},
     "output_type": "execute_result"
    }
   ],
   "source": [
    "# Cast a float to a str and concatenate it with another string\n",
    "base_str = 'hello world, i am these many years old: '\n",
    "str_to_add = str(99.99)\n",
    "\n",
    "print(base_str + str_to_add)\n",
    "type(base_str + str_to_add)"
   ]
  },
  {
   "cell_type": "code",
   "execution_count": 17,
   "metadata": {
    "tags": []
   },
   "outputs": [
    {
     "name": "stdout",
     "output_type": "stream",
     "text": [
      "0.7142857142857143\n"
     ]
    },
    {
     "data": {
      "text/plain": [
       "float"
      ]
     },
     "execution_count": 17,
     "metadata": {},
     "output_type": "execute_result"
    }
   ],
   "source": [
    "# Create a float by dividing two ints\n",
    "new_float = 5 / 7   \n",
    "\n",
    "print(new_float)\n",
    "type(new_float)\n"
   ]
  },
  {
   "cell_type": "code",
   "execution_count": 18,
   "metadata": {
    "tags": []
   },
   "outputs": [
    {
     "name": "stdout",
     "output_type": "stream",
     "text": [
      "2.0\n"
     ]
    },
    {
     "data": {
      "text/plain": [
       "float"
      ]
     },
     "execution_count": 18,
     "metadata": {},
     "output_type": "execute_result"
    }
   ],
   "source": [
    "# Or by dividing an int by a float\n",
    "float_again = 2 / 1.\n",
    "print(float_again)\n",
    "type(float_again)"
   ]
  },
  {
   "cell_type": "markdown",
   "metadata": {},
   "source": [
    "Congratulations! You are now a Python variable and primitive types professional!\n",
    "\n",
    "By the way, there is one rule that supercedes all others: if you are new to coding or Python, some of what we just did may still be confusing, and that is more than OK, that is basically *expected*. Anyone who seems like a programming whiz had similar moments of confusion when starting out, and everyone continues to learn only through practice. Definitely *take the time for yourself* to learn by changing up the above code cells and just seeing what happens. And if you still have questions, don't hesitate to reach out to us.\n",
    "\n",
    "## 1.b Operators\n",
    "\n",
    "Most of your time in Python will be spent manipulating quantitative data. We would be remiss if we did not show you the rules for basic mathematical operations!\n",
    "\n",
    "Hopefully these need no explanation, so let's just run through them. The key takeaway is the *specific character(s)* you need to type to get the behavior you want:"
   ]
  },
  {
   "cell_type": "code",
   "execution_count": 19,
   "metadata": {},
   "outputs": [
    {
     "data": {
      "text/plain": [
       "4"
      ]
     },
     "execution_count": 19,
     "metadata": {},
     "output_type": "execute_result"
    }
   ],
   "source": [
    "# Addition (+)\n",
    "2 + 2"
   ]
  },
  {
   "cell_type": "code",
   "execution_count": 20,
   "metadata": {},
   "outputs": [
    {
     "data": {
      "text/plain": [
       "-74"
      ]
     },
     "execution_count": 20,
     "metadata": {},
     "output_type": "execute_result"
    }
   ],
   "source": [
    "# Subtraction (-)\n",
    "5 - 79"
   ]
  },
  {
   "cell_type": "code",
   "execution_count": 21,
   "metadata": {},
   "outputs": [
    {
     "data": {
      "text/plain": [
       "300"
      ]
     },
     "execution_count": 21,
     "metadata": {},
     "output_type": "execute_result"
    }
   ],
   "source": [
    "# Multiplication (*)\n",
    "10 * 30"
   ]
  },
  {
   "cell_type": "code",
   "execution_count": 22,
   "metadata": {},
   "outputs": [
    {
     "data": {
      "text/plain": [
       "3.5"
      ]
     },
     "execution_count": 22,
     "metadata": {},
     "output_type": "execute_result"
    }
   ],
   "source": [
    "# Division (/)\n",
    "7 / 2"
   ]
  },
  {
   "cell_type": "code",
   "execution_count": 23,
   "metadata": {},
   "outputs": [
    {
     "data": {
      "text/plain": [
       "3"
      ]
     },
     "execution_count": 23,
     "metadata": {},
     "output_type": "execute_result"
    }
   ],
   "source": [
    "# \"Integer\" division (//)\n",
    "7 // 2"
   ]
  },
  {
   "cell_type": "markdown",
   "metadata": {},
   "source": [
    "Integer division is basically like rounding the result down the result to the nearest integer. Anywho, onwards:"
   ]
  },
  {
   "cell_type": "code",
   "execution_count": 24,
   "metadata": {},
   "outputs": [
    {
     "data": {
      "text/plain": [
       "1"
      ]
     },
     "execution_count": 24,
     "metadata": {},
     "output_type": "execute_result"
    }
   ],
   "source": [
    "# Modulo operation (%)\n",
    "7 % 2"
   ]
  },
  {
   "cell_type": "markdown",
   "metadata": {},
   "source": [
    "The modulo operation gives you the *remainder*. And finally:"
   ]
  },
  {
   "cell_type": "code",
   "execution_count": 25,
   "metadata": {},
   "outputs": [
    {
     "data": {
      "text/plain": [
       "9"
      ]
     },
     "execution_count": 25,
     "metadata": {},
     "output_type": "execute_result"
    }
   ],
   "source": [
    "# Exponentiation\n",
    "3 ** 2"
   ]
  },
  {
   "cell_type": "markdown",
   "metadata": {},
   "source": [
    "## 1.c Lists and Objects\n",
    "\n",
    "Earlier we said that variables can hold any type of value, and we just examined 4 \"primitive\" types that come along with Python. But variables can also hold *objects*.\n",
    "\n",
    "In programming, an object is basically an organized set of values with a set of possible operations, or *methods*, that can act on them. So, you might have a data table, with many rows and columns, which you want to store in your program and refer to with a single variable name. Or you might have a list of people to invite to your birthday party, but rather than making a new variable for each person, you want to refer to the entire list with a single variable name. The possibilities for objects are endless (the best part: you can [create your own](https://docs.python.org/3/tutorial/classes.html)! But that's an advanced topic you could explore on your own time...)\n",
    "\n",
    "We'll focus on a key object type that comes standard with any installation of Python: a `list`. Again, modules (those \"Python expansion packs\" we haven't looked at yet) may give you the option of using a *huge* number of other object types. Understanding how lists work, though, will (a) be widely useful on its own in your projects this summer, and (b) provide a basis for you to understand any fancier objects later on.\n",
    "\n",
    "Just as with the 4 primitive value types, we assign `list`s to a variable name by writing the variable name first:"
   ]
  },
  {
   "cell_type": "code",
   "execution_count": 26,
   "metadata": {
    "tags": []
   },
   "outputs": [
    {
     "name": "stdout",
     "output_type": "stream",
     "text": [
      "['one', 'two', 3, 4.0, 5, True]\n"
     ]
    },
    {
     "data": {
      "text/plain": [
       "list"
      ]
     },
     "execution_count": 26,
     "metadata": {},
     "output_type": "execute_result"
    }
   ],
   "source": [
    "my_first_list = ['one', 'two', 3, 4.0, my_number, True]\n",
    "\n",
    "print(my_first_list)\n",
    "type(my_first_list)"
   ]
  },
  {
   "cell_type": "markdown",
   "metadata": {},
   "source": [
    "That was...exciting? Let's deconstruct the code.\n",
    "\n",
    "As before, `my_first_list` is just a variable name, available for use later on in your code. We told Python to construct the list by typing the pair of brackets, `[ ]`. We just happened to fill the list with a few values and variables, each separated by a comma (and each of an arbitrary data type). And, well, that's all there is to it: a list is an ordered set of values/variables, of any type, enclosed in brackets and separated by commas.\n",
    "\n",
    "Try doing the next code cell by yourself!"
   ]
  },
  {
   "cell_type": "code",
   "execution_count": 27,
   "metadata": {},
   "outputs": [],
   "source": [
    "# Make a list of 3 friends you will invite to your birthday\n",
    "names =\n",
    "\n",
    "# Make a list of their ages\n",
    "ages ="
   ]
  },
  {
   "cell_type": "markdown",
   "metadata": {},
   "source": [
    "Though simple, lists can be immensely useful. For one thing, not only can they hold any value type, they can even hold objects, including other lists:"
   ]
  },
  {
   "cell_type": "code",
   "execution_count": 31,
   "metadata": {},
   "outputs": [
    {
     "name": "stdout",
     "output_type": "stream",
     "text": [
      "[['a', 'b', 'c'], [1, 2, 3]]\n"
     ]
    }
   ],
   "source": [
    "# Let's put the names and ages of our friends together\n",
    "friend_info = [names, ages]\n",
    "\n",
    "print(friend_info)"
   ]
  },
  {
   "cell_type": "markdown",
   "metadata": {},
   "source": [
    "This could be extremely useful if, say, you have some quantitative data that lives in two or more dimensions, like a scatter plot. \n",
    "\n",
    "Lists are also \"ordered,\" which means you can access each of the values/variables/objects stored inside in a universal way -- you don't have to know the variable name of anything you put in the list! The process of accessing or manipulating entries in a list is called \"indexing:\" the \"index\" of an item in a list basically means its location. Let's look at an example:"
   ]
  },
  {
   "cell_type": "code",
   "execution_count": 28,
   "metadata": {},
   "outputs": [
    {
     "name": "stdout",
     "output_type": "stream",
     "text": [
      "a\n"
     ]
    }
   ],
   "source": [
    "# Retrieve the first name on your list of friend names\n",
    "first_name = names[0]\n",
    "\n",
    "print(first_name)"
   ]
  },
  {
   "cell_type": "markdown",
   "metadata": {},
   "source": [
    "Remember, `names` is a list containing whatever you put into it earlier. We access items in the list by placing another pair of brackets immediately after this list: `names[0]`. Don't be alarmed! This pair of brackets is *not* a list -- rather, it's telling Python that we want to access index \"0\" of the object (`names`) *immediately* preceding it. And yes, as you can infer, Python indices start with \"0\" and count up. So if we wanted the third age in your list of friends' ages:"
   ]
  },
  {
   "cell_type": "code",
   "execution_count": 29,
   "metadata": {},
   "outputs": [
    {
     "name": "stdout",
     "output_type": "stream",
     "text": [
      "3\n"
     ]
    }
   ],
   "source": [
    "# Retrieve the third age on your list of friend ages\n",
    "third_age = ages[2]\n",
    "\n",
    "print(third_age)"
   ]
  },
  {
   "cell_type": "markdown",
   "metadata": {},
   "source": [
    "Trust me: the more time you spend in Python, the more you will think the \"right\" thing to do is to *always* start counting up from 0...\n",
    "\n",
    "So here's the rule with lists: to make them, place any value, or variable (whether or not that variable holds a value, or an object, which might itself be a list!) inside brackets, and separate them by commas. To *access* an item in a list, type a pair of brackets with the *index* of the item you want to retrieve inside, *immediately* following the list itself.\n",
    "\n",
    "Hopefully this last example makes things clear. It will look a little tricky at first, and if it confuses you, play around by adding some intermediate steps, or reach out for help!"
   ]
  },
  {
   "cell_type": "code",
   "execution_count": 32,
   "metadata": {},
   "outputs": [
    {
     "name": "stdout",
     "output_type": "stream",
     "text": [
      "[['a', 'Kasey', 'c'], [1, 2, 3]]\n"
     ]
    }
   ],
   "source": [
    "# Using only the combined list \"friend_info\", change the name\n",
    "# of your second friend to \"Kasey\". Do it in only one line of code!\n",
    "\n",
    "friend_info[0][1] = 'Kasey'\n",
    "\n",
    "print(friend_info)"
   ]
  },
  {
   "cell_type": "markdown",
   "metadata": {},
   "source": [
    "Here's the trick: Python reads from left to right, and will try to interpret the code as it goes. So the first (non-trivial) expression Python finds is `friend_info[0]`. Based on our definition of the list `friend_info`, the first item inside is another list: `names`. Try it out for yourself:"
   ]
  },
  {
   "cell_type": "code",
   "execution_count": 33,
   "metadata": {},
   "outputs": [
    {
     "name": "stdout",
     "output_type": "stream",
     "text": [
      "[['a', 'Kasey', 'c'], [1, 2, 3]]\n"
     ]
    }
   ],
   "source": [
    "# Change Kasey's age to 30.65, using only the combined list\n",
    "# \"friend_info\" and one line of code\n",
    "\n",
    "# your code goes here!\n",
    "\n",
    "print(friend_info)"
   ]
  },
  {
   "cell_type": "markdown",
   "metadata": {},
   "source": [
    "There are three more super useful tricks you should learn about lists:"
   ]
  },
  {
   "cell_type": "code",
   "execution_count": 34,
   "metadata": {},
   "outputs": [
    {
     "name": "stdout",
     "output_type": "stream",
     "text": [
      "3\n"
     ]
    }
   ],
   "source": [
    "# We can get the length of a list with the \"len\" function\n",
    "# Place your list in the parentheses (just like a mathematical function!)\n",
    "num_names = len(names)\n",
    "print(num_names)"
   ]
  },
  {
   "cell_type": "markdown",
   "metadata": {},
   "source": [
    "and, we can quickly build lists that contain an ordered set of numbers:"
   ]
  },
  {
   "cell_type": "code",
   "execution_count": 35,
   "metadata": {},
   "outputs": [
    {
     "name": "stdout",
     "output_type": "stream",
     "text": [
      "[0, 1, 2, 3, 4, 5, 6, 7, 8, 9, 10, 11, 12, 13, 14, 15, 16, 17, 18, 19, 20, 21, 22, 23, 24, 25, 26, 27, 28, 29, 30, 31, 32, 33, 34, 35, 36, 37, 38, 39, 40, 41, 42, 43, 44, 45, 46, 47, 48, 49]\n"
     ]
    }
   ],
   "source": [
    "# Get all the numbers from 0, up to but not including 50, in a list\n",
    "\n",
    "zero_to_49 = list(range(50))\n",
    "print(zero_to_49)"
   ]
  },
  {
   "cell_type": "markdown",
   "metadata": {},
   "source": [
    "Two things happened here: we used the `range` function -- which generates integers from 0 up to *but not including* the integer in the parentheses (see the Python [docs](https://docs.python.org/3/library/functions.html#func-range) for more)! But `range` does not place the numbers in the format of a list -- to put the result into a list, we *cast* the result to a list *type*, just like we did with the primitive types in 1.a.\n",
    "\n",
    "Finally:"
   ]
  },
  {
   "cell_type": "code",
   "execution_count": 36,
   "metadata": {},
   "outputs": [
    {
     "name": "stdout",
     "output_type": "stream",
     "text": [
      "['a', 'b', 'c', 1, 2, 3]\n"
     ]
    }
   ],
   "source": [
    "# We can merge two lists together\n",
    "# This is called concatenation, like with strings!\n",
    "one_list = ['a', 'b', 'c']\n",
    "another_list = [1, 2, 3]\n",
    "\n",
    "final_list = one_list + another_list\n",
    "\n",
    "print(final_list)"
   ]
  },
  {
   "cell_type": "markdown",
   "metadata": {},
   "source": [
    "To be clear: both objects being concatenated must be lists -- even if you wanted to add a single number to the end of a list:"
   ]
  },
  {
   "cell_type": "code",
   "execution_count": 37,
   "metadata": {},
   "outputs": [
    {
     "name": "stdout",
     "output_type": "stream",
     "text": [
      "[1, 2, 3, 4]\n"
     ]
    }
   ],
   "source": [
    "numbers_list = another_list + [4]\n",
    "print(numbers_list)"
   ]
  },
  {
   "cell_type": "markdown",
   "metadata": {},
   "source": [
    "### 1.d.1 Flow Control: if/else statements"
   ]
  },
  {
   "cell_type": "markdown",
   "metadata": {},
   "source": [
    "As you build more and more complicated programs, you will often find you want your program to do something different: (a) depending on some condition that (b) you want your code to figure out for itself.\n",
    "\n",
    "In fact, we already saw this, in our first code snippet! Perhaps it's best to learn the relevant rules by example. Let's bring back our code snippet from part 1.a: "
   ]
  },
  {
   "cell_type": "code",
   "execution_count": 38,
   "metadata": {},
   "outputs": [
    {
     "name": "stdout",
     "output_type": "stream",
     "text": [
      "they are not the same\n"
     ]
    }
   ],
   "source": [
    "my_number = 5\n",
    "test_number = 7\n",
    "\n",
    "equality_test = my_number == test_number\n",
    "\n",
    "if equality_test:\n",
    "    print('hooray')\n",
    "    \n",
    "if not equality_test:\n",
    "    print('they are not the same')"
   ]
  },
  {
   "cell_type": "markdown",
   "metadata": {},
   "source": [
    "You may have already discovered that the output of this code is controlled by whether `my_number` and `test_number` are the same, but if not, try changing the value of `my_number` so that it is the same as `test_number` and run the cell. Next, change the values of `my_number` and `test_number` so that they are different, and run the cell. Perhaps it's a bit simple, but the code does something *different* depending on whether or not the boolean variable `equality_test` is true. This is basic flow control!\n",
    "\n",
    "What are the rules to doing this correctly? Evidently, the control statement starts with an `if`. Next comes a boolean expression (here, stored in the variable `equality_test`). The line ends with a colon, `:`. But there could be hundreds of lines of code left in our program -- how do we tell which lines Python will run *only* if the condition is true?\n",
    "\n",
    "This is where Python *formatting* comes in. We tell Python which code to execute if `equality_test` is true by *indenting it immediately after the colon*. *All* the indented code will *only* be executed if the *boolean expression* in the `if` statement is true:"
   ]
  },
  {
   "cell_type": "code",
   "execution_count": 39,
   "metadata": {},
   "outputs": [
    {
     "name": "stdout",
     "output_type": "stream",
     "text": [
      "the code\n",
      "has gone\n",
      "down this\n",
      "path\n",
      "the code always does this\n",
      "the code always does this, too\n"
     ]
    }
   ],
   "source": [
    "if 2 < 3:\n",
    "    print('the code')\n",
    "    print('has gone')\n",
    "    print('down this')\n",
    "    print('path')\n",
    "\n",
    "print('the code always does this')\n",
    "\n",
    "if 2 > 3:\n",
    "    print('the code')\n",
    "    print('will not')\n",
    "    print('do this')\n",
    "    \n",
    "print('the code always does this, too')"
   ]
  },
  {
   "cell_type": "markdown",
   "metadata": {},
   "source": [
    "If you don't indent immediately following the `if` statement, Python will say you broke another rule:"
   ]
  },
  {
   "cell_type": "code",
   "execution_count": 40,
   "metadata": {},
   "outputs": [
    {
     "ename": "IndentationError",
     "evalue": "expected an indented block (225814567.py, line 2)",
     "output_type": "error",
     "traceback": [
      "\u001b[0;36m  File \u001b[0;32m\"/var/folders/vp/33jx9n412n39sbg_r_bys0m4000187/T/ipykernel_57916/225814567.py\"\u001b[0;36m, line \u001b[0;32m2\u001b[0m\n\u001b[0;31m    print('i forgot to indent')\u001b[0m\n\u001b[0m    ^\u001b[0m\n\u001b[0;31mIndentationError\u001b[0m\u001b[0;31m:\u001b[0m expected an indented block\n"
     ]
    }
   ],
   "source": [
    "if True:\n",
    "print('i forgot to indent')"
   ]
  },
  {
   "cell_type": "markdown",
   "metadata": {},
   "source": [
    "You should learn two \"tricks\" that can help construct intricate code flow with `if` statements. The first is the `else` statement, which we used in the first example. The `else` statement is built very similar to an `if` statement, but without the boolean expression. Instead, each `else` statement is \"married\" to the immediately preceding `if` statement at the *same level of indentation*. The `else` statement is synonymous with \"Python, do this instead when the condition in the `if` statement was false\":"
   ]
  },
  {
   "cell_type": "code",
   "execution_count": 40,
   "metadata": {},
   "outputs": [
    {
     "name": "stdout",
     "output_type": "stream",
     "text": [
      "4 3\n",
      "False\n",
      "they are different\n"
     ]
    }
   ],
   "source": [
    "a = 4\n",
    "b = 3\n",
    "\n",
    "if a == b:\n",
    "    print('they are the same')\n",
    "    \n",
    "else:\n",
    "    print(a, b)\n",
    "    print(a == b)\n",
    "    print('they are different')"
   ]
  },
  {
   "cell_type": "markdown",
   "metadata": {},
   "source": [
    "The second trick is that `if`-`else` statements can be *nested*. Keep track of your indentation!"
   ]
  },
  {
   "cell_type": "code",
   "execution_count": 41,
   "metadata": {},
   "outputs": [
    {
     "name": "stdout",
     "output_type": "stream",
     "text": [
      "c is d, but e isn't f\n"
     ]
    }
   ],
   "source": [
    "c = 10\n",
    "d = 10\n",
    "\n",
    "e = 11\n",
    "f = 12\n",
    "\n",
    "if c == d:\n",
    "    if e == f:\n",
    "        print(\"c is d, and e is f\")\n",
    "    else:\n",
    "        print(\"c is d, but e isn't f\")\n",
    "else:\n",
    "    if e == f:\n",
    "        print(\"c isn't d, but e is f\")\n",
    "    else:\n",
    "        print(\"c isn't d, and e isn't f\")"
   ]
  },
  {
   "cell_type": "markdown",
   "metadata": {},
   "source": [
    "Take some time to follow where the code went in this snippet, and why (and reach out for any help if you need it!).\n",
    "\n",
    "What if you need to test for another condition if the first condition is false? That's sort of like combining an `else` with an `if` -- so it's called `elif`:"
   ]
  },
  {
   "cell_type": "code",
   "execution_count": 42,
   "metadata": {},
   "outputs": [
    {
     "name": "stdout",
     "output_type": "stream",
     "text": [
      "e is smaller than f\n"
     ]
    }
   ],
   "source": [
    "if e > f:\n",
    "    print(\"e is larger than f\")\n",
    "elif e < f:\n",
    "    print(\"e is smaller than f\")\n",
    "else:\n",
    "    print(\"e equal to f\")"
   ]
  },
  {
   "cell_type": "markdown",
   "metadata": {},
   "source": [
    "Why not just use `else if`? Because remember `else` needs to be followed by a colon (`:`) in Python!"
   ]
  },
  {
   "cell_type": "markdown",
   "metadata": {},
   "source": [
    "### 1.d.2 Flow Control: for loops\n",
    "\n",
    "A second, critically important type of flow control is a `for` loop. For loops are used to iterate through items in a sequence and execute *the same code* with each new item. This sounds a little abstract, so let's look at an example:"
   ]
  },
  {
   "cell_type": "code",
   "execution_count": 43,
   "metadata": {},
   "outputs": [
    {
     "name": "stdout",
     "output_type": "stream",
     "text": [
      "a, you are invited to my birthday party\n",
      "Kasey, you are invited to my birthday party\n",
      "c, you are invited to my birthday party\n"
     ]
    }
   ],
   "source": [
    "# Tell each one of our friends they are invited to our birthday party\n",
    "for n in names:\n",
    "    print(n + \", you are invited to my birthday party\")"
   ]
  },
  {
   "cell_type": "markdown",
   "metadata": {},
   "source": [
    "The code structure is *similar* to `if`/`else` statements. We start with a `for`, then we introduce a *dummy variable*; in this case, `n`. Next we add `in`, and finally, we must add the name of an *iterable object*. An iterable object is any object that supports iteration over its elements -- for the purposes of this notebook, we can just use a list: our old list from part 1.c, `names`.\n",
    "\n",
    "As before, a colon (`:`) signifies the end of the `for` statement, and then we have an indented block of code. A `for` loop will execute this, and only this, *indented* block of code over and over; each time the *dummy variable* defined in the `for` statement will take on the *next value in the list*. Here's another example, using another old list, `zero_to_49`:"
   ]
  },
  {
   "cell_type": "code",
   "execution_count": 44,
   "metadata": {},
   "outputs": [
    {
     "name": "stdout",
     "output_type": "stream",
     "text": [
      "0 is a multiple of 8\n",
      "8 is a multiple of 8\n",
      "16 is a multiple of 8\n",
      "24 is a multiple of 8\n",
      "32 is a multiple of 8\n",
      "40 is a multiple of 8\n",
      "48 is a multiple of 8\n"
     ]
    }
   ],
   "source": [
    "# print the multiples of 8 from 0 and up to, but not including, 50\n",
    "for i in zero_to_49:\n",
    "    if i % 8 == 0:\n",
    "        print(str(i) + ' is a multiple of 8')"
   ]
  },
  {
   "cell_type": "markdown",
   "metadata": {},
   "source": [
    "Once we understand this piece of code, we are well on our way to some reasonably complicated programming: it combines everything we've talked about so far! Let's go piece by piece; be sure to digest each idea before moving on...\n",
    "\n",
    "Python will execute the code inside the `for` loop -- which is itself an `if` statement! -- *for each value of `i`*. From the definition of `zero_to_49`, we know those values of `i` will be (in order) 0, 1, 2, ..., 49. The `if` statement says \"if the *remainder* of `i` divided by 8 is 0\", while the `print` statement (a) first casts an `int` (`i`, whatever it may be) to a `str`, and then concatenates that string with a message. That's a lot of information in such a small piece of code -- hopefully you can start to feel just how powerful Python could be for data analysis!\n",
    "\n",
    "Are you ready for another coding exercise?"
   ]
  },
  {
   "cell_type": "code",
   "execution_count": 46,
   "metadata": {},
   "outputs": [],
   "source": [
    "# Use a for loop to add up the total age of your friends\n",
    "# Hint: a = a + b will overwrite the value of \"a\" with\n",
    "# the previous value of \"a\" plus the value of b\n",
    "\n",
    "# your code goes here"
   ]
  },
  {
   "cell_type": "markdown",
   "metadata": {},
   "source": [
    "Remember, if you need any help, or just want another hint, reach out to us!\n",
    "\n",
    "Just because it's a super common practice, we should look at a specific `for` loop setup: looping over list indices. Oftentimes it is the case that you will need to access each item in a list by its *index*, perhaps to modify it in place. We can do this easily with a for loop. Here's an example: imagine you realized you entered the ages of your friends wrong, and you want to add a year to the first person, two years to the second, three to the third...\n",
    "\n",
    "I am going to throw in three tricks here which we'll deconstruct after, but see if you can't figure out how they work by either examining the output or playing with the code:"
   ]
  },
  {
   "cell_type": "code",
   "execution_count": 45,
   "metadata": {},
   "outputs": [
    {
     "name": "stdout",
     "output_type": "stream",
     "text": [
      "[2, 4, 6]\n"
     ]
    }
   ],
   "source": [
    "# Add \"n\" years to the age of your \"nth\" friend\n",
    "\n",
    "# Loop over all age *indices*\n",
    "for n in range(len(ages)):\n",
    "    years_to_add = n + 1\n",
    "    ages[n] += years_to_add\n",
    "    \n",
    "# Show the new ages of your friends\n",
    "print(ages)"
   ]
  },
  {
   "cell_type": "markdown",
   "metadata": {},
   "source": [
    "First, we encountered the `range` function from part 1.c, only (unlike the variable `zero_to_49`) this time we did *not* cast its output into a list first. You *will* see this done in other code, and other people reading your code *will* expect it to look like this. What's going on here? Well, the result of \"range\" is an *iterable object* but *not* a list -- all lists are iterable objects, but not all iterable objects are lists! For the purposes of learning the Python ropes, using `range` in your code *without* casting the result into a list will only work in this specific case: inside the `for` statement.\n",
    "\n",
    "Second, we didn't have to explicitly enter the argument of the `range` function like we did when building the `zero_to_49` list. Instead, we let Python figure it out by using the `len` function, which we also met at the end of part 1.c. So putting it together, inside the `for` loop, the *dummy variable* `n` will start at 0 the first time through the code block, then it will be 1 the second time through, ... and the last time through, it will be the length of the list `ages` minus 1. *Here's the key:* remember that Python starts counting indices *from zero*, so `n` will iterate through *all the indices* in the list `ages`!\n",
    "\n",
    "The last trick is the operator `+=`, which is just a shorthand way of writing the \"hint\" from the `for` loop coding exercise. It says \"take the variable on the left-hand-side (`ages[n]`) and *add to it* whatever is on the right-hand-side! You can also use `-=`, `*=`, `/=`, ...\n",
    "\n",
    "Let's pause. Great job! With these pieces -- variable types, mathematical operations, lists, `if`/`else` statements, and `for` loops -- you are well-equipped to tackle a *huge* number of possible programming tasks!\n",
    "\n",
    "Perhaps it would be useful to organize the topics, rules, and tricks we covered so far. This way, you can remind yourself of what you feel more comfortable with, and what you might want to go back and review:\n",
    "\n",
    "#### Part 0 What is this?\n",
    "* Highlight a code cell and press `shift` + `enter` to execute its code\n",
    "* `print(some expression)` will display the value of whatever is in the parentheses \n",
    "\n",
    "#### Part 1.a Variables and Types\n",
    "* Assign values to variables by writing `variable = value`, in that order\n",
    "* We covered 4 *types* of primitive values: `int`, `str`, `bool`, and `float`\n",
    "* In writing *boolean-valued* expressions, write `==` to mean \"is equal to\" and `!=` to mean \"is not equal to\"\n",
    "* You can change the type of some value/variable by \"casting\" it to another type. This can happen explicitly -- `int(10.3)` is an `int` -- or implicitly -- `7 / 2` is a `float`\n",
    "\n",
    "#### Part 1.b Operators\n",
    "* We covered `+`, `-`, `*`, `/`, `//`, and `**`\n",
    "* We talked about the `+=`, `-=`, `*=`, and `/=` operators as well\n",
    "\n",
    "#### Part 1.c Lists\n",
    "* We can build lists by enclosing variables in brackets, separated by commas\n",
    "* Lists can be \"multi layered\": you can have a list of lists!\n",
    "* We can access the items in a list by indexing: place the index number in brackets immediately after the list. Remember, the first index is \"0\"!\n",
    "* If you have a `list` of `list`s, you can compactly \"stack\" your indexing, e.g., `list[0][4]` returns the 5th item in the first list\n",
    "* We gave an overview of the `len()` and `range()` functions\n",
    "* Concatenation of two lists is achieved with the `+` symbol\n",
    "\n",
    "#### Part 1.d.1 Flow control: if/else statements\n",
    "* We write `if` statements like this: `if condition:` followed by an indented block of code. `condition` must be boolean-valued\n",
    "* An `else` statement can follow an `if` statement *on the same level of indentation*. Code following an `else` statement will execute when `condition` is false\n",
    "* `if`/`else` statements can be nested\n",
    "* `elif` is shorthand for \"else if\"\n",
    "\n",
    "#### Part 1.d.2 Flow control: for loops\n",
    "* We write `for` loop statements like this: `for *dummy variable* in *iterable object*:` followed by an indented block of code\n",
    "* The `for` loop repeats the indented block of code, updating *dummy variable* each time for each item in the *iterable object*\n",
    "* Lists are a widely-useful example of an *iterable object*\n",
    "* The `range()` function can also be used directly as an *iterable object*\n",
    "* It is common to see `for` loop statements written like: `for *dummy variable* in range(len(*list*)):`\n",
    "\n",
    "\n",
    "The next two sections are not nearly as long as \"The Basics,\" but they'll each introduce absolutely *critical* tools for your programming toolbelt, both this summer and beyond.\n",
    "\n",
    "## Part 2: Defining Functions\n",
    "\n",
    "When using Python for data analysis, we will often want to perform the same manipulation on our data, over and over again. Rather than retyping the same code every time, we can package pieces of code -- each performing a specific task -- into a *function*.\n",
    "\n",
    "In some sense, this is just like the functions you are used to seeing in math and physics. For example, consider a particle falling from an initial height $h_0$, with initial velocity $v_0$, and we want to know its height at time $t$. The answer is: $h(t) = -0.5gt^2 + v_0t + h_0$. But rather than write the complicated expression on the right-hand-side every time we want to refer to the height of the particle, we usually just write $h(t)$. A *function* is a shorthand that goes from input(s), like $t$ (and also $v_0$ and $h_0$), to output(s), $h(t)$.\n",
    "\n",
    "We can encode the exact same shorthand in Python:"
   ]
  },
  {
   "cell_type": "code",
   "execution_count": 46,
   "metadata": {},
   "outputs": [
    {
     "name": "stdout",
     "output_type": "stream",
     "text": [
      "55.855\n"
     ]
    }
   ],
   "source": [
    "# Write a function that gives the particle height\n",
    "# at time t, for a given v_0 and h_0\n",
    "\n",
    "def h(t, v_0, h_0):\n",
    "    g = 9.81 \n",
    "    return -0.5 * g * t**2 + v_0 * t + h_0    \n",
    "\n",
    "# Use this function to model an object falling from 100 meters at rest\n",
    "t_final = 3\n",
    "h_final = h(t_final, 0, 100)\n",
    "print(h_final)"
   ]
  },
  {
   "cell_type": "markdown",
   "metadata": {},
   "source": [
    "Let's deconstruct the code!\n",
    "\n",
    "All functions begin with *definition* statements, which tell Python \"pay attention, we are about to define a function!\" The Python rule is: we do this by proclaiming `def`, followed by a space. *Whatever* text immediately comes after the space will be the *name* of the function. If you want to *use* this function later in your code, you will type this name at that time.\n",
    "\n",
    "We enclose the *arguments* of the function in parentheses, separated by commas. The parentheses *immediately* follow the function name. Arguments are variables that the code in the function requires in order to run. Perhaps this is the most subtle point in defining a function: whereas in physics you may be happy to write $h(t)$, in Python, you must explicitly write all of the arguments that will determine the value of the function, i.e., $h(t, v_0, h_0)$. When defining functions in your own code this summer, you may find yourself spending more time than you would think determining exactly which information is actually needed as an input!\n",
    "\n",
    "As with flow control, the `def` statement concludes with a colon, `:`, and the code that will be executed *whenever* the function is called later on *immediately* follows the colon in an indented block. At this point, you can implement any code you like! The key is that this indented code will have access to the variables in the arguments *at the time the function is called*. In our example, when we called our function to model the falling particle, we passed the values in `t_final`, 0, and 100 to our function. Because of the *order* of the arguments in the `def` statement, when we *called* the function, Python assigned the value in `t_final` to `t`, `0` to `v_0`, and `100` to `h`. \n",
    "\n",
    "To end the function, in particular if you would like the function to have some *output*, you use a `return` statement. Any Python expression -- it could be a value, variable, object, or a mathematical expression like in the example -- can go in the `return` statement, it just has to follow the word `return`.\n",
    "\n",
    "Let's try an exercise! Absolutely don't hesitate to reach out with any questions."
   ]
  },
  {
   "cell_type": "code",
   "execution_count": 49,
   "metadata": {},
   "outputs": [],
   "source": [
    "# First, let's practice using functions in the context of Python code\n",
    "# Give a particle an initial height and velocity by assigning those values to two variables\n",
    "\n",
    "# your code goes here\n",
    "\n",
    "# We want to find the height of the object at several times\n",
    "# Make a list of times\n",
    "# Remember, there are many ways you could build your list!\n",
    "\n",
    "# your code goes here\n",
    "\n",
    "# We want to place the output heights in another list\n",
    "# Either build a list of the same length as your list of times\n",
    "# Or initialize an empty list\n",
    "\n",
    "# your code goes here\n",
    "\n",
    "# Use a for-loop and our function \"h\" to fill the output list\n",
    "# with the heights of the particle at each time in your list of times\n",
    "# Hint: if your output list is an empty list, you could concatenate\n",
    "# it with the output of each function call!\n",
    "\n",
    "# your code goes here\n",
    "\n",
    "# print the list of times and the list of heights\n",
    "\n",
    "# your code goes here"
   ]
  },
  {
   "cell_type": "markdown",
   "metadata": {},
   "source": [
    "Unlike in math and phyics, functions in Python are not restricted to quantitative data. Let's write a function which will output the age *and* name of your oldest friend:"
   ]
  },
  {
   "cell_type": "code",
   "execution_count": 47,
   "metadata": {},
   "outputs": [
    {
     "name": "stdout",
     "output_type": "stream",
     "text": [
      "oldest age is 25\n",
      "oldest name is y\n"
     ]
    }
   ],
   "source": [
    "def age_name_oldest_friend(list_of_ages, list_of_names):\n",
    "    \n",
    "    # These variables will be updated\n",
    "    # It's important that oldest_age_so_far starts as something\n",
    "    # less than the youngest possible age!\n",
    "    oldest_age_so_far = -1\n",
    "    oldest_index = -1\n",
    "    \n",
    "    # Loop through your list of ages\n",
    "    # The goal will be to find the index corresponding to your oldest friend\n",
    "    for i in range(len(list_of_ages)):\n",
    "        \n",
    "        # If the age of your friend at this index is\n",
    "        # older than the oldest_age_so far, do something\n",
    "        if list_of_ages[i] > oldest_age_so_far:\n",
    "            \n",
    "            # Save this index as the new *potential* index of your oldest friend\n",
    "            oldest_index = i\n",
    "            \n",
    "            # Update the oldest_age_so_far to be the age of your friend at this index\n",
    "            oldest_age_so_far = list_of_ages[i]\n",
    "    \n",
    "    # We are back to the same indentation level as the for-statement, so\n",
    "    # this code is no longer part of the for-loop\n",
    "    # Return the age and name of your oldest friend\n",
    "    return list_of_ages[oldest_index], list_of_names[oldest_index]\n",
    "\n",
    "# Try it out! Lets start with a new list of friends and their ages\n",
    "ages = [20, 23, 25, 22]\n",
    "names = ['w', 'x', 'y', 'z']\n",
    "\n",
    "# Call the function with the arguments in the right order\n",
    "# Assign the outputs to two variables, also in the right order\n",
    "oldest_age, oldest_name = age_name_oldest_friend(ages, names)\n",
    "\n",
    "print(\"oldest age is \" + str(oldest_age))\n",
    "print(\"oldest name is \" + oldest_name)"
   ]
  },
  {
   "cell_type": "markdown",
   "metadata": {},
   "source": [
    "Understanding the *logic* of how this function works is *not* easy. If you find it confusing, try \"following the instructions\" of the code by hand for a small test case, or add some `print` statements in the function code to trace what happens as the code runs. But the *key* point to take away is that most of the inputs and outputs were *not* quantitative. Both of the arguments are *lists*. One of the outputs is a *string*. Functions in Python are useful for manipulating *all types* of your data, including data that lives in an object, like a list.\n",
    "\n",
    "By the way, we just learned a new trick: if you want a function to have *multiple* outputs, separate them with commas in the `return` statement. Just make sure when you actually *call* the function later on in your code, you have the correct *number* of variables (separated by commas) on the left-hand-side of the variable assignment equation, in the *correct* order!\n",
    "\n",
    "It's time for another coding challenge! This time, you will write your own functions. Try to make as much headway as you can by yourself, but please reach out for *any* and *all* help:"
   ]
  },
  {
   "cell_type": "code",
   "execution_count": 48,
   "metadata": {},
   "outputs": [],
   "source": [
    "# Write a function that calculates weighted-averages\n",
    "# Its arguments should be a list of numbers to average, and\n",
    "# a list of weights to apply to those numbers\n",
    "\n",
    "# your code goes here\n",
    "\n",
    "# Write a function that calculates the \"center of mass\"\n",
    "# of a physical object\n",
    "# Treat the \"index\" of a list as the \"position\", and the value at that\n",
    "# position as the mass at that position\n",
    "# We give you the mass as a function of position in the following list\n",
    "# Hint: in this new function, use the function you just made!\n",
    "\n",
    "mass_by_position = [0.2, 1, 1.5, 1.5, 2, 5, 6.2, 6., 4, 2]\n",
    "\n",
    "# your code goes here\n",
    "\n",
    "# Print the result. Does it make sense?"
   ]
  },
  {
   "cell_type": "markdown",
   "metadata": {},
   "source": [
    "One last note about functions: sometimes, you will want to give your arguments a default value. That way, you won't have to explicitly specify what value an argument should be every time you use your function. We do this by writing `argument=*default*` in the `def` statement, as opposed to just `argument` between the parentheses:"
   ]
  },
  {
   "cell_type": "code",
   "execution_count": 49,
   "metadata": {},
   "outputs": [
    {
     "name": "stdout",
     "output_type": "stream",
     "text": [
      "10\n",
      "40\n",
      "40\n"
     ]
    }
   ],
   "source": [
    "def default_example(arg1=10):\n",
    "    print(arg1)\n",
    "    return\n",
    "\n",
    "# Try it\n",
    "default_example()\n",
    "\n",
    "# Try it again\n",
    "default_example(40)\n",
    "\n",
    "# This does the same thing\n",
    "default_example(arg1=40)"
   ]
  },
  {
   "cell_type": "markdown",
   "metadata": {},
   "source": [
    "The first time we use the function, we passed no arguments. Instead, Python knew to use the default value of 10. The second time, we pass a value of 40. In the third example, we used the name of the argument in the function call. This is particularly useful for functions with many arguments because it lets you specify values for those arguments in an arbitrary order."
   ]
  },
  {
   "cell_type": "markdown",
   "metadata": {},
   "source": [
    "## Part 3: Modules\n",
    "\n",
    "We've mentioned \"modules\" a few times so far, referring to them as \"Python expansion packs.\" Now it's time we learn what they *really* are. Since you have gotten a taste of how useful functions can be in Python, you'll be excited to learn that modules are \"libraries\" of custom functions that other people have already written, and you get to use them in your code (see the Python [docs](https://docs.python.org/3/tutorial/modules.html) for more).\n",
    "\n",
    "This is great, because it allows us to write compact, modular code. We don't ever need to write functions that calculate weighted averages by hand, because someone has already done it for us. All we need to do is *load* their *module*.\n",
    "\n",
    "We will explore what this looks like using two ubiquitous Python packages: Numpy and Matplotlib.\n",
    "\n",
    "### 3.0 Installing modules\n",
    "\n",
    "As we mentioned yesterday, the `conda` distribution we are using is a minimal one. While there are a number of very useful modules included in an Python distribution, some -- Numpy and Matplotlib included -- need to be installed separately. This is easy to do with `conda`, but we have to make sure the right environment is activated. We will need a new terminal window, since the existing one is busy running the Jupyter Lab server. Simply go to the Terminal app and press `⌘+N` (or go to Shell -> New Window -> New Window with Profile - Basic in the menu) to open a new window, then run\n",
    "\n",
    "    % conda activate nsbp-2022\n",
    "    % conda install numpy matplotlib\n",
    "\n",
    "Answer `y` when asked if to proceed and... that's it, now you have Numpy and Matplotlib!\n",
    "\n",
    "<div style=\"text-align: center;\">\n",
    "<img src=\"images/i_know_kung_fu.gif\" />\n",
    "</div>\n",
    "\n",
    "### 3.1 Importing modules -- and Numpy\n",
    "\n",
    "Now we need to learn how to use (or \"import\") modules in our code. For concreteness, we do this with [NumPy](https://numpy.org/doc/stable/reference/index.html) (a.k.a. \"numerical Python\"). This is a package you will probably want to use in 99.9% of all Python code you ever write. Basically, `numpy` contains thousands of functions built around a new *type* of object, called a \"numpy array.\" Numpy arrays behave in some ways like lists, but they are better thought of as vectors or matrices.\n",
    "\n",
    "Importing `numpy` is straightforward: it's just this one line of Python code"
   ]
  },
  {
   "cell_type": "code",
   "execution_count": 50,
   "metadata": {},
   "outputs": [],
   "source": [
    "import numpy"
   ]
  },
  {
   "cell_type": "markdown",
   "metadata": {},
   "source": [
    "Python is clever, though, and programmers often write the following instead:"
   ]
  },
  {
   "cell_type": "code",
   "execution_count": 51,
   "metadata": {},
   "outputs": [],
   "source": [
    "import numpy as np"
   ]
  },
  {
   "cell_type": "markdown",
   "metadata": {},
   "source": [
    "This is Python's way of \"storing\" the module name in something that's more convenient to type (kind of like a variable). Now when we type `np`, Python will interpret that as `numpy`.\n",
    "\n",
    "For today, we will only focus on some basic ways of creating arrays and running functions that act on each element of an array."
   ]
  },
  {
   "cell_type": "markdown",
   "metadata": {},
   "source": [
    "There are many ways to create Numpy arrays from scratch (here's a [full list](https://numpy.org/doc/stable/reference/routines.array-creation.html) you can explore on your own time if you want, but of course, no need to do so). Here we focus on only a couple:"
   ]
  },
  {
   "cell_type": "code",
   "execution_count": 52,
   "metadata": {},
   "outputs": [
    {
     "name": "stdout",
     "output_type": "stream",
     "text": [
      "[0. 0. 0. 0. 0.]\n",
      "[1.5 2.5 3.5 4.5 5.5]\n"
     ]
    }
   ],
   "source": [
    "# Create an array of all zeros, with size 5\n",
    "zeros_arr = np.zeros(5)\n",
    "print(zeros_arr)\n",
    "\n",
    "# Create an array of all the numbers between 1.5 and 5.5 inclusive, of size 5, equally spaced\n",
    "last_arr = np.linspace(1.5, 5.5, 5)\n",
    "print(last_arr)"
   ]
  },
  {
   "cell_type": "markdown",
   "metadata": {},
   "source": [
    "Hopefully, with your Python experience so far under your belt, the code (and the results) are fairly intuitive in terms of what's going on, but if not, please, reach out for questions! If you want more info, say on the `arange` function specifically, try also Googling \"numpy arange\" -- in addition to the API, you'll find other explanatory articles with examples, etc. We do this all the time while coding for help!"
   ]
  },
  {
   "cell_type": "markdown",
   "metadata": {},
   "source": [
    "Numpy defines a lot of mathematical functions that you can apply to your arrays. This is almost always done element-by-element, for example:"
   ]
  },
  {
   "cell_type": "code",
   "execution_count": 53,
   "metadata": {},
   "outputs": [
    {
     "name": "stdout",
     "output_type": "stream",
     "text": [
      "sines [ 0.99749499  0.59847214 -0.35078323 -0.97753012 -0.70554033]\n",
      "cosines [ 0.0707372  -0.80114362 -0.93645669 -0.2107958   0.70866977]\n"
     ]
    }
   ],
   "source": [
    "# The sine of each element (values interpreted as radians)\n",
    "sin_arr = np.sin(last_arr)\n",
    "print(\"sines\", sin_arr)\n",
    "\n",
    "# The cosine of each element\n",
    "cos_arr = np.cos(last_arr)\n",
    "print(\"cosines\", cos_arr)"
   ]
  },
  {
   "cell_type": "markdown",
   "metadata": {},
   "source": [
    "We will talk much more about Numpy tomorrow. For now, we turn to something more fun: plotting!"
   ]
  },
  {
   "cell_type": "markdown",
   "metadata": {},
   "source": [
    "### 3.2 Matplotlib\n",
    "\n",
    "Matplotlib is the most commonly used plotting library for Python. It is easy to use, allows for a large number of plot types and is very customizable, and can output plots to many different targets -- the notebook, an image file, a PDF, as frames of a video, etc. We will only show a few examples here but you will encounter Matplotlib again over the next days.\n",
    "\n",
    "We start by importing Matplotlib. Just like in the case of Numpy, there is a common named assigned to the namespace containing the Matplotlib plotting commands:"
   ]
  },
  {
   "cell_type": "code",
   "execution_count": 54,
   "metadata": {},
   "outputs": [],
   "source": [
    "import matplotlib.pyplot as plt"
   ]
  },
  {
   "cell_type": "markdown",
   "metadata": {},
   "source": [
    "Pyplot here is a subset of Matplotlib that defines a plotting interface similar to Matlab. There is a different way of using Matplotlib -- the *object-oriented interface* -- that is more flexible and more internally consistent but takes a bit more learning, so we start with Pyplot here. See [this blog post](https://matplotlib.org/matplotblog/posts/pyplot-vs-object-oriented-interface/) for an introduction to the object-oriented interface.\n",
    "\n",
    "As our first example, let us plot the sine and cosine arrays we defined earlier:"
   ]
  },
  {
   "cell_type": "code",
   "execution_count": 55,
   "metadata": {},
   "outputs": [
    {
     "data": {
      "text/plain": [
       "[<matplotlib.lines.Line2D at 0x114e34250>]"
      ]
     },
     "execution_count": 55,
     "metadata": {},
     "output_type": "execute_result"
    },
    {
     "data": {
      "image/png": "[encoded data removed]",
      "text/plain": [
       "<Figure size 432x288 with 1 Axes>"
      ]
     },
     "metadata": {
      "image/png": {
       "height": 248,
       "width": 386
      },
      "needs_background": "light"
     },
     "output_type": "display_data"
    }
   ],
   "source": [
    "plt.plot(last_arr, sin_arr)\n",
    "plt.plot(last_arr, cos_arr)"
   ]
  },
  {
   "cell_type": "markdown",
   "metadata": {},
   "source": [
    "Note how the two plots are overlapping on the same axes -- by default, Pyplot commands always add to the current axes.\n",
    "\n",
    "Let's add some labels so we know what we are looking at:"
   ]
  },
  {
   "cell_type": "code",
   "execution_count": 56,
   "metadata": {},
   "outputs": [
    {
     "data": {
      "text/plain": [
       "Text(0, 0.5, 'value')"
      ]
     },
     "execution_count": 56,
     "metadata": {},
     "output_type": "execute_result"
    },
    {
     "data": {
      "image/png": "[encoded data removed]",
      "text/plain": [
       "<Figure size 432x288 with 1 Axes>"
      ]
     },
     "metadata": {
      "image/png": {
       "height": 261,
       "width": 400
      },
      "needs_background": "light"
     },
     "output_type": "display_data"
    }
   ],
   "source": [
    "plt.plot(last_arr, sin_arr)\n",
    "plt.plot(last_arr, cos_arr)\n",
    "plt.xlabel(\"time\")\n",
    "plt.ylabel(\"value\")"
   ]
  },
  {
   "cell_type": "markdown",
   "metadata": {},
   "source": [
    "How do we know which line is which? We can add a legend:"
   ]
  },
  {
   "cell_type": "code",
   "execution_count": 57,
   "metadata": {},
   "outputs": [
    {
     "data": {
      "text/plain": [
       "<matplotlib.legend.Legend at 0x114fbce20>"
      ]
     },
     "execution_count": 57,
     "metadata": {},
     "output_type": "execute_result"
    },
    {
     "data": {
      "image/png": "[encoded data removed]",
      "text/plain": [
       "<Figure size 432x288 with 1 Axes>"
      ]
     },
     "metadata": {
      "image/png": {
       "height": 261,
       "width": 400
      },
      "needs_background": "light"
     },
     "output_type": "display_data"
    }
   ],
   "source": [
    "plt.plot(last_arr, sin_arr, label=\"sin\")\n",
    "plt.plot(last_arr, cos_arr, label=\"cos\")\n",
    "plt.xlabel(\"time\")\n",
    "plt.ylabel(\"value\")\n",
    "plt.legend()"
   ]
  },
  {
   "cell_type": "markdown",
   "metadata": {},
   "source": [
    "As you can see, Matplotlib defaults are OK for quick plots. The strength of Matplotlib, however, is in its customizability. Let's spruce up this plot! The code below uses a lot of Matplotlib features and is meant to show what can be done -- it is OK, and expected, that you'll have trouble understanding all of it. Remember that Google is your friend: searching for \"matplotlib annotate\", for instance, will find the reference page for the `annotate` function, which should contain explanations for all the features we used below."
   ]
  },
  {
   "cell_type": "code",
   "execution_count": 94,
   "metadata": {},
   "outputs": [
    {
     "data": {
      "text/plain": [
       "Text(0.5, 1.0, 'Harmonic oscillator')"
      ]
     },
     "execution_count": 94,
     "metadata": {},
     "output_type": "execute_result"
    },
    {
     "data": {
      "image/png": "[encoded data removed]",
      "text/plain": [
       "<Figure size 432x288 with 1 Axes>"
      ]
     },
     "metadata": {
      "image/png": {
       "height": 277,
       "width": 397
      },
      "needs_background": "light"
     },
     "output_type": "display_data"
    }
   ],
   "source": [
    "# the string \".-\" is a style specification; \".\" means dot markers, \"-\" means line\n",
    "# c=\"#...\" is a color in RGB format\n",
    "# the label=\"...\" sets a label for each line, to be used below in plt.legend\n",
    "plt.plot(last_arr, sin_arr, \".-\", c=\"#18206F\", label=\"sin\")\n",
    "plt.plot(last_arr, cos_arr, \".-\", c=\"#ED6A5A\", label=\"cos\")\n",
    "\n",
    "# horizontal black (c=\"k\"), dotted (linestyle=\":\"), thin (linewidth=0.5) line through 0\n",
    "plt.axhline(0, c=\"k\", linestyle=\":\", linewidth=0.5)\n",
    "\n",
    "# fancier labels; text within dollar signs is in LaTeX, a language for writing math\n",
    "plt.xlabel(\"time $t$\")\n",
    "# r\"...\" or r '...' is a 'raw' string, meaning you can use backslashes without issues\n",
    "# (in normal strings backslashes can be used for special characters)\n",
    "# the backslash indicates a macro in LaTeX, such as \\dot that puts the time-derivative\n",
    "# dot on the x below\n",
    "plt.ylabel(r\"position $x = \\sin t$, velocity $\\dot x = \\cos t$\")\n",
    "\n",
    "# add a legend and remove the distracting box\n",
    "plt.legend(frameon=False)\n",
    "\n",
    "# place some annotations on the curves themselves\n",
    "plt.annotate(\n",
    "    \"position\",                     # annotation text\n",
    "    (last_arr[1], sin_arr[1]),      # position to annotate, in data coordinates\n",
    "    xytext=(30, 15),                # position of the annotation text...\n",
    "    textcoords=\"offset points\",     # ...relative to annotated point above\n",
    "    fontsize=12,                    # make the font a bit bigger (default is 10)\n",
    "    color=\"#18206F\",                # match the color of the plot\n",
    "    arrowprops={\"width\": 1, \"shrink\": 0.1, \"headwidth\": 4, \"facecolor\": \"#18206F\"}\n",
    "                                    # add an arrow connecting text to target\n",
    ")\n",
    "plt.annotate(\n",
    "    \"velocity\",\n",
    "    (last_arr[1], cos_arr[1]),\n",
    "    xytext=(10, 45),\n",
    "    textcoords=\"offset points\",     # a \"point\" is 1/72 of an inch\n",
    "    fontsize=12,\n",
    "    color=\"#ED6A5A\",\n",
    "    arrowprops={\"width\": 1, \"shrink\": 0.1, \"headwidth\": 4, \"facecolor\": \"#ED6A5A\"}\n",
    ")\n",
    "\n",
    "# use more informative ticks\n",
    "plt.yticks([-1, -0.5, 0, 0.5, 1])\n",
    "# use human-friendly tick labels\n",
    "plt.xticks(\n",
    "    [np.pi / 2, np.pi, 3 * np.pi / 2], labels=[r\"$\\pi / 2$\", r\"$\\pi$\", r\"$3 \\pi / 2$\"]\n",
    ")\n",
    "\n",
    "# finally, set a title\n",
    "plt.title(\"Harmonic oscillator\")"
   ]
  },
  {
   "cell_type": "markdown",
   "metadata": {},
   "source": [
    "## Conclusion\n",
    "\n",
    "We've encountered a lot of Python in this notebook and this should give you a good start to learn more. Remember Google is your friend -- as well as Stackoverflow, the Python, Numpy, and Matplotlib documentation -- or your advisor's code. You can learn a lot by looking at pre-existing code and trying to understand what it does and why it was written the way it was written."
   ]
  },
  {
   "cell_type": "markdown",
   "metadata": {},
   "source": []
  }
 ],
 "metadata": {
  "kernelspec": {
   "display_name": "Generic (Python 3)",
   "language": "python",
   "name": "generic"
  },
  "language_info": {
   "codemirror_mode": {
    "name": "ipython",
    "version": 3
   },
   "file_extension": ".py",
   "mimetype": "text/x-python",
   "name": "python",
   "nbconvert_exporter": "python",
   "pygments_lexer": "ipython3",
   "version": "3.8.12"
  }
 },
 "nbformat": 4,
 "nbformat_minor": 2
}
