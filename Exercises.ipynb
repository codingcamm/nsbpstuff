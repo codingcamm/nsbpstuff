{
 "cells": [
  {
   "cell_type": "markdown",
   "metadata": {},
   "source": [
    "# Practice what you've learnt!\n",
    "\n",
    "In this notebook, you can find a selection of exercises that you can use to train your python skills. Write your code, compare with other scholars and think of many other applications! Have fun!"
   ]
  },
  {
   "cell_type": "markdown",
   "metadata": {},
   "source": [
    "* Exercise 1: * write a routine that output all even numbers from 4 to 40.\n",
    "\n",
    "* Exercise 2: * write a function that takes 3 intergers as input parameters and output the sum of the square of the 3 numbers.\n",
    "\n",
    "* Exercise 3: * create a simple calculator. Tip: write a function that takes in input a string of characters and 2 integeres. If the string is \"sum\", the function must output the sum of the two integers, etc.\n",
    "\n",
    "* Exercise 4: * write a data file (whichever format you like), save it in a preferred folder, load it with specific python functions and plot the data. \n",
    "\n",
    "* Exercise 5: * simulate a turtle race! Tip: define some variables such as turtle1, turtle2, etc, and initialize them to 0. Then write a routine that generates some pseudo-random variables representing the distance covered by a turtle and sum them to the corresponding turtle variable. Finally, output the winner turtle!\n",
    "\n",
    "* Exercise 6: * The rogue language in Sweden. In Sweden, childern often speak a peculiar language named \"rövarspråket\", which means \"the rogue language\". They double each consonant and put a \"o\" in between. For example, \"eat\" becomes \"eatot\". Create a translator, i.e., a function that translates a word or a full sentence from English to \"rövarspråket\". After translating, the function must ask the user if they want to have another word/sentence translated. If so, the function should wait for the user to enter a new input.\n",
    "\n",
    "* Exercise 7: * Playing geometry. Write a function that ask the user of they want to compute the area of: a circle, a rectangle, a square, a triangle. Note that, while you just need one input for circle and square (radius and edge, respectively), you need two input parameters for rectangle and triangle. Can you write a unique function? How? Tip: browse the web for hints. \n",
    "\n",
    "* Exercise 8: * Cryptography ROT-13. ROT13 is a simple letter substitution cipher that replaces a letter with the 13th letter after it in the alphabet. Write a function that applies ROT-13 to an input string, or that decodes a string written in ROT-13.\n",
    "\n",
    "* Exercise 9: * given an input number n that represents the exponent of a bynomial (a+b)^n, write a function that gives in output the Tartaglia's (or Pascal's) Triangle (https://en.wikipedia.org/wiki/Pascal%27s_triangle). For example, if n=3, the function should output on screen 1 3 3 1 ((a+b)^3= 1 a^3+ 3 a^2b + 3 a b^2 + 1 b^3), etc."
   ]
  },
  {
   "cell_type": "markdown",
   "metadata": {},
   "source": [
    "# Some more exercises from the web\n",
    "\n",
    "This is a collection of several exercises you can try to practice your python skills: https://www.practicepython.org/\n",
    "\n",
    "This is a collection of puzzles. To access the next level, you must solve the previous puzzle by writing simple python codes. Looks like a fun way to practice! http://www.pythonchallenge.com/index.php"
   ]
  },
  {
   "cell_type": "markdown",
   "metadata": {},
   "source": [
    "# Acknowledgements\n",
    "\n",
    "This notebook is a translation of the Italian version developed by Marco Bortolami, PhD student in the CosmoFE group at Ferrara University. Check Marco's repo for more information: https://github.com/marcobortolami/LearningPythonWithCosmology"
   ]
  },
  {
   "cell_type": "code",
   "execution_count": null,
   "metadata": {},
   "outputs": [],
   "source": []
  }
 ],
 "metadata": {
  "kernelspec": {
   "display_name": "Python 3",
   "language": "python",
   "name": "python3"
  },
  "language_info": {
   "codemirror_mode": {
    "name": "ipython",
    "version": 3
   },
   "file_extension": ".py",
   "mimetype": "text/x-python",
   "name": "python",
   "nbconvert_exporter": "python",
   "pygments_lexer": "ipython3",
   "version": "3.7.3"
  }
 },
 "nbformat": 4,
 "nbformat_minor": 4
}
