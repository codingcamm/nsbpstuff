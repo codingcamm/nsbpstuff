{
 "cells": [
  {
   "cell_type": "code",
   "execution_count": 48,
   "id": "78c64e64-cbf2-4aa4-aced-89a2b83b601d",
   "metadata": {},
   "outputs": [],
   "source": [
    "import numpy as np\n",
    "import matplotlib.pyplot as plt"
   ]
  },
  {
   "cell_type": "markdown",
   "id": "934468fa-9aa9-498d-b4f0-0c941e016f27",
   "metadata": {},
   "source": [
    "## Plan for this afternoon\n",
    "\n",
    "* Numpy\n",
    "* Working with arrays\n",
    "* Scipy\n",
    "* Fitting curves\n",
    "* Numerical integration"
   ]
  },
  {
   "cell_type": "markdown",
   "id": "5ed81daa-f6e4-4a01-ab13-2a65b3187092",
   "metadata": {},
   "source": [
    "#### Numpy"
   ]
  },
  {
   "cell_type": "markdown",
   "id": "e1889de3-05e0-4d27-83ec-51abe277120e",
   "metadata": {},
   "source": [
    "Numpy is one of the most widely used Python packages for scientific computing. \n",
    "Almost (if not all) Python programs that you will write will make use of Numpy.\n",
    "The Numpy website has provided some specific examples of scientific research that made use of Numpy:\n",
    "\n",
    "* First image of a Black Hole: https://numpy.org/case-studies/blackhole-image/\n",
    "* Discovery of Gravitational Waves: https://numpy.org/case-studies/gw-discov/\n",
    "\n",
    "Among the things you can do with Numpy:\n",
    "\n",
    "* Mathematical and logical opreations on arrays\n",
    "* Fourier transforms\n",
    "* Linear algebra operations\n"
   ]
  },
  {
   "cell_type": "markdown",
   "id": "76976cbb-63a8-41b1-b3a7-e1f7cee0953e",
   "metadata": {},
   "source": [
    "#### What is an array?\n",
    "\n",
    "We can think of an array as a vector or a list of numbers. \n",
    "\n",
    "For example, let's imagine that you throw a ball from the top of a building (height $y_{o}= 80m$) with a horizontal velocity of $v_{o,x}=5m/s$. You would like to model the position (vertical and horizontal displacement) of the ball as a function of time. Let's ignore air-resistance for now and recall $g=9.81 m/s^{2}$.\n",
    "\n",
    "Using kinematics equations for constant acceleration and constant velocity, we have that the horizontal and vertical positions of the ball are given by the following equations:\n",
    "\n",
    "$y(t) = y_{o} - \\frac{1}{2}gt^{2}$ \n",
    "\n",
    "\n",
    "$x(t) = v_{o,x}t $\n",
    "\n",
    "\n",
    "We can pick a time, say $t=2s$ and calculate the vertical and horizontal positions at that time. If we are very motivated, we can try to do the same for five different times. But what if we wanted to know the positions at 100 diferent times? Doing the calculation again and again for each time value is tedious!\n",
    "\n",
    "Let your computer do the boring (and repetitive) work by using Numpy.\n",
    "\n",
    "First, let's assume you would like to know the positions for all the time values between 0 an 4 seconds in increments of 0.1 seconds, i.e. $[0,0.1,0.2,...3.9,4.0]$. You can create a numpy array, which is just a list of numbers:"
   ]
  },
  {
   "cell_type": "code",
   "execution_count": 35,
   "id": "58489be5-2241-4939-abeb-8204e01ea55d",
   "metadata": {},
   "outputs": [],
   "source": [
    "t_array = np.arange(0,4.1,0.1)"
   ]
  },
  {
   "cell_type": "markdown",
   "id": "9bb566fa-5f09-43e2-9b8a-8a1c517f2618",
   "metadata": {},
   "source": [
    "In the line above, the first number is the start of the list, the second number is the end and the third number is the step size.\n",
    "This is what t_array looks like:"
   ]
  },
  {
   "cell_type": "code",
   "execution_count": 36,
   "id": "bcac6d37-b7e9-431d-a14f-ab3dcacae0d5",
   "metadata": {},
   "outputs": [
    {
     "name": "stdout",
     "output_type": "stream",
     "text": [
      "[0.  0.1 0.2 0.3 0.4 0.5 0.6 0.7 0.8 0.9 1.  1.1 1.2 1.3 1.4 1.5 1.6 1.7\n",
      " 1.8 1.9 2.  2.1 2.2 2.3 2.4 2.5 2.6 2.7 2.8 2.9 3.  3.1 3.2 3.3 3.4 3.5\n",
      " 3.6 3.7 3.8 3.9 4. ]\n"
     ]
    }
   ],
   "source": [
    "print(t_array)"
   ]
  },
  {
   "cell_type": "markdown",
   "id": "8ad85221-25a7-4716-b6c3-151f0081fbfa",
   "metadata": {},
   "source": [
    "Now, let's create variables for all the other quantities in this kinematics problem. The variables are just single numbers, not arrays."
   ]
  },
  {
   "cell_type": "code",
   "execution_count": 37,
   "id": "d85485bb-d5c1-4e28-8f78-d51493ce01de",
   "metadata": {},
   "outputs": [],
   "source": [
    "g = 9.81 #m/s^2  GRAVITY\n",
    "y_0 = 80 #m      BUILDIG HEIGHT\n",
    "v_x0 = 5 #m/s    HORIZONTAL VELOCITY OF THE BALL"
   ]
  },
  {
   "cell_type": "markdown",
   "id": "ba51fdb8-2a29-4962-84cb-a58e0513e6f8",
   "metadata": {},
   "source": [
    "Recall, to calculate the horizontal displacement of the ball we need to use this equation:\n",
    "\n",
    "$x(t) = v_{o,x}t $ \n",
    "\n",
    "To implement this using Numpy, we multiply the time array by the horizontal velocity variable and store the result in a different array:"
   ]
  },
  {
   "cell_type": "code",
   "execution_count": 38,
   "id": "7323b667-5c64-4735-a739-ea523a5d45cf",
   "metadata": {},
   "outputs": [],
   "source": [
    "x_array = v_x0 * t_array"
   ]
  },
  {
   "cell_type": "markdown",
   "id": "998bcf9e-b884-4668-ad97-3cfcf6ca84c2",
   "metadata": {},
   "source": [
    "What does x_array look like?"
   ]
  },
  {
   "cell_type": "code",
   "execution_count": 39,
   "id": "f4207787-ee23-49b9-b4fe-8754b7a07d67",
   "metadata": {},
   "outputs": [
    {
     "name": "stdout",
     "output_type": "stream",
     "text": [
      "[ 0.   0.5  1.   1.5  2.   2.5  3.   3.5  4.   4.5  5.   5.5  6.   6.5\n",
      "  7.   7.5  8.   8.5  9.   9.5 10.  10.5 11.  11.5 12.  12.5 13.  13.5\n",
      " 14.  14.5 15.  15.5 16.  16.5 17.  17.5 18.  18.5 19.  19.5 20. ]\n"
     ]
    }
   ],
   "source": [
    "print(x_array)"
   ]
  },
  {
   "cell_type": "markdown",
   "id": "2e436143-c7f6-4b4c-87da-d5a6fcf633d7",
   "metadata": {},
   "source": [
    "x_array is also a list (an array) of numbers. What did we do when we multiplied v_x0 by t_array? We just multiplied each element in the time array by the horizontal velocity number."
   ]
  },
  {
   "cell_type": "markdown",
   "id": "19bd264f-19cd-4ee4-bac3-eb663063bb78",
   "metadata": {},
   "source": [
    "You can also square each element of an array as follows:"
   ]
  },
  {
   "cell_type": "code",
   "execution_count": 40,
   "id": "91fc3b24-8e9d-4696-8c9d-329f6da23d2f",
   "metadata": {},
   "outputs": [
    {
     "name": "stdout",
     "output_type": "stream",
     "text": [
      "a =  [0 1 2 3 4] \n",
      "a^2= [ 0  1  4  9 16]\n"
     ]
    }
   ],
   "source": [
    "a = np.arange(0,5,1)\n",
    "a_squared = a**2  #This is how you square an array\n",
    "\n",
    "print(\"a = \",a ,\"\\na^2=\",a_squared )\n",
    "\n"
   ]
  },
  {
   "cell_type": "markdown",
   "id": "a7b048d3-4de5-4892-a5b6-c86d74de46bd",
   "metadata": {},
   "source": [
    "Finally, you can also add or subtract the same number to each of the elements in an array:"
   ]
  },
  {
   "cell_type": "code",
   "execution_count": 41,
   "id": "48f5b8e1-9d8f-47de-a418-7d7832aab28d",
   "metadata": {},
   "outputs": [
    {
     "name": "stdout",
     "output_type": "stream",
     "text": [
      "b =  [0 1 2 3 4 5 6 7 8 9] \n",
      "b+n =  [ 2.3  3.3  4.3  5.3  6.3  7.3  8.3  9.3 10.3 11.3]\n",
      "b =  [0 1 2 3 4 5 6 7 8 9] \n",
      "b-n =  [-2.3 -1.3 -0.3  0.7  1.7  2.7  3.7  4.7  5.7  6.7]\n"
     ]
    }
   ],
   "source": [
    "b = np.arange(0,10,1)\n",
    "n = 2.3 #this is the number we want to add (or subtract)\n",
    "b_minus_n = b-n \n",
    "b_plus_n = b+n\n",
    "\n",
    "print(\"b = \",b,\"\\nb+n = \", b_plus_n)\n",
    "print(\"b = \",b,\"\\nb-n = \", b_minus_n)\n"
   ]
  },
  {
   "cell_type": "markdown",
   "id": "c480fba6-ca82-4571-93d6-ef71f74c6228",
   "metadata": {},
   "source": [
    "#### Exercise 1"
   ]
  },
  {
   "cell_type": "markdown",
   "id": "a5d20a87-b0c5-4f39-a1d0-14ee42edb7a8",
   "metadata": {},
   "source": [
    "Now is your turn to use arrays to calculate the vertical displacement of the ball from times 0 to 4 seconds (in steps of 0.1 seconds) using the following formula:\n",
    "\n",
    "$y(t) = y_{o} - \\frac{1}{2}gt^{2}$ \n",
    "\n",
    "Recall, we had already stored the variables for $y_{o}$ and $g$ above so there is no need to declare this variables again. Scroll back up and find the code block where we declared these variables.\n",
    "\n",
    "Recall also, we already made an array for time and called it t_array.\n",
    "\n",
    "(store the vertical displacement of the ball as an array called y_array)."
   ]
  },
  {
   "cell_type": "code",
   "execution_count": 46,
   "id": "a3f1a74f-0e9f-4d24-b6df-17055a2d8ba9",
   "metadata": {},
   "outputs": [
    {
     "name": "stdout",
     "output_type": "stream",
     "text": [
      "[80.      79.95095 79.8038  79.55855 79.2152  78.77375 78.2342  77.59655\n",
      " 76.8608  76.02695 75.095   74.06495 72.9368  71.71055 70.3862  68.96375\n",
      " 67.4432  65.82455 64.1078  62.29295 60.38    58.36895 56.2598  54.05255\n",
      " 51.7472  49.34375 46.8422  44.24255 41.5448  38.74895 35.855   32.86295\n",
      " 29.7728  26.58455 23.2982  19.91375 16.4312  12.85055  9.1718   5.39495\n",
      "  1.52   ]\n"
     ]
    }
   ],
   "source": [
    "###Your code goes here ####\n",
    "\n",
    "##SOLUTION\n",
    "\n",
    "y_array = y_0 - (0.5)*g*t_array**2\n",
    "\n",
    "print(y_array)"
   ]
  },
  {
   "cell_type": "markdown",
   "id": "1322f445-0805-499a-9cad-333fcc030bea",
   "metadata": {},
   "source": [
    "Sanity check. The path that a ball falling from the building with an initial horizontal velocty is a parabola. How can we check if the horizontal and vertical displacements of the ball indeed follow that trajectory?\n",
    "\n",
    "Let's plot them (no worries if the following piece of code does not make sense, we will go over how to plot arrays later this week)."
   ]
  },
  {
   "cell_type": "code",
   "execution_count": 58,
   "id": "8d151b5d-a766-4d76-b19d-1ed6c7018c65",
   "metadata": {},
   "outputs": [
    {
     "data": {
      "text/plain": [
       "Text(0.5, 1.0, 'Parabolic motion of the ball')"
      ]
     },
     "execution_count": 58,
     "metadata": {},
     "output_type": "execute_result"
    },
    {
     "data": {
      "image/png": "[encoded data removed]",
      "text/plain": [
       "<Figure size 432x288 with 1 Axes>"
      ]
     },
     "metadata": {
      "needs_background": "light"
     },
     "output_type": "display_data"
    }
   ],
   "source": [
    "plt.plot(x_array,y_array)\n",
    "plt.xlabel(\"Horizontal displacement (m)\")\n",
    "plt.ylabel(\"Vertical displacement (m)\")\n",
    "plt.title(\"Parabolic motion of the ball\")"
   ]
  },
  {
   "cell_type": "markdown",
   "id": "fc90d36d-688f-4fca-9d44-c03cfef6c7e7",
   "metadata": {},
   "source": [
    "### Array indexing and slicing\n",
    "\n",
    "So far we have only seen examples where we multiply an array by a single number, or where we add or subtract one number to each element in an array. \n",
    "|\n",
    "However, it is possible to add an array to another, or multiply to arrays with each other.\n",
    "\n",
    "The only requirement is that both arrays need to have the same length or shape. What do we mean by shape? Well, arrays be 2 dimensional. For example:"
   ]
  },
  {
   "cell_type": "code",
   "execution_count": 74,
   "id": "91482e5d-3bb6-41d9-bac8-060569f55cbb",
   "metadata": {},
   "outputs": [
    {
     "name": "stdout",
     "output_type": "stream",
     "text": [
      "[[1 2]\n",
      " [3 4]\n",
      " [5 6]]\n"
     ]
    }
   ],
   "source": [
    "data=np.array([[1,2],[3,4],[5,6]])\n",
    "print(data)"
   ]
  },
  {
   "cell_type": "markdown",
   "id": "ab4848f2-bde8-4a23-9726-008efe84a8fa",
   "metadata": {},
   "source": [
    "This array has a shape of (3,2), in other words, 3 rows and 2 columns. "
   ]
  },
  {
   "cell_type": "code",
   "execution_count": 75,
   "id": "ecc87387-2eff-47b5-91a5-8a5228d704b9",
   "metadata": {},
   "outputs": [
    {
     "name": "stdout",
     "output_type": "stream",
     "text": [
      "shape of data array = (3, 2)\n"
     ]
    }
   ],
   "source": [
    "print(\"shape of data array =\",data.shape)"
   ]
  },
  {
   "cell_type": "markdown",
   "id": "e2f0cc10-f8ad-4c03-9ff3-850d8bd9755a",
   "metadata": {},
   "source": [
    "To access specific elements in the array we use indexing. When indexing, we use the row and column numbers of the element we want to access.\n",
    "\n",
    "In Python, we begin numbering stuff with 0. So the first column is \"column 0\", the second column is \"column 1\" and so on. The same is for rows.\n",
    "\n",
    "For example, if we wanted to access the element that contains number 2 in the data array, we would index it with row = 0 (first row), column = 1 (second column)."
   ]
  },
  {
   "cell_type": "code",
   "execution_count": 77,
   "id": "26cddb31-4585-4392-82fc-227c01fdb191",
   "metadata": {},
   "outputs": [
    {
     "name": "stdout",
     "output_type": "stream",
     "text": [
      "2\n"
     ]
    }
   ],
   "source": [
    "print(data[0,1])"
   ]
  },
  {
   "cell_type": "markdown",
   "id": "db894a37-283b-45a3-b780-d0acc5aef0cf",
   "metadata": {},
   "source": [
    "We an also access several elements at once. For example, if we wanted to access all the elements starting from the second row (row=1), we would do the following:"
   ]
  },
  {
   "cell_type": "code",
   "execution_count": 83,
   "id": "a759a33c-7211-4851-b940-c4df6a914257",
   "metadata": {},
   "outputs": [
    {
     "data": {
      "text/plain": [
       "array([[3, 4],\n",
       "       [5, 6]])"
      ]
     },
     "execution_count": 83,
     "metadata": {},
     "output_type": "execute_result"
    }
   ],
   "source": [
    "data[1:3] #access everything from row 1 till row 3 "
   ]
  },
  {
   "cell_type": "markdown",
   "id": "403cec0a-c7c7-46b2-8bcd-149cd7181034",
   "metadata": {},
   "source": [
    "If in turn, we wanted to access the first two elements in column 0, we would do the following:"
   ]
  },
  {
   "cell_type": "code",
   "execution_count": 84,
   "id": "748cdc3a-d5ef-461e-aa3c-bc8e8976b173",
   "metadata": {},
   "outputs": [
    {
     "data": {
      "text/plain": [
       "array([1, 3])"
      ]
     },
     "execution_count": 84,
     "metadata": {},
     "output_type": "execute_result"
    }
   ],
   "source": [
    "data[0:2,0]"
   ]
  },
  {
   "cell_type": "markdown",
   "id": "de693894-3fb8-45e6-af12-9e1705202644",
   "metadata": {},
   "source": [
    "We can visualize this array and the indexing example with this diagram:"
   ]
  },
  {
   "cell_type": "markdown",
   "id": "18a2f3f0-830d-4b60-bcac-38dabed0d03c",
   "metadata": {},
   "source": [
    "![Cat](images/numpy-matrix-indexing.png)"
   ]
  },
  {
   "cell_type": "markdown",
   "id": "68554d29-4b48-4999-be9d-96ccbf3581ce",
   "metadata": {},
   "source": [
    "#### Exercise\n",
    "\n",
    "Write code to access number 3 in the data array."
   ]
  },
  {
   "cell_type": "code",
   "execution_count": 85,
   "id": "f6d4297b-73b9-4cca-ae14-5413849d3fbd",
   "metadata": {},
   "outputs": [],
   "source": [
    "###HERE GOES YOUR CODE"
   ]
  },
  {
   "cell_type": "markdown",
   "id": "1d6f695b-7d71-4860-b4da-3d3a0680329b",
   "metadata": {},
   "source": [
    "#### Exercise\n",
    "\n",
    "Write code to access numbers 4 and 6 in the data array."
   ]
  },
  {
   "cell_type": "code",
   "execution_count": null,
   "id": "76ba731a-679f-44a6-b5af-3fd08fed2122",
   "metadata": {},
   "outputs": [],
   "source": [
    "###HERE GOES YOUR CODE"
   ]
  },
  {
   "cell_type": "markdown",
   "id": "cc588850-87b8-4e96-a1f8-0ac09651ccab",
   "metadata": {},
   "source": [
    "#### Exercise\n",
    "\n",
    "Write code to access numbers 1,2,3,4 in the data array."
   ]
  },
  {
   "cell_type": "code",
   "execution_count": 86,
   "id": "e2bca681-df5f-458b-971a-d6eae733a346",
   "metadata": {},
   "outputs": [],
   "source": [
    "###HERE GOES YOUR CODE"
   ]
  },
  {
   "cell_type": "markdown",
   "id": "bafa0544-96ef-4261-8e64-01fb58bb508f",
   "metadata": {},
   "source": [
    "Why would we ever want to index an array? Say for example, that we "
   ]
  },
  {
   "cell_type": "markdown",
   "id": "7aaea237-6cdd-4cd4-bec5-4aea3bc18d13",
   "metadata": {},
   "source": [
    "Let's use the idea of wave inteference to think about this.\n",
    "\n",
    "Imagine that you have two waves travelling in the same medium and direction, but their phase is offset by some amount:\n",
    "\n",
    "$ y_{1}(x,t) = A \\sin(kx - \\omega t)$\n",
    "\n",
    "$ y_{2}(x,t) = A \\sin(kx - \\omega t + \\phi) $\n",
    "\n",
    "where $A = 4$, $k = 3m^{-1}$, $\\omega = 4 s^{-1}$ and $\\phi = 2/6$\n",
    "\n",
    "How can we model their interference? \n",
    "\n",
    "We can add the two waves!\n",
    "\n",
    "$ y_{total}(x,t) = y_{1}(x,t) + y_{2}(x,t)$\n",
    "\n",
    "But what does that actually look like?\n",
    "\n",
    "Let's make arrays to understand what these waves look like. First we will need to create arrays for the x (position) and t (time) variables. Let's also create variables for $k$, $\\omega$ (omega) and $\\phi$ (phi):"
   ]
  },
  {
   "cell_type": "code",
   "execution_count": 64,
   "id": "b8b28f4a-d009-4c4f-beef-33ef325d9375",
   "metadata": {},
   "outputs": [],
   "source": [
    "x_arr = np.linspace(0,10,1000)\n",
    "t_arr = np.linspace(0,100,10000)\n",
    "k = 3 # per meter\n",
    "omega = 4 #per second\n",
    "phi = 2/6\n",
    "A = 4"
   ]
  },
  {
   "cell_type": "markdown",
   "id": "fd602e3b-c872-4163-8f86-edc45bf3fcaa",
   "metadata": {},
   "source": [
    "#### Exercise\n",
    "Below, write a line of code so that you can print the x_arr and the y_arr to see what they look like."
   ]
  },
  {
   "cell_type": "code",
   "execution_count": 61,
   "id": "c21a33ae-f331-44f6-aee9-c2c77df64240",
   "metadata": {},
   "outputs": [],
   "source": [
    "#### HERE GOES YOUR ANSWER"
   ]
  },
  {
   "cell_type": "markdown",
   "id": "7d8fd062-bca5-4337-a6c1-a0c8b62eb4a1",
   "metadata": {},
   "source": [
    "Notice, these two array do not have the same shape (i.e. the same number of elements). "
   ]
  },
  {
   "cell_type": "code",
   "execution_count": null,
   "id": "61614b43-2244-4e0d-b621-fbb17cde7ab3",
   "metadata": {},
   "outputs": [],
   "source": [
    "y_1 = A* np.sin( k*x + omega*t"
   ]
  }
 ],
 "metadata": {
  "kernelspec": {
   "display_name": "Python 3 (ipykernel)",
   "language": "python",
   "name": "python3"
  },
  "language_info": {
   "codemirror_mode": {
    "name": "ipython",
    "version": 3
   },
   "file_extension": ".py",
   "mimetype": "text/x-python",
   "name": "python",
   "nbconvert_exporter": "python",
   "pygments_lexer": "ipython3",
   "version": "3.8.11"
  }
 },
 "nbformat": 4,
 "nbformat_minor": 5
}
