{
 "cells": [
  {
   "cell_type": "markdown",
   "metadata": {},
   "source": [
    "# Setting up your computer"
   ]
  },
  {
   "cell_type": "markdown",
   "metadata": {},
   "source": [
    "## Using a Mac\n",
    "\n",
    "Welcome to the Macbook Air you'll be using during the summer school! If you haven't used a Mac before, don't worry: it's not that different from Windows or Linux. Here's most of what you need to know to get started.\n",
    "\n",
    "* in most of the cases where you'd use the control (`CTRL`) key, on Macs you use the command (`⌘`) key that's right next to the `ALT` key (which is usually called \"option\" on Macs)\n",
    "  * e.g., `⌘+C` copies, `⌘+V` pastes, *etc.*\n",
    "* instead of `CTRL+F4` or `ALT+F4` you can use `⌘+W` to close a window and `⌘+Q` to close an application\n",
    "* use `⌘+TAB` to switch between applications\n",
    "* applications stay active even after all windows are closed: the bar at the top of the screen will contain the name of the currently active application on the left side, right after the apple ()\n",
    "* the buttons for closing, minimizing, or maximizing a window are on the left of the title bar instead of the right\n",
    "* you access the files on your computer using the Finder, you access the applications using the Launchpad.\n",
    "\n",
    "<div style=\"text-align: center;\">\n",
    "\n",
    "![finder_and_launchpad](images/finder_launchpad_icons.png)\n",
    "\n",
    "</div>\n",
    "\n",
    "There are more subtle differences, especially compared to Windows, in how files are managed. We might touch on these later."
   ]
  },
  {
   "cell_type": "markdown",
   "metadata": {},
   "source": [
    "## Installing Slack\n",
    "\n",
    "We will be using Slack to communicate, so let's start by installing Slack.\n",
    "\n",
    "* go here to download: https://slack.com/downloads/mac\n",
    "* click the Download button. *Note: you will see a dialog box asking you whether to allow downloads. Choose Allow to continue.*\n",
    "\n",
    "<div style=\"text-align: center;\">\n",
    "\n",
    "![slack_allow_downloads](images/slack_allow_downloads.png)\n",
    "\n",
    "</div>\n",
    "\n",
    "* the downloaded file will be in your Downloads folder; you can see this folder in the app drawer at the button of the screen (called the \"Dock\" on Macs), on the right side, next to the trash can\n",
    "* tap on the Downloads folder, then on the file named `Slack...` inside *(note that you need to click on the icon, not on the name of the file!)*; this should open a window looking something like this:\n",
    "\n",
    "<div style=\"text-align: center;\">\n",
    "\n",
    "![slack_install](images/slack_install.png)\n",
    "\n",
    "</div>\n",
    "\n",
    "* all you need to do is drag the Slack icon into the Applications icon, as shown by the arrow; a progress window will pop up\n",
    "* you can now find the Slack app in the Launchpad!\n",
    "* go to the Launchpad and start Slack; a window will come up asking you to confirm that you want to run this app that you downloaded from the internet; choose Open\n",
    "* you will also be asked for permission for Slack ot access files in the Downloads folder; choose OK\n",
    "* sign in to your Slack space"
   ]
  },
  {
   "cell_type": "markdown",
   "metadata": {},
   "source": [
    "## Installing Miniconda\n",
    "\n",
    "MacOS comes with Python pre-installed, but it is not recommended to use it because (a) it is typically an old version, and (b) we could mess up the operating system by installing newer versions of Python packages that may have incompatibilities with the ones that come packaged with the system.\n",
    "\n",
    "We therefore use a Python distribution that is separate from the system's Python. There are a few different choices, but here we will show you how to use Conda.\n",
    "\n",
    "Briefly, Conda is a package manager -- a tool that lets you install a variety of packages and manage the inter-dependencies. While Conda is a general tool that can be used with a variety of languages, we will focus on its role as a Python package manager.\n",
    "\n",
    "Conda comes in two flavors:\n",
    "* *Anaconda* is a comprehensive distribution that contains most of the packages you're likely to use, and many, many more (it comes with over 1000 packages pre-installed)\n",
    "* *Miniconda* is a minimal installation that allows you to run Python and the `conda` manager, which lets you install whatever else you need.\n",
    "\n",
    "While Anaconda can be convenient, it contains a lot more than what you're likely to need. We suggest you use Miniconda instead. Tomorrow we will show you how to install new pacakges, as needed.\n",
    "\n",
    "To install Miniconda,\n",
    "\n",
    "* click on this link https://repo.anaconda.com/miniconda/Miniconda3-latest-MacOSX-arm64.pkg; it should download a file\n",
    "* run the downloaded installer from the Downloads folder (just like we did above when we installed Slack)\n",
    "  * the installer will ask you to install Rosetta, which is a tool for allowing the new Apple M1 chips, which are based on ARM, to run code developed for Intel chips\n",
    "* follow the prompts through the installation\n",
    "  * you will need to give permissions to access the Downloads folder\n",
    "* at the end you will be asked whether to move the installer to the trash; feel free to do so\n",
    "  * you can empty the trash by right-clicking (tapping with two fingers) on the Trash can in the Dock, then choosing Empty Trash\n",
    "\n",
    "You will find that installing Miniconda does not add anything to the Launchpad. `conda` is a command line application -- hence our next section!"
   ]
  },
  {
   "cell_type": "markdown",
   "metadata": {},
   "source": [
    "## Using the command line\n",
    "\n",
    "A lot of code development tools -- including `conda` -- involve using the command line, so we will very briefly introduce it here. We will go over more of the basics on Wednesday.\n",
    "\n",
    "The command line is a way of telling your computer what to do by typing commands into a window (called the \"Terminal\") as opposed to clicking on things with a mouse. To get started, open up the Launchpad and start typing \"Terminal\". Press enter (or click) to start the Terminal app. You can use the terminal to check the version number of your Conda install, for instance: go to your terminal and type\n",
    "\n",
    "    conda --version\n",
    "\n",
    "then press enter. You should find that `conda` answers with the version number, like\n",
    "\n",
    "    conda 4.12.0\n",
    "\n",
    "When talking about the terminal, we will use the convention that lines that start with a percent sign (`%`) are commands that you enter into the Terminal, while lines without the percent sign are outputs. So we can write the Conda version example as \n",
    "\n",
    "    % conda --version\n",
    "    conda 4.12.0\n",
    "\n",
    "You can install packages by using `conda install`, but we will go over that tomorrow."
   ]
  },
  {
   "cell_type": "markdown",
   "metadata": {},
   "source": [
    "## Version control with `git`\n",
    "\n",
    "When developing code, it is sometimes useful to keep older versions of your code and be able to return to them later. Sometimes this is because yo find that you need a piece of code that you wrote and discarded in the past. Sometimes it's because you find that you started on a wrong path and want to revert to an older version. On more complex projects, it might also happen that different developers work on the same codebase at the same time, and need a way to do so without risking to corrupt each other's work. The tools that facilitate these usage patterns are called *version control* tools. One of the most popular of these is `git`, which we will help you install now.\n",
    "\n",
    "We will not go into much detail regarding `git` here -- there will be a workshop later on. For now we just want to help you with the installation. In the process, you'll also install the command-line developer tools, which you are likely to use in the future if you need to do any development outside of Python.\n",
    "\n",
    "To install `git`, follow these steps:\n",
    "\n",
    "* open up a terminal and type `git --version`\n",
    "* click \"Install\" in the dialog box that opens up asking whether to install the command-line developer tools; accept the license agreement\n",
    "  * explanation: `git`, as well as a C and C++ compiler and a few other tools, are included in the developer tools, but these are not installed by default; attempting to run `git` lets MacOS know that you want those tools, and so it gives you the chance to install them\n",
    "* **note: expect the installation to take about half an hour!**\n",
    "\n",
    "Test the installation by trying to get the `git` version again:\n",
    "\n",
    "    % git --version\n",
    "    git version 2.30.1 (Apple Git-130)\n",
    "\n",
    "*It is easy to confuse `git` with GitHub, but they are different, though related, things. `git` is an application that runs locally, on your computer. It can keep track of older versions of your files by using a database (called a \"repository\") located on your own computer's storage. GitHub is a website used for hosting `git` repositories -- like the one where you're reading these instructions from right now. You can use `git` to \"clone\" a remote repository (e.g., one located on GitHub) into your own local storage.* "
   ]
  },
  {
   "cell_type": "markdown",
   "metadata": {},
   "source": [
    "## You're ready to go!\n",
    "\n",
    "We'll start putting all of this in practice tomorrow when we start working in Python. For now, if you have any questions, don't hesitate to ask us!"
   ]
  },
  {
   "cell_type": "markdown",
   "metadata": {},
   "source": []
  }
 ],
 "metadata": {
  "language_info": {
   "name": "python"
  },
  "orig_nbformat": 4
 },
 "nbformat": 4,
 "nbformat_minor": 2
}
