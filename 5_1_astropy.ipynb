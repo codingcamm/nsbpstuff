{
 "cells": [
  {
   "cell_type": "markdown",
   "id": "c869f9b5-353f-47b6-9afe-baadd1a10264",
   "metadata": {},
   "source": [
    "# Astropy\n",
    "\n",
    "Astropy contains tons of useful tools for astronomy and astrophysics.\n",
    "\n",
    "Some of the things that can accomplished through astropy are:\n",
    "\n",
    "* Visualizing astronomical images stored in FITS files (FITS files are a common file format in astronomy).\n",
    "* Handling data stored in FITS tables.\n",
    "* Using different coordinate systems.\n",
    "* Defining and converting between arithmetic and physical quantities.\n",
    "* Fitting models to data.\n",
    "\n",
    "To install astropy, run the following in the terminal:\n",
    "\n",
    "* conda install --name nsbp-2022 astropy\n",
    "\n",
    "* conda activate nsbp-2022\n",
    "\n",
    "### Working with units\n",
    "\n",
    "astropy.units handles defining, converting between, and performing arithmetic with physical quantities, such as meters, seconds, Hz, etc. It also handles logarithmic units such as magnitude and decibel.\n",
    "This subpackage allows you to attach units to scalars and arrays. These quantities can be manipulated or combined, while keeping track of the units.\n",
    "First, let's import the right subpackage:"
   ]
  },
  {
   "cell_type": "code",
   "execution_count": 6,
   "id": "adba3948-3923-4f15-8fa7-04d9938043b8",
   "metadata": {},
   "outputs": [],
   "source": [
    "import astropy.units as u\n",
    "import numpy as np"
   ]
  },
  {
   "cell_type": "markdown",
   "id": "29886345-b463-4bdc-a898-15b3d2d00c41",
   "metadata": {},
   "source": [
    "If you wanted to load the unit meters, you would do the following:"
   ]
  },
  {
   "cell_type": "code",
   "execution_count": 8,
   "id": "598ee052-c7a5-4a9b-9d14-459a4ceb469f",
   "metadata": {},
   "outputs": [
    {
     "data": {
      "text/latex": [
       "$\\mathrm{m}$"
      ],
      "text/plain": [
       "Unit(\"m\")"
      ]
     },
     "execution_count": 8,
     "metadata": {},
     "output_type": "execute_result"
    }
   ],
   "source": [
    "u.m"
   ]
  },
  {
   "cell_type": "markdown",
   "id": "172d3566-a2d9-46d8-898c-f3b509c3054e",
   "metadata": {},
   "source": [
    "#### Exercise\n",
    "\n",
    "See this link for a list of all available units in astropy: https://docs.astropy.org/en/stable/units/index.html#module-astropy.units.si\n",
    "Load the following units to this notebook:\n",
    "* parsec\n",
    "\n",
    "* Jansky\n",
    "\n",
    "* Solar mass\n",
    "\n",
    "* Astronomical unit (AU)\n",
    "\n",
    "Run a quick wikipedia search to learn a little bit about these units."
   ]
  },
  {
   "cell_type": "code",
   "execution_count": 9,
   "id": "13f7671a-5154-4abe-adb9-99ea9895f961",
   "metadata": {},
   "outputs": [],
   "source": [
    "### Your code goes here"
   ]
  },
  {
   "cell_type": "markdown",
   "id": "c92659b8-9c14-482a-a08e-e40207cebaed",
   "metadata": {},
   "source": [
    "You can also create composite units. For example:"
   ]
  },
  {
   "cell_type": "code",
   "execution_count": 11,
   "id": "df9ebc57-d902-490e-afcc-973b3590aacc",
   "metadata": {},
   "outputs": [
    {
     "data": {
      "text/latex": [
       "$\\mathrm{\\frac{m}{kg\\,s^{2}}}$"
      ],
      "text/plain": [
       "Unit(\"m / (kg s2)\")"
      ]
     },
     "execution_count": 11,
     "metadata": {},
     "output_type": "execute_result"
    }
   ],
   "source": [
    "u.m / u.kg / u.s**2"
   ]
  },
  {
   "cell_type": "markdown",
   "id": "be3e0d0e-3e59-440b-9595-f2a91d6f57c8",
   "metadata": {},
   "source": [
    "Moreover, you can attach a number to a unit to make a quantity."
   ]
  },
  {
   "cell_type": "code",
   "execution_count": 12,
   "id": "f9f8d7e6-bd49-4238-b5db-0a099a8c2c7a",
   "metadata": {},
   "outputs": [
    {
     "data": {
      "text/latex": [
       "$3.7 \\; \\mathrm{AU}$"
      ],
      "text/plain": [
       "<Quantity 3.7 AU>"
      ]
     },
     "execution_count": 12,
     "metadata": {},
     "output_type": "execute_result"
    }
   ],
   "source": [
    "3.7 * u.au  # Quantity object = 3.7 astronomical units"
   ]
  },
  {
   "cell_type": "markdown",
   "id": "a456dc9c-9bbb-40c8-b376-ad7f12f9c5db",
   "metadata": {},
   "source": [
    "#### Exercise\n",
    "\n",
    "* Create a quantity for 1.4 solar masses and saver it under the variable name *mass_star*\n",
    "* Create a quantity for 0.001 Janskys and save it under the variable name *brightness*\n"
   ]
  },
  {
   "cell_type": "code",
   "execution_count": 15,
   "id": "c02dfedf-fa3b-46c8-9506-0526e6537d84",
   "metadata": {},
   "outputs": [],
   "source": [
    "### your code goes here"
   ]
  },
  {
   "cell_type": "markdown",
   "id": "bfda8e1d-481f-4322-94b5-9cdf9319ccf5",
   "metadata": {},
   "source": [
    "You can convert between units. For example, if you wanted to convert 3 solar masses to kilograms, you could run the following:"
   ]
  },
  {
   "cell_type": "code",
   "execution_count": 16,
   "id": "02c6bd80-7566-4ce3-a354-c08e81981db5",
   "metadata": {},
   "outputs": [
    {
     "data": {
      "text/latex": [
       "$5.9652296 \\times 10^{30} \\; \\mathrm{kg}$"
      ],
      "text/plain": [
       "<Quantity 5.96522961e+30 kg>"
      ]
     },
     "execution_count": 16,
     "metadata": {},
     "output_type": "execute_result"
    }
   ],
   "source": [
    "b=3 *u.solMass # original quantity & unit in solar masses\n",
    "b.to(u.kg) #converting to kilograms"
   ]
  },
  {
   "cell_type": "markdown",
   "id": "7528adfd-4fa4-40b4-a070-dd840cfaad6e",
   "metadata": {},
   "source": [
    "#### Exercise\n",
    "\n",
    "Make a quantity called dist_to_sun that is equal to 4.5 AU (astronomical units). Convert it to meters"
   ]
  },
  {
   "cell_type": "code",
   "execution_count": 17,
   "id": "7ef0fcdc-94c0-4de7-a292-d4b03696578a",
   "metadata": {},
   "outputs": [],
   "source": [
    "### your code goes here"
   ]
  },
  {
   "cell_type": "markdown",
   "id": "c2b825cb-8c33-4139-bacc-0e5a7e43da82",
   "metadata": {},
   "source": [
    "#### Exercise\n",
    "\n",
    "Can you conver the quantity dist_to_sun to kilograms? Why or why not?"
   ]
  },
  {
   "cell_type": "markdown",
   "id": "673c407a-133c-472a-a5a0-4897aed46d73",
   "metadata": {},
   "source": [
    "### Working with physical constants\n",
    "\n",
    "The astropy.constants module contains physical constants relevant for astronomy. They are defined as Quantity objects using the astropy.units.\n",
    "\n"
   ]
  },
  {
   "cell_type": "code",
   "execution_count": 18,
   "id": "07f600f4-4300-47a9-9dbb-a8d33b69cd16",
   "metadata": {},
   "outputs": [],
   "source": [
    "from astropy import constants as const"
   ]
  },
  {
   "cell_type": "markdown",
   "id": "4331b456-2b09-45d8-a600-9b2e850f8587",
   "metadata": {},
   "source": [
    "You can load constants like the speed of light, or Newton's gravitational constant, or Planck's constant. For a full list of all available constants, see: https://docs.astropy.org/en/stable/constants/index.html"
   ]
  },
  {
   "cell_type": "code",
   "execution_count": 20,
   "id": "82a0f4e5-ab9e-4e92-b32a-9883d23cbff9",
   "metadata": {},
   "outputs": [
    {
     "data": {
      "text/latex": [
       "$6.6743 \\times 10^{-11} \\; \\mathrm{\\frac{m^{3}}{kg\\,s^{2}}}$"
      ],
      "text/plain": [
       "<<class 'astropy.constants.codata2018.CODATA2018'> name='Gravitational constant' value=6.6743e-11 uncertainty=1.5e-15 unit='m3 / (kg s2)' reference='CODATA 2018'>"
      ]
     },
     "execution_count": 20,
     "metadata": {},
     "output_type": "execute_result"
    }
   ],
   "source": [
    "const.G #Gravitational constant = number and units!\n"
   ]
  },
  {
   "cell_type": "markdown",
   "id": "0a0d51ce-e04d-4650-937c-50fecd602820",
   "metadata": {},
   "source": [
    "#### Exercise\n",
    "\n",
    "Load the following constants:\n",
    "\n",
    "* Mass of the electron\n",
    "\n",
    "* Stefan-Boltzmann constant\n",
    "\n",
    "* Avogadro’s number"
   ]
  },
  {
   "cell_type": "code",
   "execution_count": 21,
   "id": "94a0fff4-f5fb-4478-8f16-9f93d922711f",
   "metadata": {},
   "outputs": [],
   "source": [
    "### your solution goes here"
   ]
  },
  {
   "cell_type": "markdown",
   "id": "888a324c-fac2-4a22-b139-2479cce16bf0",
   "metadata": {},
   "source": [
    "#### Exercise\n",
    "\n",
    "Let's estimate the (circular) orbital speed of the Earth around the Sun using Kepler's Law:\n",
    "\n",
    "$ v = \\sqrt{\\frac{G M_{\\odot}}{r}}$ \n",
    "\n",
    "Use astropy and units constants to calculate this, save it under the variable name *v*:\n",
    "\n",
    "Recall G is the gravitational constant, $M_{odot}$ is the solar mass and r is the average distance between the Sun and the earth, which is equal to 1 AU (Astronomical Unit)."
   ]
  },
  {
   "cell_type": "code",
   "execution_count": 23,
   "id": "0e452270-390d-415e-b0a5-30eba5d1f299",
   "metadata": {},
   "outputs": [],
   "source": [
    "## your code goes here"
   ]
  },
  {
   "cell_type": "markdown",
   "id": "bd7405ba-f9fb-4078-a0eb-4f55de50f95a",
   "metadata": {},
   "source": [
    "What are the unit of *v*? Whatever they are, you should be able to convert them to more standard valocity units, like meters/second.\n",
    "\n",
    "#### Exercise\n",
    "\n",
    "Convert *v* to units of meters per second."
   ]
  },
  {
   "cell_type": "code",
   "execution_count": 24,
   "id": "2e46fb73-0ecd-445c-a0be-a6ebf5c8a8c6",
   "metadata": {},
   "outputs": [],
   "source": [
    "## your code goes here"
   ]
  },
  {
   "cell_type": "markdown",
   "id": "ee079772-11c6-4238-b55e-22f7e9786c79",
   "metadata": {},
   "source": [
    "### Viewing and manipulating FITS images"
   ]
  },
  {
   "cell_type": "markdown",
   "id": "ba83fff7-0dc1-4668-86e1-e03dc07f2b60",
   "metadata": {},
   "source": [
    "Astronomers usually save images of their data in FITS files. Why don't they save these images as JPEGs or PNGs? Because FITS files allows them to save more information about the astronomical data, such as the location in the sky of the object observed, the units of the data, etc. \n",
    "\n",
    "Let's go through an example to see this in action. First, import the relevant astropy subpackage:"
   ]
  },
  {
   "cell_type": "code",
   "execution_count": 25,
   "id": "45071110-aea2-4a85-86c8-a8cf520ccc6d",
   "metadata": {},
   "outputs": [],
   "source": [
    "import matplotlib.pyplot as plt\n",
    "%matplotlib inline\n",
    "\n",
    "from astropy.io import fits"
   ]
  },
  {
   "cell_type": "markdown",
   "id": "6da7ec8d-3611-41a8-8151-159569ca230c",
   "metadata": {},
   "source": [
    "We will use a FITS file available in this website: http://data.astropy.org/tutorials/FITS-images/HorseHead.fits\n",
    "\n",
    "To download the file from this jupyter notebook, run the following:"
   ]
  },
  {
   "cell_type": "code",
   "execution_count": 26,
   "id": "fcc80461-97e0-4024-9f5e-9f28552f755b",
   "metadata": {},
   "outputs": [],
   "source": [
    "from astropy.utils.data import download_file\n",
    "image_file = download_file('http://data.astropy.org/tutorials/FITS-images/HorseHead.fits', cache=True )"
   ]
  },
  {
   "cell_type": "markdown",
   "id": "17e106d7-2c23-4d77-92d6-a8f28f1ddf05",
   "metadata": {},
   "source": [
    "Let's open the FITS file to find out what it contains."
   ]
  },
  {
   "cell_type": "code",
   "execution_count": 28,
   "id": "0afeed58-c6d7-4391-8f6a-006916fe3490",
   "metadata": {},
   "outputs": [
    {
     "name": "stdout",
     "output_type": "stream",
     "text": [
      "Filename: /Users/karenperezsarmiento/.astropy/cache/download/url/ff6e0b93871033c68022ca026a956d87/contents\n",
      "No.    Name      Ver    Type      Cards   Dimensions   Format\n",
      "  0  PRIMARY       1 PrimaryHDU     161   (891, 893)   int16   \n",
      "  1  er.mask       1 TableHDU        25   1600R x 4C   [F6.2, F6.2, F6.2, F6.2]   \n"
     ]
    }
   ],
   "source": [
    "hdu_list = fits.open(image_file)\n",
    "hdu_list.info()"
   ]
  },
  {
   "cell_type": "markdown",
   "id": "4bd83d13-59f3-4082-8233-c3d98d24add9",
   "metadata": {},
   "source": [
    "Generally, the image information is located in the PRIMARY block. The blocks are numbered and can be accessed by indexing hdu_list."
   ]
  },
  {
   "cell_type": "code",
   "execution_count": 34,
   "id": "9c6ea797-3a62-4235-9da9-42ef88d5913c",
   "metadata": {},
   "outputs": [],
   "source": [
    "image_data = hdu_list[0].data"
   ]
  },
  {
   "cell_type": "markdown",
   "id": "20723938-7074-4fd7-9050-cc7a0708310e",
   "metadata": {},
   "source": [
    "If you want to get information about the data inside the FITS file you just downloaded, run the following"
   ]
  },
  {
   "cell_type": "code",
   "execution_count": 37,
   "id": "127fc501-a6c8-4f0e-8517-b9d018e81a44",
   "metadata": {},
   "outputs": [
    {
     "data": {
      "text/plain": [
       "SIMPLE  =                    T /FITS: Compliance                                \n",
       "BITPIX  =                   16 /FITS: I*2 Data                                  \n",
       "NAXIS   =                    2 /FITS: 2-D Image Data                            \n",
       "NAXIS1  =                  891 /FITS: X Dimension                               \n",
       "NAXIS2  =                  893 /FITS: Y Dimension                               \n",
       "EXTEND  =                    T /FITS: File can contain extensions               \n",
       "DATE    = '2014-01-09        '  /FITS: Creation Date                            \n",
       "ORIGIN  = 'STScI/MAST'         /GSSS: STScI Digitized Sky Survey                \n",
       "SURVEY  = 'SERC-ER '           /GSSS: Sky Survey                                \n",
       "REGION  = 'ER768   '           /GSSS: Region Name                               \n",
       "PLATEID = 'A0JP    '           /GSSS: Plate ID                                  \n",
       "SCANNUM = '01      '           /GSSS: Scan Number                               \n",
       "DSCNDNUM= '00      '           /GSSS: Descendant Number                         \n",
       "TELESCID=                    4 /GSSS: Telescope ID                              \n",
       "BANDPASS=                   36 /GSSS: Bandpass Code                             \n",
       "COPYRGHT= 'AAO/ROE '           /GSSS: Copyright Holder                          \n",
       "SITELAT =              -31.277 /Observatory: Latitude                           \n",
       "SITELONG=              210.934 /Observatory: Longitude                          \n",
       "TELESCOP= 'UK Schmidt - Doubl' /Observatory: Telescope                          \n",
       "INSTRUME= 'Photographic Plate' /Detector: Photographic Plate                    \n",
       "EMULSION= 'IIIaF   '           /Detector: Emulsion                              \n",
       "FILTER  = 'OG590   '           /Detector: Filter                                \n",
       "PLTSCALE=                67.20 /Detector: Plate Scale arcsec per mm             \n",
       "PLTSIZEX=              355.000 /Detector: Plate X Dimension mm                  \n",
       "PLTSIZEY=              355.000 /Detector: Plate Y Dimension mm                  \n",
       "PLATERA =        85.5994550000 /Observation: Field centre RA degrees            \n",
       "PLATEDEC=       -4.94660910000 /Observation: Field centre Dec degrees           \n",
       "PLTLABEL= 'OR14052 '           /Observation: Plate Label                        \n",
       "DATE-OBS= '1990-12-22T13:49:00' /Observation: Date/Time                         \n",
       "EXPOSURE=                 65.0 /Observation: Exposure Minutes                   \n",
       "PLTGRADE= 'AD2     '           /Observation: Plate Grade                        \n",
       "OBSHA   =             0.158333 /Observation: Hour Angle                         \n",
       "OBSZD   =              26.3715 /Observation: Zenith Distance                    \n",
       "AIRMASS =              1.11587 /Observation: Airmass                            \n",
       "REFBETA =        66.3196420000 /Observation: Refraction Coeff                   \n",
       "REFBETAP=     -0.0820000000000 /Observation: Refraction Coeff                   \n",
       "REFK1   =        6423.52290000 /Observation: Refraction Coeff                   \n",
       "REFK2   =       -102122.550000 /Observation: Refraction Coeff                   \n",
       "CNPIX1  =                12237 /Scan: X Corner                                  \n",
       "CNPIX2  =                19965 /Scan: Y Corner                                  \n",
       "XPIXELS =                23040 /Scan: X Dimension                               \n",
       "YPIXELS =                23040 /Scan: Y Dimension                               \n",
       "XPIXELSZ=              15.0295 /Scan: Pixel Size microns                        \n",
       "YPIXELSZ=              15.0000 /Scan: Pixel Size microns                        \n",
       "PPO1    =       -3069417.00000 /Scan: Orientation Coeff                         \n",
       "PPO2    =       0.000000000000 /Scan: Orientation Coeff                         \n",
       "PPO3    =        177500.000000 /Scan: Orientation Coeff                         \n",
       "PPO4    =       0.000000000000 /Scan: Orientation Coeff                         \n",
       "PPO5    =        3069417.00000 /Scan: Orientation Coeff                         \n",
       "PPO6    =        177500.000000 /Scan: Orientation Coeff                         \n",
       "PLTRAH  =                    5 /Astrometry: Plate Centre H                      \n",
       "PLTRAM  =                   42 /Astrometry: Plate Centre M                      \n",
       "PLTRAS  =                23.86 /Astrometry: Plate Centre S                      \n",
       "PLTDECSN= '-       '           /Astrometry: Plate Centre +/-                    \n",
       "PLTDECD =                    4 /Astrometry: Plate Centre D                      \n",
       "PLTDECM =                   56 /Astrometry: Plate Centre M                      \n",
       "PLTDECS =                 47.9 /Astrometry: Plate Centre S                      \n",
       "EQUINOX =               2000.0 /Astrometry: Equinox                             \n",
       "AMDX1   =        67.1550859799 /Astrometry: GSC1 Coeff                          \n",
       "AMDX2   =      0.0431478884485 /Astrometry: GSC1 Coeff                          \n",
       "AMDX3   =       -292.435619180 /Astrometry: GSC1 Coeff                          \n",
       "AMDX4   =  -2.68934864702E-005 /Astrometry: GSC1 Coeff                          \n",
       "AMDX5   =   1.99133423290E-005 /Astrometry: GSC1 Coeff                          \n",
       "AMDX6   =  -2.37011931379E-006 /Astrometry: GSC1 Coeff                          \n",
       "AMDX7   =       0.000000000000 /Astrometry: GSC1 Coeff                          \n",
       "AMDX8   =   2.21426387429E-006 /Astrometry: GSC1 Coeff                          \n",
       "AMDX9   =  -8.12841581455E-008 /Astrometry: GSC1 Coeff                          \n",
       "AMDX10  =   2.48169090021E-006 /Astrometry: GSC1 Coeff                          \n",
       "AMDX11  =   2.77618933926E-008 /Astrometry: GSC1 Coeff                          \n",
       "AMDX12  =       0.000000000000 /Astrometry: GSC1 Coeff                          \n",
       "AMDX13  =       0.000000000000 /Astrometry: GSC1 Coeff                          \n",
       "AMDX14  =       0.000000000000 /Astrometry: GSC1 Coeff                          \n",
       "AMDX15  =       0.000000000000 /Astrometry: GSC1 Coeff                          \n",
       "AMDX16  =       0.000000000000 /Astrometry: GSC1 Coeff                          \n",
       "AMDX17  =       0.000000000000 /Astrometry: GSC1 Coeff                          \n",
       "AMDX18  =       0.000000000000 /Astrometry: GSC1 Coeff                          \n",
       "AMDX19  =       0.000000000000 /Astrometry: GSC1 Coeff                          \n",
       "AMDX20  =       0.000000000000 /Astrometry: GSC1 Coeff                          \n",
       "AMDY1   =        67.1593591466 /Astrometry: GSC1 Coeff                          \n",
       "AMDY2   =     -0.0471363749174 /Astrometry: GSC1 Coeff                          \n",
       "AMDY3   =        316.004963520 /Astrometry: GSC1 Coeff                          \n",
       "AMDY4   =   2.86798151430E-005 /Astrometry: GSC1 Coeff                          \n",
       "AMDY5   =  -2.00968236347E-005 /Astrometry: GSC1 Coeff                          \n",
       "AMDY6   =   2.27840393227E-005 /Astrometry: GSC1 Coeff                          \n",
       "AMDY7   =       0.000000000000 /Astrometry: GSC1 Coeff                          \n",
       "AMDY8   =   2.23885090381E-006 /Astrometry: GSC1 Coeff                          \n",
       "AMDY9   =  -2.28360163464E-008 /Astrometry: GSC1 Coeff                          \n",
       "AMDY10  =   2.44828851495E-006 /Astrometry: GSC1 Coeff                          \n",
       "AMDY11  =  -5.76717487998E-008 /Astrometry: GSC1 Coeff                          \n",
       "AMDY12  =       0.000000000000 /Astrometry: GSC1 Coeff                          \n",
       "AMDY13  =       0.000000000000 /Astrometry: GSC1 Coeff                          \n",
       "AMDY14  =       0.000000000000 /Astrometry: GSC1 Coeff                          \n",
       "AMDY15  =       0.000000000000 /Astrometry: GSC1 Coeff                          \n",
       "AMDY16  =       0.000000000000 /Astrometry: GSC1 Coeff                          \n",
       "AMDY17  =       0.000000000000 /Astrometry: GSC1 Coeff                          \n",
       "AMDY18  =       0.000000000000 /Astrometry: GSC1 Coeff                          \n",
       "AMDY19  =       0.000000000000 /Astrometry: GSC1 Coeff                          \n",
       "AMDY20  =       0.000000000000 /Astrometry: GSC1 Coeff                          \n",
       "AMDREX1 =        67.1532034737 /Astrometry: GSC2 Coeff                          \n",
       "AMDREX2 =      0.0434354199559 /Astrometry: GSC2 Coeff                          \n",
       "AMDREX3 =       -292.435438892 /Astrometry: GSC2 Coeff                          \n",
       "AMDREX4 =   4.60919247070E-006 /Astrometry: GSC2 Coeff                          \n",
       "AMDREX5 =  -3.21138058537E-006 /Astrometry: GSC2 Coeff                          \n",
       "AMDREX6 =   7.23651736725E-006 /Astrometry: GSC2 Coeff                          \n",
       "AMDREX7 =       0.000000000000 /Astrometry: GSC2 Coeff                          \n",
       "AMDREX8 =       0.000000000000 /Astrometry: GSC2 Coeff                          \n",
       "AMDREX9 =       0.000000000000 /Astrometry: GSC2 Coeff                          \n",
       "AMDREX10=       0.000000000000 /Astrometry: GSC2 Coeff                          \n",
       "AMDREX11=       0.000000000000 /Astrometry: GSC2 Coeff                          \n",
       "AMDREX12=       0.000000000000 /Astrometry: GSC2 Coeff                          \n",
       "AMDREX13=       0.000000000000 /Astrometry: GSC2 Coeff                          \n",
       "AMDREX14=       0.000000000000 /Astrometry: GSC2 Coeff                          \n",
       "AMDREX15=       0.000000000000 /Astrometry: GSC2 Coeff                          \n",
       "AMDREX16=       0.000000000000 /Astrometry: GSC2 Coeff                          \n",
       "AMDREX17=       0.000000000000 /Astrometry: GSC2 Coeff                          \n",
       "AMDREX18=       0.000000000000 /Astrometry: GSC2 Coeff                          \n",
       "AMDREX19=       0.000000000000 /Astrometry: GSC2 Coeff                          \n",
       "AMDREX20=       0.000000000000 /Astrometry: GSC2 Coeff                          \n",
       "AMDREY1 =        67.1522589487 /Astrometry: GSC2 Coeff                          \n",
       "AMDREY2 =     -0.0481758265285 /Astrometry: GSC2 Coeff                          \n",
       "AMDREY3 =        315.995683716 /Astrometry: GSC2 Coeff                          \n",
       "AMDREY4 =  -7.47397531230E-006 /Astrometry: GSC2 Coeff                          \n",
       "AMDREY5 =   9.55221105409E-007 /Astrometry: GSC2 Coeff                          \n",
       "AMDREY6 =   7.60954485251E-006 /Astrometry: GSC2 Coeff                          \n",
       "AMDREY7 =       0.000000000000 /Astrometry: GSC2 Coeff                          \n",
       "AMDREY8 =       0.000000000000 /Astrometry: GSC2 Coeff                          \n",
       "AMDREY9 =       0.000000000000 /Astrometry: GSC2 Coeff                          \n",
       "AMDREY10=       0.000000000000 /Astrometry: GSC2 Coeff                          \n",
       "AMDREY11=       0.000000000000 /Astrometry: GSC2 Coeff                          \n",
       "AMDREY12=       0.000000000000 /Astrometry: GSC2 Coeff                          \n",
       "AMDREY13=       0.000000000000 /Astrometry: GSC2 Coeff                          \n",
       "AMDREY14=       0.000000000000 /Astrometry: GSC2 Coeff                          \n",
       "AMDREY15=       0.000000000000 /Astrometry: GSC2 Coeff                          \n",
       "AMDREY16=       0.000000000000 /Astrometry: GSC2 Coeff                          \n",
       "AMDREY17=       0.000000000000 /Astrometry: GSC2 Coeff                          \n",
       "AMDREY18=       0.000000000000 /Astrometry: GSC2 Coeff                          \n",
       "AMDREY19=       0.000000000000 /Astrometry: GSC2 Coeff                          \n",
       "AMDREY20=       0.000000000000 /Astrometry: GSC2 Coeff                          \n",
       "ASTRMASK= 'er.mask '           /Astrometry: GSC2 Mask                           \n",
       "WCSAXES =                    2 /GetImage: Number WCS axes                       \n",
       "WCSNAME = 'DSS               ' /GetImage: Local WCS approximation from full plat\n",
       "RADESYS = 'ICRS              ' /GetImage: GSC-II calibration using ICRS system  \n",
       "CTYPE1  = 'RA---TAN          ' /GetImage: RA-Gnomic projection                  \n",
       "CRPIX1  =           446.000000 /GetImage: X reference pixel                     \n",
       "CRVAL1  =            85.274970 /GetImage: RA of reference pixel                 \n",
       "CUNIT1  = 'deg               ' /GetImage: degrees                               \n",
       "CTYPE2  = 'DEC--TAN          ' /GetImage: Dec-Gnomic projection                 \n",
       "CRPIX2  =           447.000000 /GetImage: Y reference pixel                     \n",
       "CRVAL2  =            -2.458265 /GetImage: Dec of reference pixel                \n",
       "CUNIT2  = 'deg               ' /Getimage: degrees                               \n",
       "CD1_1   =        -0.0002802651 /GetImage: rotation matrix coefficient           \n",
       "CD1_2   =         0.0000003159 /GetImage: rotation matrix coefficient           \n",
       "CD2_1   =         0.0000002767 /GetImage: rotation matrix coefficient           \n",
       "CD2_2   =         0.0002798187 /GetImage: rotation matrix coefficient           \n",
       "OBJECT  = 'data              ' /GetImage: Requested Object Name                 \n",
       "DATAMIN =                 3759 /GetImage: Minimum returned pixel value          \n",
       "DATAMAX =                22918 /GetImage: Maximum returned pixel value          \n",
       "OBJCTRA = '05 41 06.000      ' /GetImage: Requested Right Ascension (J2000)     \n",
       "OBJCTDEC= '-02 27 30.00      ' /GetImage: Requested Declination (J2000)         \n",
       "OBJCTX  =             12682.48 /GetImage: Requested X on plate (pixels)         \n",
       "OBJCTY  =             20411.37 /GetImage: Requested Y on plate (pixels)         "
      ]
     },
     "execution_count": 37,
     "metadata": {},
     "output_type": "execute_result"
    }
   ],
   "source": [
    "hdu_list[0].header"
   ]
  },
  {
   "cell_type": "markdown",
   "id": "46bf7533-2d79-423b-acfa-fd2ad65bd2ad",
   "metadata": {},
   "source": [
    "#### Exercise\n",
    "\n",
    "From the table above, what telescope was used to collect the data inside this FITS file?\n",
    "What was the exposure for this image?\n",
    "What is the airmass value? Run a quick wikipedia search to learn what airmass is."
   ]
  },
  {
   "cell_type": "markdown",
   "id": "cec65c6d-c832-4d1b-8287-df53d78ca8b0",
   "metadata": {},
   "source": [
    "Answer here:\n",
    "\n"
   ]
  },
  {
   "cell_type": "markdown",
   "id": "693fa1b9-0663-4023-86f6-8abca823eb4c",
   "metadata": {},
   "source": [
    "You might be wondering, what does the data look like? Is it actually an image? How can I see it?\n",
    "Run the following to see what the data looks like:"
   ]
  },
  {
   "cell_type": "code",
   "execution_count": 38,
   "id": "1aefa937-a93c-473b-9e40-bf613bd5770e",
   "metadata": {},
   "outputs": [
    {
     "data": {
      "text/plain": [
       "<matplotlib.colorbar.Colorbar at 0x7fccbb8306d0>"
      ]
     },
     "execution_count": 38,
     "metadata": {},
     "output_type": "execute_result"
    },
    {
     "data": {
      "image/png": "[encoded data removed]",
      "text/plain": [
       "<Figure size 432x288 with 2 Axes>"
      ]
     },
     "metadata": {
      "needs_background": "light"
     },
     "output_type": "display_data"
    }
   ],
   "source": [
    "plt.imshow(image_data, cmap='gray')\n",
    "plt.colorbar()\n"
   ]
  },
  {
   "cell_type": "markdown",
   "id": "dbe1ffca-a042-4001-8825-e0118364d54c",
   "metadata": {},
   "source": [
    "If you want more practice on astropy, go to this site: https://learn.astropy.org/"
   ]
  }
 ],
 "metadata": {
  "kernelspec": {
   "display_name": "Python 3 (ipykernel)",
   "language": "python",
   "name": "python3"
  },
  "language_info": {
   "codemirror_mode": {
    "name": "ipython",
    "version": 3
   },
   "file_extension": ".py",
   "mimetype": "text/x-python",
   "name": "python",
   "nbconvert_exporter": "python",
   "pygments_lexer": "ipython3",
   "version": "3.8.11"
  }
 },
 "nbformat": 4,
 "nbformat_minor": 5
}
