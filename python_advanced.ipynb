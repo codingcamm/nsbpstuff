{
 "cells": [
  {
   "cell_type": "markdown",
   "metadata": {},
   "source": [
    "# Advanced python features\n",
    "\n",
    "In this notebook, we will get a taste of some slightly more advanced python concepts. We will start with recursive functions and see some basic applications. We will then move to classes, a way to define a sort of 'storing box' where you can collect attributes of an object and methods that act on those attributes. Finally, we will learn about one way of building animations using Matplotlib.\n",
    "\n",
    "We start with all the relevant `import`s, as before."
   ]
  },
  {
   "cell_type": "code",
   "execution_count": null,
   "metadata": {},
   "outputs": [],
   "source": [
    "import numpy as np\n",
    "import matplotlib.pyplot as plt\n",
    "from matplotlib import animation\n",
    "from IPython.display import HTML"
   ]
  },
  {
   "cell_type": "markdown",
   "metadata": {},
   "source": [
    "## 1. Recursive functions\n",
    "\n",
    "These are functions that call themselves. Some examples that you might know from math classes include the definition of the Fibonacci series and the factorial.\n",
    "\n",
    "Briefly, the Fibonacci series is a sequence of numbers in which each entry is the sum of the previous two entries: $0$, $1$, $1+0=1$, $1+1=2$, $1+2=3$, etc...\n",
    "\n",
    "The factorial of $n$ ($n!$) is given by the product of all integers smaller than or equal to $n$: $1!=1$, $2!=1\\times 2$, $3!=1\\times 2\\times 3$, etc... Note that $0!=1$ and that factorials are defined for integer numbers only."
   ]
  },
  {
   "cell_type": "code",
   "execution_count": null,
   "metadata": {},
   "outputs": [],
   "source": [
    "# Example of recursive function to compute the Fibonacci entries\n",
    "def recur_fibo(n):  \n",
    "    if n <= 1:  \n",
    "        return n  \n",
    "    else:  \n",
    "        return(recur_fibo(n-1) + recur_fibo(n-2))"
   ]
  },
  {
   "cell_type": "markdown",
   "metadata": {},
   "source": [
    "The code cell below shows another thing you can do in Jupyter: you can ask for input from the user. The code in the cell will wait until the user enters an integer $n$ before calculating the $n^\\text{th}$ Fibonacci number."
   ]
  },
  {
   "cell_type": "code",
   "execution_count": null,
   "metadata": {},
   "outputs": [],
   "source": [
    "# take input from the user\n",
    "nterms = int(input(\"How many terms? \"))\n",
    "# check if the number of terms is valid\n",
    "if nterms <= 0:\n",
    "    print(\"Please enter a positive integer.\")\n",
    "else:\n",
    "    print(\"Fibonacci sequence:\")\n",
    "    for i in range(1, nterms + 1):\n",
    "        print(recur_fibo(i))"
   ]
  },
  {
   "cell_type": "markdown",
   "metadata": {},
   "source": [
    "**Exercise (difficult):** how many times does the `recur_fibo` function call itself if we call it with `recur_fibo(n)`? This will be a function of `n`, and will give an indication of how the run time and memory consumption of the function scales with `n`. Can you think of a way to improve on this while still using a recursive function? Can you think of a way to calculate the Fibonacci numbers without recursion?"
   ]
  },
  {
   "cell_type": "markdown",
   "metadata": {},
   "source": [
    "**Exercise:** write a recursive function to compute the factorial of a number $n$."
   ]
  },
  {
   "cell_type": "markdown",
   "metadata": {},
   "source": [
    "## 2. Classes\n",
    "\n",
    "Python is an object-oriented programming language, meaning that it allows user to easily define and handle \"objects\". Think of a Python object as an abstraction of a real-world object: it has a bunch of properties (just like a car might have a color, a number of doors, engine displacement, etc.) and a bunch of methods, or things you can do with the object (a car would have a way to turn it on or off, a wheel to steer it left or right, an acceleration pedal and a brake pedal, etc.).\n",
    "\n",
    "In order to create objects in Python, we first define a `class`, which is a special kind of data type in Python. A `class` is a template, a kind of recipe that tells Python how to create objects of that class – each object of a given class is generally referred to as an \"instance\" of that class. The class definition tells Python what attributes and methods each object of that class will have. Here's an example that hopefully will make this clear:"
   ]
  },
  {
   "cell_type": "code",
   "execution_count": null,
   "metadata": {},
   "outputs": [],
   "source": [
    "# defining a new class called ExampleClass\n",
    "class ExampleClass:\n",
    "    # each instance will have attributes i, v, c initialized with the values given below\n",
    "    i = 12345\n",
    "    v = 2.4\n",
    "    c = 'z'\n",
    "\n",
    "    # this defines a method that takes in one argument -- self\n",
    "    # self is a special argument that refers to the instance on which the method was\n",
    "    # called; this allows it to access the specific attribute values that are currently\n",
    "    # set for that instance; see the example below\n",
    "    def f(self):\n",
    "        return f\"hello, world {self.c}\"\n",
    "\n",
    "# this is how you create an instance\n",
    "a = ExampleClass()\n",
    "\n",
    "print(\"Accessing variables inside the object a:\")\n",
    "print(\"i\", a.i)\n",
    "print(\"v\", a.v)\n",
    "print(\"c\", a.c)\n",
    "\n",
    "print(\"We can change attributes by assignment:\")\n",
    "a.c = \"cat\"\n",
    "print(\"c\", a.c)\n",
    "\n",
    "print()\n",
    "print(\"Executing a method on the object a:\")\n",
    "print(a.f())\n",
    "\n",
    "print(\"Note that the call to a.f uses the current value of a.c\")\n",
    "\n",
    "print(\"Calling f on a different instance uses that instance's c:\")\n",
    "b = ExampleClass()\n",
    "b.c = \"dog\"\n",
    "print(b.f())"
   ]
  },
  {
   "cell_type": "markdown",
   "metadata": {},
   "source": [
    "Note that by convention, user-defined class names in Python use CamelCase – that is, the first letter of each word in the class name is capitalized.\n",
    "\n",
    "Here's another example that defines more methods, include a non-trivial initializer `__init__`:"
   ]
  },
  {
   "cell_type": "code",
   "execution_count": null,
   "metadata": {},
   "outputs": [],
   "source": [
    "class Square:\n",
    "    \"\"\"This is a class documentation string (docstring).\"\"\"\n",
    "\n",
    "    name = \"square\"\n",
    "\n",
    "    # __init__ is called when you create an instance of the class\n",
    "    # this is often used to initialize object attributes\n",
    "    def __init__(self, l):\n",
    "        self.edge = l\n",
    "\n",
    "    def perimeter(self):\n",
    "        \"\"\"Calculate the shape's perimeter.\"\"\"\n",
    "        return 4 * self.edge\n",
    "\n",
    "    def area(self):\n",
    "        \"\"\"Calculate the shape's area.\"\"\"\n",
    "        return self.edge * self.edge\n",
    "\n",
    "# the following call creates the object a then initializes it by calling a.__init__(4)\n",
    "# you should not call __init__ directly, but always use the syntax below\n",
    "a = Square(4)\n",
    "print(a.edge)\n",
    "print(a.name)\n",
    "print(a.perimeter())\n",
    "print(a.area())\n",
    "print(a)\n",
    "print()\n",
    "\n",
    "b = Square(5)\n",
    "print(b.edge)\n",
    "print(b.name)\n",
    "print(b.perimeter())\n",
    "print(b.area())"
   ]
  },
  {
   "cell_type": "markdown",
   "metadata": {},
   "source": [
    "**Exercise:** create a class that stores names and relevant info (e.g., preferred science topic, NSBP summer program mentor) of the NSBP summer 2022 scholars."
   ]
  },
  {
   "cell_type": "markdown",
   "metadata": {},
   "source": [
    "# Animations\n",
    "\n",
    "Let's try some cool animations now! We start with animating a dot."
   ]
  },
  {
   "cell_type": "code",
   "execution_count": null,
   "metadata": {},
   "outputs": [],
   "source": [
    "# create a figure and axes\n",
    "# this uses the object-oriented Matplotlib interface that we mentioned earlier\n",
    "fig, ax1 = plt.subplots(figsize=(5,5))\n",
    "\n",
    "# set up the axis as needed\n",
    "ax1.set_xlim((0, 10))\n",
    "ax1.set_ylim((0, 10))\n",
    "ax1.set_xlabel('x')\n",
    "ax1.set_ylabel('y')\n",
    "\n",
    "# create objects that will change in the animation. These are\n",
    "# initially empty, and will be given new values for each frame\n",
    "# in the animation.\n",
    "txt_title = ax1.set_title('')\n",
    "pt1, = ax1.plot([], [], 'b.', ms=20)     # ax.plot returns a list of 2D line objects\n",
    "pt2, = ax1.plot([], [], 'b.', ms=20)     # ax.plot returns a list of 2D line objects"
   ]
  },
  {
   "cell_type": "code",
   "execution_count": null,
   "metadata": {},
   "outputs": [],
   "source": [
    "# animation function. This is called for each frame\n",
    "def drawframe(n):\n",
    "    x = n / 10\n",
    "    y = n / 10\n",
    "    pt1.set_data(x, y)\n",
    "    pt2.set_data([], [])\n",
    "    txt_title.set_text('Frame = {0:4d}'.format(n))\n",
    "    return pt1, pt2\n",
    "\n",
    "# blit=True re-draws only the parts that have changed.\n",
    "anim = animation.FuncAnimation(fig, drawframe, frames=100, interval=20, blit=True)\n",
    "\n",
    "# This is needed to show the animation in-line in the notebook. You can also save your animation in e.g. mp4 format.\n",
    "# Browse the web (and the FuncAnimation documentation) for info\n",
    "\n",
    "HTML(anim.to_jshtml())\n",
    "\n",
    "# Hit the play button!"
   ]
  },
  {
   "cell_type": "markdown",
   "metadata": {},
   "source": [
    "Now with a line!"
   ]
  },
  {
   "cell_type": "code",
   "execution_count": null,
   "metadata": {},
   "outputs": [],
   "source": [
    "# create a figure and axes\n",
    "fig, ax1 = plt.subplots(figsize=(5,5))\n",
    "\n",
    "# set up the axis as needed\n",
    "ax1.set_xlim(( 0, 2))            \n",
    "ax1.set_ylim((-2, 2))\n",
    "ax1.set_xlabel('x')\n",
    "ax1.set_ylabel('y')\n",
    "\n",
    "# create objects that will change in the animation. These are\n",
    "# initially empty, and will be given new values for each frame\n",
    "# in the animation.\n",
    "txt_title = ax1.set_title('')\n",
    "line1, = ax1.plot([], [], 'b', lw=2)     # ax.plot returns a list of 2D line objects\n",
    "line2, = ax1.plot([], [], 'b', lw=2)     # ax.plot returns a list of 2D line objects\n",
    "\n",
    "def drawframe(n):\n",
    "    x = np.linspace(0, 2, 1000)\n",
    "    y = x - 2 + n * 0.02\n",
    "    line1.set_data(x, y)\n",
    "    line2.set_data([], [])\n",
    "    txt_title.set_text('Frame = {0:4d}'.format(n))\n",
    "    return (line1,line2)\n",
    "\n",
    "anim = animation.FuncAnimation(fig, drawframe, frames=100, interval=20, blit=True)\n",
    "# if we don't close the figure there will be a stray figure under our animation\n",
    "plt.close(fig)\n",
    "HTML(anim.to_jshtml())"
   ]
  },
  {
   "cell_type": "markdown",
   "metadata": {},
   "source": [
    "Now with some complicated functions! Let's try a circular orbit. We will first animate x-coordinate and y-coordinate as a function of time. In the second panel, we will animate the orbit itself."
   ]
  },
  {
   "cell_type": "code",
   "execution_count": null,
   "metadata": {},
   "outputs": [],
   "source": [
    "# create a figure and axes\n",
    "fig, (ax1, ax2) = plt.subplots(1, 2, figsize=(12, 5))\n",
    "\n",
    "# set up the axes as needed\n",
    "ax1.set_xlim(( 0, 2))\n",
    "ax1.set_ylim((-2, 2))\n",
    "ax1.set_xlabel('Time')\n",
    "ax1.set_ylabel('Magnitude')\n",
    "\n",
    "ax2.set_xlim((-2,2))\n",
    "ax2.set_ylim((-2,2))\n",
    "ax2.set_xlabel('X')\n",
    "ax2.set_ylabel('Y')\n",
    "ax2.set_title('Phase Plane')\n",
    "\n",
    "# create objects that will change in the animation. These are\n",
    "# initially empty, and will be given new values for each frame\n",
    "# in the animation.\n",
    "txt_title = ax1.set_title('')\n",
    "line1, = ax1.plot([], [], 'b', lw=2)     # ax.plot returns a list of 2D line objects\n",
    "line2, = ax1.plot([], [], 'r', lw=2)\n",
    "pt1,   = ax2.plot([], [], 'g.', ms=20)\n",
    "line3, = ax2.plot([], [], 'y', lw=2)\n",
    "\n",
    "ax1.legend(['sin','cos'])\n",
    "\n",
    "def drawframe(n):\n",
    "    x = np.linspace(0, 2, 1000)\n",
    "    y1 = np.sin(2 * np.pi * (x - 0.01 * n))\n",
    "    y2 = np.cos(2 * np.pi * (x - 0.01 * n))\n",
    "    line1.set_data(x, y1)\n",
    "    line2.set_data(x, y2)\n",
    "    line3.set_data(y1[0:50],y2[0:50])\n",
    "    pt1.set_data(y1[0],y2[0])\n",
    "    txt_title.set_text('Frame = {0:4d}'.format(n))\n",
    "    return (line1,line2)\n",
    "\n",
    "anim = animation.FuncAnimation(fig, drawframe, frames=100, interval=20, blit=True)\n",
    "plt.close(fig)\n",
    "HTML(anim.to_jshtml())"
   ]
  },
  {
   "cell_type": "markdown",
   "metadata": {},
   "source": [
    "**Exercise:** create your own animation! How about a spiral?"
   ]
  },
  {
   "cell_type": "markdown",
   "metadata": {},
   "source": [
    "# Acknowledgements\n",
    "\n",
    "This notebook is based on a translation of the Italian version developed by Marco Bortolami, PhD student in the CosmoFE group at Ferrara University. Check Marco's repo for more information: https://github.com/marcobortolami/LearningPythonWithCosmology. The GNU license for Marco's repo is included here as `LICENSE-marco`."
   ]
  },
  {
   "cell_type": "code",
   "execution_count": null,
   "metadata": {},
   "outputs": [],
   "source": []
  }
 ],
 "metadata": {
  "kernelspec": {
   "display_name": "Generic (Python 3)",
   "language": "python",
   "name": "generic"
  },
  "language_info": {
   "codemirror_mode": {
    "name": "ipython",
    "version": 3
   },
   "file_extension": ".py",
   "mimetype": "text/x-python",
   "name": "python",
   "nbconvert_exporter": "python",
   "pygments_lexer": "ipython3",
   "version": "3.8.12"
  }
 },
 "nbformat": 4,
 "nbformat_minor": 4
}
