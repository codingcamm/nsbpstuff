{
 "cells": [
  {
   "cell_type": "markdown",
   "metadata": {},
   "source": [
    "# Recursive functions\n",
    "\n",
    "These are functions that call themselves. Some examples include the Fibonacci series and factorial. \n",
    "\n",
    "The Fibonacci series is a string of numbers in which each entry is the sum of the previous two entries: 1,1+0=1, 1+1=2, 1+2=3, etc...\n",
    "\n",
    "The factorial n (n!) is given by the product of all integers smaller than or equal to n: 1!=1, 2!=1x2, 3!=1x2x3, etc... Note that 0!=1 and that factorials are defined for integer numbers only."
   ]
  },
  {
   "cell_type": "code",
   "execution_count": 1,
   "metadata": {},
   "outputs": [
    {
     "name": "stdout",
     "output_type": "stream",
     "text": [
      "How many terms? 5\n",
      "Fibonacci sequence:\n",
      "1\n",
      "1\n",
      "2\n",
      "3\n",
      "5\n"
     ]
    }
   ],
   "source": [
    "# Example of recursive function to compute the Fibonacci entries\n",
    "def recur_fibo(n):  \n",
    "    if n <= 1:  \n",
    "        return n  \n",
    "    else:  \n",
    "        return(recur_fibo(n-1) + recur_fibo(n-2))  \n",
    "\n",
    "# take input from the user  \n",
    "nterms = int(input(\"How many terms? \"))  \n",
    "# check if the number of terms is valid  \n",
    "if nterms <= 0:  \n",
    "    print(\"Plese enter a positive integer\")  \n",
    "else:  \n",
    "    print(\"Fibonacci sequence:\")  \n",
    "    for i in range(1,nterms+1):  \n",
    "        print(recur_fibo(i))  "
   ]
  },
  {
   "cell_type": "markdown",
   "metadata": {},
   "source": [
    "Exercise: write a recursive function to compute the factorial of a number n requested by user"
   ]
  },
  {
   "cell_type": "markdown",
   "metadata": {},
   "source": [
    "# Classes\n",
    "\n",
    "Classes are slightly more complex objects than simple variables and arrays. Classes allow to store a number of different objects, from variables to arrays to functions and other classes too, within a single framework. Let's have a look!"
   ]
  },
  {
   "cell_type": "code",
   "execution_count": 2,
   "metadata": {},
   "outputs": [
    {
     "name": "stdout",
     "output_type": "stream",
     "text": [
      "Storing variables inside my class a\n",
      "12345\n",
      "2.4\n",
      "z\n",
      "\n",
      "Executing the function defined in my class a\n",
      "meow\n",
      "hello world\n"
     ]
    }
   ],
   "source": [
    "class ExampleClass:\n",
    "    i = 12345\n",
    "    v = 2.4\n",
    "    c = 'z'\n",
    "    def f(self):\n",
    "        print('meow')\n",
    "        return 'hello world'\n",
    "\n",
    "a = ExampleClass()\n",
    "print(\"Storing variables inside my class a\")\n",
    "print(a.i)\n",
    "print(a.v)\n",
    "print(a.c)\n",
    "print(\"\")\n",
    "print(\"Executing the function defined in my class a\")\n",
    "print(a.f())"
   ]
  },
  {
   "cell_type": "code",
   "execution_count": 3,
   "metadata": {},
   "outputs": [
    {
     "name": "stdout",
     "output_type": "stream",
     "text": [
      "4\n",
      "square\n",
      "16\n",
      "16\n",
      "<__main__.square object at 0x10e56a3c8>\n",
      "\n",
      "5\n",
      "square\n",
      "20\n",
      "25\n"
     ]
    }
   ],
   "source": [
    "class square:\n",
    "    \"\"\"This is a documentation string\"\"\"\n",
    "\n",
    "    name = \"square\"\n",
    "\n",
    "    def __init__(self,l):\n",
    "        self.edge = l\n",
    "\n",
    "    def perimeter(self):\n",
    "        return 4*self.edge\n",
    "\n",
    "    def area(self):\n",
    "        return self.edge*self.edge\n",
    "\n",
    "a = square(4)\n",
    "print(a.edge)\n",
    "print(a.name)\n",
    "print(a.perimeter())\n",
    "print(a.area())\n",
    "print(a)\n",
    "print(\"\")\n",
    "\n",
    "b = square(5)\n",
    "print(b.edge)\n",
    "print(b.name)\n",
    "print(b.perimeter())\n",
    "print(b.area())"
   ]
  },
  {
   "cell_type": "markdown",
   "metadata": {},
   "source": [
    "Exercise: create a class that stores names and relevant info (e.g., preferred science topic, nsbp summer program mentor) of the nsbp summer 2022 scholars."
   ]
  }
 ],
 "metadata": {
  "kernelspec": {
   "display_name": "Python 3",
   "language": "python",
   "name": "python3"
  },
  "language_info": {
   "codemirror_mode": {
    "name": "ipython",
    "version": 3
   },
   "file_extension": ".py",
   "mimetype": "text/x-python",
   "name": "python",
   "nbconvert_exporter": "python",
   "pygments_lexer": "ipython3",
   "version": "3.7.3"
  }
 },
 "nbformat": 4,
 "nbformat_minor": 4
}
